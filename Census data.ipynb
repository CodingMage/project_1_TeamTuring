{
 "cells": [
  {
   "cell_type": "code",
   "execution_count": null,
   "metadata": {},
   "outputs": [],
   "source": [
    "import numpy as np\n",
    "import pandas as pd\n",
    "import matplotlib.pyplot as plt\n",
    "import requests\n",
    "import json\n",
    "from config import api_key"
   ]
  },
  {
   "cell_type": "code",
   "execution_count": null,
   "metadata": {},
   "outputs": [],
   "source": [
    "from census import Census\n",
    "from us import states"
   ]
  },
  {
   "cell_type": "code",
   "execution_count": null,
   "metadata": {},
   "outputs": [],
   "source": [
    "# See: https://github.com/CommerceDataService/census-wrapper for library documentation\n",
    "# See: https://gist.github.com/afhaque/60558290d6efd892351c4b64e5c01e9b for labels"
   ]
  },
  {
   "cell_type": "markdown",
   "metadata": {},
   "source": [
    "* As only civilians are legel to vote, it would make sense to only pull the civilian employment data.\n",
    "* The labor force is the sum of employed and unemployed persons\n",
    "* Columns data to pull: \n",
    "* Income variables: \n",
    "    \"income\": B19013_001E, \"income_per_capita\": B19301_001E\n",
    "* Employment variables:\n",
    "    \"employable civilians\": B23025_003E, \"employed civilians\": B23025_004E, \"unemployed civilians\": B23025_005E\n",
    "* Population variables: \n",
    "    \"Total population\": B01003_001E\n",
    "* Poverty variables:\n",
    "    \"poverty people\": \"B17001_002E\"\n",
    "    #\"poverty_family\": \"B17012_002E\"\n",
    "    \n",
    "* Age variables:\n",
    "    \"median age\": \"B01002_001E\" "
   ]
  },
  {
   "cell_type": "code",
   "execution_count": null,
   "metadata": {},
   "outputs": [],
   "source": [
    "# Census API calls\n",
    "c = Census(api_key, year=2018)\n",
    "raw_data = c.acs5.get(('NAME', 'B19013_001E', 'B19301_001E', 'B23025_003E',\n",
    "                       'B23025_004E', 'B23025_005E', 'B01003_001E', \"B01002_001E\", \"B17001_002E\"), {'for':'state:*'})\n",
    "census_df_raw = pd.DataFrame(raw_data)\n",
    "census_df_raw = census_df_raw.rename(columns = {'state': 'State#',\n",
    "                          'NAME': 'State', \n",
    "                          'B01003_001E':'Total_population',\n",
    "                          'B23025_003E':'Employable_civilians',\n",
    "                          'B23025_004E':'Employed_civilians', \n",
    "                          'B23025_005E':'Unemployed_civilians', \n",
    "                          'B19013_001E':'Income_median',\n",
    "                          'B19301_001E':'Income_per_capita',\n",
    "                          \"B01002_001E\":'median age',\n",
    "                          \"B17001_002E\":'Poverty_count'    \n",
    "})\n",
    "census_df_raw = census_df_raw.sort_values('State#').reset_index(drop=True)\n",
    "# census_df_raw = census_df_raw[['State', 'Total_population','Income_per_capita', 'Employable_civilians', 'Unemployed_civilians','Poverty_count'  ]]\n",
    "census_df_raw.head()"
   ]
  },
  {
   "cell_type": "code",
   "execution_count": null,
   "metadata": {
    "scrolled": true
   },
   "outputs": [],
   "source": [
    "# Making a summary table \n",
    "census_df = census_df_raw.loc[:,['State', 'Total_population', 'Income_median', 'Income_per_capita']]\n",
    "census_df['Poverty_rate'] = census_df_raw.Poverty_count/census_df_raw.Total_population\n",
    "census_df['Unemployment_rate'] = census_df_raw.Unemployed_civilians/census_df_raw.Employable_civilians\n",
    "state_df = pd.read_csv('Resources/state_centroids.csv')\n",
    "census_df = pd.merge(census_df, state_df, on = 'State')\n",
    "census_df = census_df.set_index('State')\n",
    "census_df.head()"
   ]
  },
  {
   "cell_type": "code",
   "execution_count": null,
   "metadata": {},
   "outputs": [],
   "source": [
    "# Visualization via bar plots: population, median income, per capita income, poverty rate, unemployment rate\n",
    "\n",
    "plt.subplot(511)\n",
    "fig_population = census_df['Total_population'].sort_values().plot(kind='bar',figsize=(15,20), legend=True)\n",
    "\n",
    "plt.subplot(512)\n",
    "fig_income = census_df['Income_median'].sort_values().plot(kind='bar', figsize=(15,20), legend=True)\n",
    "\n",
    "plt.subplot(513)\n",
    "fig_capita_income = census_df['Income_per_capita'].sort_values().plot(kind='bar',figsize=(15,20), legend=True)\n",
    "\n",
    "plt.subplot(514)\n",
    "fig_unemploy_rate = census_df['Unemployment_rate'].sort_values().plot(kind='bar',figsize=(15,20), legend=True)\n",
    "\n",
    "plt.subplot(515)\n",
    "fig_unemploy_rate = census_df['Poverty_rate'].sort_values().plot(kind='bar',figsize=(15,20), legend=True)\n",
    "\n",
    "plt.tight_layout()"
   ]
  },
  {
   "cell_type": "code",
   "execution_count": null,
   "metadata": {},
   "outputs": [],
   "source": [
    "import gmaps\n",
    "from config import gkey\n",
    "gmaps.configure(api_key=gkey)"
   ]
  },
  {
   "cell_type": "code",
   "execution_count": null,
   "metadata": {},
   "outputs": [],
   "source": [
    "# Settings for gmap figure\n",
    "figure_layout = {\n",
    "    'width': '400px',\n",
    "    'height': '300px',\n",
    "    'border': '1px solid black',\n",
    "    'padding': '1px',\n",
    "    'margin': '0 auto 0 auto',\n",
    "}\n",
    "\n",
    "# locations of all states\n",
    "state_coords = census_df.loc[:, ['Latitude', 'Longitude']]"
   ]
  },
  {
   "cell_type": "code",
   "execution_count": null,
   "metadata": {},
   "outputs": [],
   "source": [
    "# Population heatmap\n",
    "# markers = gmaps.marker_layer(state_coords)\n",
    "# gmap_fig.add_layer(markers)\n",
    "\n",
    "gmap_fig = gmaps.figure(figure_layout,map_type='HYBRID')\n",
    "population_layer = gmaps.heatmap_layer(state_coords, weights = census_df['Total_population'],max_intensity = census_df['Total_population'].max(),\n",
    "                                  dissipating=False, point_radius=3, opacity=0.5)\n",
    "gmap_fig.add_layer(population_layer)\n",
    "gmap_fig"
   ]
  },
  {
   "cell_type": "code",
   "execution_count": null,
   "metadata": {},
   "outputs": [],
   "source": [
    "# median income heatmap\n",
    "gmap_fig = gmaps.figure(figure_layout,map_type='HYBRID')\n",
    "income_layer = gmaps.heatmap_layer(state_coords, weights = census_df['Income_median'],max_intensity = census_df['Income_median'].max(),\n",
    "                                  dissipating=False, point_radius=3, opacity=0.3)\n",
    "\n",
    "gmap_fig.add_layer(income_layer)\n",
    "gmap_fig"
   ]
  },
  {
   "cell_type": "code",
   "execution_count": null,
   "metadata": {},
   "outputs": [],
   "source": [
    "# per_capita_income heatmap\n",
    "gmap_fig = gmaps.figure(figure_layout,map_type='HYBRID')\n",
    "per_capita_income_layer = gmaps.heatmap_layer(state_coords, weights = census_df['Income_per_capita'],max_intensity = census_df['Income_per_capita'].max(),\n",
    "                                  dissipating=False, point_radius=3, opacity=0.3)\n",
    "gmap_fig.add_layer(per_capita_income_layer)\n",
    "gmap_fig"
   ]
  },
  {
   "cell_type": "code",
   "execution_count": null,
   "metadata": {},
   "outputs": [],
   "source": [
    "# Unemployment_rate heatmap\n",
    "gmap_fig = gmaps.figure(figure_layout,map_type='HYBRID')\n",
    "unemploy_layer = gmaps.heatmap_layer(state_coords, weights = census_df['Unemployment_rate'], max_intensity = census_df['Unemployment_rate'].max(),\n",
    "                                  dissipating=False, point_radius=4, opacity=0.6)\n",
    "\n",
    "gmap_fig.add_layer(unemploy_layer)\n",
    "gmap_fig"
   ]
  },
  {
   "cell_type": "code",
   "execution_count": null,
   "metadata": {},
   "outputs": [],
   "source": [
    "# poverty rate heatmap\n",
    "gmap_fig = gmaps.figure(figure_layout,map_type='HYBRID')\n",
    "poverty_layer = gmaps.heatmap_layer(state_coords, weights = census_df['Poverty_rate'],max_intensity = census_df['Poverty_rate'].max(),\n",
    "                                  dissipating=False, point_radius=4, opacity=0.6)\n",
    "\n",
    "gmap_fig.add_layer(poverty_layer)\n",
    "gmap_fig"
   ]
  }
 ],
 "metadata": {
  "kernelspec": {
   "display_name": "Python 3",
   "language": "python",
   "name": "python3"
  },
  "language_info": {
   "codemirror_mode": {
    "name": "ipython",
    "version": 3
   },
   "file_extension": ".py",
   "mimetype": "text/x-python",
   "name": "python",
   "nbconvert_exporter": "python",
   "pygments_lexer": "ipython3",
   "version": "3.7.4"
  }
 },
 "nbformat": 4,
 "nbformat_minor": 2
}
