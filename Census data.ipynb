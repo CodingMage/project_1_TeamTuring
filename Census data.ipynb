{
 "cells": [
  {
   "cell_type": "code",
   "execution_count": 1,
   "metadata": {},
   "outputs": [],
   "source": [
    "import numpy as np\n",
    "import pandas as pd\n",
    "import matplotlib.pyplot as plt\n",
    "import requests\n",
    "import json\n",
    "from config import api_key"
   ]
  },
  {
   "cell_type": "code",
   "execution_count": 2,
   "metadata": {},
   "outputs": [],
   "source": [
    "from census import Census\n",
    "from us import states"
   ]
  },
  {
   "cell_type": "code",
   "execution_count": 3,
   "metadata": {},
   "outputs": [],
   "source": [
    "# See: https://github.com/CommerceDataService/census-wrapper for library documentation\n",
    "# See: https://gist.github.com/afhaque/60558290d6efd892351c4b64e5c01e9b for labels"
   ]
  },
  {
   "cell_type": "markdown",
   "metadata": {},
   "source": [
    "* As only civilians are legel to vote, it would make sense to only pull the civilian employment data.\n",
    "* The labor force is the sum of employed and unemployed persons\n",
    "* Columns data to pull: \n",
    "* Income variables: \n",
    "    \"income\": B19013_001E, \"income_per_capita\": B19301_001E\n",
    "* Employment variables:\n",
    "    \"employable civilians\": B23025_003E, \"employed civilians\": B23025_004E, \"unemployed civilians\": B23025_005E\n",
    "* Population variables: \n",
    "    \"Total population\": B01003_001E\n",
    "* Poverty variables:\n",
    "    \"poverty people\": \"B17001_002E\"\n",
    "    #\"poverty_family\": \"B17012_002E\"\n",
    "    \n",
    "* Age variables:\n",
    "    \"median age\": \"B01002_001E\" "
   ]
  },
  {
   "cell_type": "code",
   "execution_count": 4,
   "metadata": {},
   "outputs": [
    {
     "data": {
      "text/html": [
       "<div>\n",
       "<style scoped>\n",
       "    .dataframe tbody tr th:only-of-type {\n",
       "        vertical-align: middle;\n",
       "    }\n",
       "\n",
       "    .dataframe tbody tr th {\n",
       "        vertical-align: top;\n",
       "    }\n",
       "\n",
       "    .dataframe thead th {\n",
       "        text-align: right;\n",
       "    }\n",
       "</style>\n",
       "<table border=\"1\" class=\"dataframe\">\n",
       "  <thead>\n",
       "    <tr style=\"text-align: right;\">\n",
       "      <th></th>\n",
       "      <th>State</th>\n",
       "      <th>Income_median</th>\n",
       "      <th>Income_per_capita</th>\n",
       "      <th>Employable_civilians</th>\n",
       "      <th>Employed_civilians</th>\n",
       "      <th>Unemployed_civilians</th>\n",
       "      <th>Total_population</th>\n",
       "      <th>median age</th>\n",
       "      <th>Poverty_count</th>\n",
       "      <th>State#</th>\n",
       "    </tr>\n",
       "  </thead>\n",
       "  <tbody>\n",
       "    <tr>\n",
       "      <th>0</th>\n",
       "      <td>Alabama</td>\n",
       "      <td>48486.0</td>\n",
       "      <td>26846.0</td>\n",
       "      <td>2224606.0</td>\n",
       "      <td>2076708.0</td>\n",
       "      <td>147898.0</td>\n",
       "      <td>4864680.0</td>\n",
       "      <td>38.9</td>\n",
       "      <td>829400.0</td>\n",
       "      <td>01</td>\n",
       "    </tr>\n",
       "    <tr>\n",
       "      <th>1</th>\n",
       "      <td>Alaska</td>\n",
       "      <td>76715.0</td>\n",
       "      <td>35874.0</td>\n",
       "      <td>379219.0</td>\n",
       "      <td>351152.0</td>\n",
       "      <td>28067.0</td>\n",
       "      <td>738516.0</td>\n",
       "      <td>34.0</td>\n",
       "      <td>77865.0</td>\n",
       "      <td>02</td>\n",
       "    </tr>\n",
       "    <tr>\n",
       "      <th>2</th>\n",
       "      <td>Arizona</td>\n",
       "      <td>56213.0</td>\n",
       "      <td>29265.0</td>\n",
       "      <td>3256192.0</td>\n",
       "      <td>3045978.0</td>\n",
       "      <td>210214.0</td>\n",
       "      <td>6946685.0</td>\n",
       "      <td>37.4</td>\n",
       "      <td>1092192.0</td>\n",
       "      <td>04</td>\n",
       "    </tr>\n",
       "    <tr>\n",
       "      <th>3</th>\n",
       "      <td>Arkansas</td>\n",
       "      <td>45726.0</td>\n",
       "      <td>25635.0</td>\n",
       "      <td>1368037.0</td>\n",
       "      <td>1292263.0</td>\n",
       "      <td>75774.0</td>\n",
       "      <td>2990671.0</td>\n",
       "      <td>37.9</td>\n",
       "      <td>510337.0</td>\n",
       "      <td>05</td>\n",
       "    </tr>\n",
       "    <tr>\n",
       "      <th>4</th>\n",
       "      <td>California</td>\n",
       "      <td>71228.0</td>\n",
       "      <td>35021.0</td>\n",
       "      <td>19630514.0</td>\n",
       "      <td>18309012.0</td>\n",
       "      <td>1321502.0</td>\n",
       "      <td>39148760.0</td>\n",
       "      <td>36.3</td>\n",
       "      <td>5487141.0</td>\n",
       "      <td>06</td>\n",
       "    </tr>\n",
       "  </tbody>\n",
       "</table>\n",
       "</div>"
      ],
      "text/plain": [
       "        State  Income_median  Income_per_capita  Employable_civilians  \\\n",
       "0     Alabama        48486.0            26846.0             2224606.0   \n",
       "1      Alaska        76715.0            35874.0              379219.0   \n",
       "2     Arizona        56213.0            29265.0             3256192.0   \n",
       "3    Arkansas        45726.0            25635.0             1368037.0   \n",
       "4  California        71228.0            35021.0            19630514.0   \n",
       "\n",
       "   Employed_civilians  Unemployed_civilians  Total_population  median age  \\\n",
       "0           2076708.0              147898.0         4864680.0        38.9   \n",
       "1            351152.0               28067.0          738516.0        34.0   \n",
       "2           3045978.0              210214.0         6946685.0        37.4   \n",
       "3           1292263.0               75774.0         2990671.0        37.9   \n",
       "4          18309012.0             1321502.0        39148760.0        36.3   \n",
       "\n",
       "   Poverty_count State#  \n",
       "0       829400.0     01  \n",
       "1        77865.0     02  \n",
       "2      1092192.0     04  \n",
       "3       510337.0     05  \n",
       "4      5487141.0     06  "
      ]
     },
     "execution_count": 4,
     "metadata": {},
     "output_type": "execute_result"
    }
   ],
   "source": [
    "# Census API calls\n",
    "c = Census(api_key, year=2018)\n",
    "raw_data = c.acs5.get(('NAME', 'B19013_001E', 'B19301_001E', 'B23025_003E',\n",
    "                       'B23025_004E', 'B23025_005E', 'B01003_001E', \"B01002_001E\", \"B17001_002E\"), {'for':'state:*'})\n",
    "census_df_raw = pd.DataFrame(raw_data)\n",
    "census_df_raw = census_df_raw.rename(columns = {'state': 'State#',\n",
    "                          'NAME': 'State', \n",
    "                          'B01003_001E':'Total_population',\n",
    "                          'B23025_003E':'Employable_civilians',\n",
    "                          'B23025_004E':'Employed_civilians', \n",
    "                          'B23025_005E':'Unemployed_civilians', \n",
    "                          'B19013_001E':'Income_median',\n",
    "                          'B19301_001E':'Income_per_capita',\n",
    "                          \"B01002_001E\":'median age',\n",
    "                          \"B17001_002E\":'Poverty_count'    \n",
    "})\n",
    "census_df_raw = census_df_raw.sort_values('State#').reset_index(drop=True)\n",
    "# census_df_raw = census_df_raw[['State', 'Total_population','Income_per_capita', 'Employable_civilians', 'Unemployed_civilians','Poverty_count'  ]]\n",
    "census_df_raw.head()"
   ]
  },
  {
   "cell_type": "code",
   "execution_count": 5,
   "metadata": {
    "scrolled": true
   },
   "outputs": [
    {
     "data": {
      "text/html": [
       "<div>\n",
       "<style scoped>\n",
       "    .dataframe tbody tr th:only-of-type {\n",
       "        vertical-align: middle;\n",
       "    }\n",
       "\n",
       "    .dataframe tbody tr th {\n",
       "        vertical-align: top;\n",
       "    }\n",
       "\n",
       "    .dataframe thead th {\n",
       "        text-align: right;\n",
       "    }\n",
       "</style>\n",
       "<table border=\"1\" class=\"dataframe\">\n",
       "  <thead>\n",
       "    <tr style=\"text-align: right;\">\n",
       "      <th></th>\n",
       "      <th>Total_population</th>\n",
       "      <th>Income_median</th>\n",
       "      <th>Income_per_capita</th>\n",
       "      <th>Poverty_rate</th>\n",
       "      <th>Unemployment_rate</th>\n",
       "      <th>Latitude</th>\n",
       "      <th>Longitude</th>\n",
       "    </tr>\n",
       "    <tr>\n",
       "      <th>State</th>\n",
       "      <th></th>\n",
       "      <th></th>\n",
       "      <th></th>\n",
       "      <th></th>\n",
       "      <th></th>\n",
       "      <th></th>\n",
       "      <th></th>\n",
       "    </tr>\n",
       "  </thead>\n",
       "  <tbody>\n",
       "    <tr>\n",
       "      <th>Alabama</th>\n",
       "      <td>4864680.0</td>\n",
       "      <td>48486.0</td>\n",
       "      <td>26846.0</td>\n",
       "      <td>0.170494</td>\n",
       "      <td>0.066483</td>\n",
       "      <td>32.7794</td>\n",
       "      <td>-86.8287</td>\n",
       "    </tr>\n",
       "    <tr>\n",
       "      <th>Alaska</th>\n",
       "      <td>738516.0</td>\n",
       "      <td>76715.0</td>\n",
       "      <td>35874.0</td>\n",
       "      <td>0.105434</td>\n",
       "      <td>0.074013</td>\n",
       "      <td>64.0685</td>\n",
       "      <td>-152.2782</td>\n",
       "    </tr>\n",
       "    <tr>\n",
       "      <th>Arizona</th>\n",
       "      <td>6946685.0</td>\n",
       "      <td>56213.0</td>\n",
       "      <td>29265.0</td>\n",
       "      <td>0.157225</td>\n",
       "      <td>0.064558</td>\n",
       "      <td>34.2744</td>\n",
       "      <td>-111.6602</td>\n",
       "    </tr>\n",
       "    <tr>\n",
       "      <th>Arkansas</th>\n",
       "      <td>2990671.0</td>\n",
       "      <td>45726.0</td>\n",
       "      <td>25635.0</td>\n",
       "      <td>0.170643</td>\n",
       "      <td>0.055389</td>\n",
       "      <td>34.8938</td>\n",
       "      <td>-92.4426</td>\n",
       "    </tr>\n",
       "    <tr>\n",
       "      <th>California</th>\n",
       "      <td>39148760.0</td>\n",
       "      <td>71228.0</td>\n",
       "      <td>35021.0</td>\n",
       "      <td>0.140161</td>\n",
       "      <td>0.067319</td>\n",
       "      <td>37.1841</td>\n",
       "      <td>-119.4696</td>\n",
       "    </tr>\n",
       "  </tbody>\n",
       "</table>\n",
       "</div>"
      ],
      "text/plain": [
       "            Total_population  Income_median  Income_per_capita  Poverty_rate  \\\n",
       "State                                                                          \n",
       "Alabama            4864680.0        48486.0            26846.0      0.170494   \n",
       "Alaska              738516.0        76715.0            35874.0      0.105434   \n",
       "Arizona            6946685.0        56213.0            29265.0      0.157225   \n",
       "Arkansas           2990671.0        45726.0            25635.0      0.170643   \n",
       "California        39148760.0        71228.0            35021.0      0.140161   \n",
       "\n",
       "            Unemployment_rate  Latitude  Longitude  \n",
       "State                                               \n",
       "Alabama              0.066483   32.7794   -86.8287  \n",
       "Alaska               0.074013   64.0685  -152.2782  \n",
       "Arizona              0.064558   34.2744  -111.6602  \n",
       "Arkansas             0.055389   34.8938   -92.4426  \n",
       "California           0.067319   37.1841  -119.4696  "
      ]
     },
     "execution_count": 5,
     "metadata": {},
     "output_type": "execute_result"
    }
   ],
   "source": [
    "# Making a summary table \n",
    "census_df = census_df_raw.loc[:,['State', 'Total_population', 'Income_median', 'Income_per_capita']]\n",
    "census_df['Poverty_rate'] = census_df_raw.Poverty_count/census_df_raw.Total_population\n",
    "census_df['Unemployment_rate'] = census_df_raw.Unemployed_civilians/census_df_raw.Employable_civilians\n",
    "state_df = pd.read_csv('Resources/state_centroids.csv')\n",
    "census_df = pd.merge(census_df, state_df, on = 'State')\n",
    "census_df = census_df.set_index('State')\n",
    "census_df.head()"
   ]
  },
  {
   "cell_type": "code",
   "execution_count": null,
   "metadata": {},
   "outputs": [],
   "source": [
    "# Visualization via bar plots: population, median income, per capita income, poverty rate, unemployment rate\n",
    "\n",
    "plt.subplot(511)\n",
    "fig_population = census_df['Total_population'].sort_values().plot(kind='bar',figsize=(15,20), legend=True)\n",
    "\n",
    "plt.subplot(512)\n",
    "fig_income = census_df['Income_median'].sort_values().plot(kind='bar', figsize=(15,20), legend=True)\n",
    "\n",
    "plt.subplot(513)\n",
    "fig_capita_income = census_df['Income_per_capita'].sort_values().plot(kind='bar',figsize=(15,20), legend=True)\n",
    "\n",
    "plt.subplot(514)\n",
    "fig_unemploy_rate = census_df['Unemployment_rate'].sort_values().plot(kind='bar',figsize=(15,20), legend=True)\n",
    "\n",
    "plt.subplot(515)\n",
    "fig_unemploy_rate = census_df['Poverty_rate'].sort_values().plot(kind='bar',figsize=(15,20), legend=True)\n",
    "\n",
    "plt.tight_layout()"
   ]
  },
  {
   "cell_type": "code",
   "execution_count": 6,
   "metadata": {},
   "outputs": [],
   "source": [
    "import gmaps\n",
    "from config import gkey\n",
    "gmaps.configure(api_key=gkey)"
   ]
  },
  {
   "cell_type": "code",
   "execution_count": 23,
   "metadata": {},
   "outputs": [],
   "source": [
    "# Settings for gmap figure\n",
    "figure_layout = {\n",
    "    'width': '400px',\n",
    "    'height': '300px',\n",
    "    'border': '1px solid black',\n",
    "    'padding': '1px',\n",
    "    'margin': '0 auto 0 auto',\n",
    "}\n",
    "\n",
    "# locations of all states\n",
    "state_coords = census_df.loc[:, ['Latitude', 'Longitude']]"
   ]
  },
  {
   "cell_type": "code",
   "execution_count": 27,
   "metadata": {},
   "outputs": [
    {
     "data": {
      "application/vnd.jupyter.widget-view+json": {
       "model_id": "0593bdd80b5c43b8b7fa5c6cc2ce7971",
       "version_major": 2,
       "version_minor": 0
      },
      "text/plain": [
       "Figure(layout=FigureLayout(height='420px'))"
      ]
     },
     "metadata": {},
     "output_type": "display_data"
    }
   ],
   "source": [
    "# Population heatmap\n",
    "# markers = gmaps.marker_layer(state_coords)\n",
    "# gmap_fig.add_layer(markers)\n",
    "\n",
    "gmap_fig = gmaps.figure(figure_layout,map_type='HYBRID')\n",
    "population_layer = gmaps.heatmap_layer(state_coords, weights = census_df['Total_population'],max_intensity = census_df['Total_population'].max(),\n",
    "                                  dissipating=False, point_radius=3, opacity=0.5)\n",
    "gmap_fig.add_layer(population_layer)\n",
    "gmap_fig"
   ]
  },
  {
   "cell_type": "code",
   "execution_count": 28,
   "metadata": {},
   "outputs": [
    {
     "data": {
      "application/vnd.jupyter.widget-view+json": {
       "model_id": "15947859097d4e719e14dbc1048d2f6f",
       "version_major": 2,
       "version_minor": 0
      },
      "text/plain": [
       "Figure(layout=FigureLayout(height='420px'))"
      ]
     },
     "metadata": {},
     "output_type": "display_data"
    }
   ],
   "source": [
    "# median income heatmap\n",
    "gmap_fig = gmaps.figure(figure_layout,map_type='HYBRID')\n",
    "income_layer = gmaps.heatmap_layer(state_coords, weights = census_df['Income_median'],max_intensity = census_df['Income_median'].max(),\n",
    "                                  dissipating=False, point_radius=3, opacity=0.3)\n",
    "\n",
    "gmap_fig.add_layer(income_layer)\n",
    "gmap_fig"
   ]
  },
  {
   "cell_type": "code",
   "execution_count": 29,
   "metadata": {},
   "outputs": [
    {
     "data": {
      "application/vnd.jupyter.widget-view+json": {
       "model_id": "b50562af415e40959801c7fd89cc5c04",
       "version_major": 2,
       "version_minor": 0
      },
      "text/plain": [
       "Figure(layout=FigureLayout(height='420px'))"
      ]
     },
     "metadata": {},
     "output_type": "display_data"
    }
   ],
   "source": [
    "# per_capita_income heatmap\n",
    "gmap_fig = gmaps.figure(figure_layout,map_type='HYBRID')\n",
    "per_capita_income_layer = gmaps.heatmap_layer(state_coords, weights = census_df['Income_per_capita'],max_intensity = census_df['Income_per_capita'].max(),\n",
    "                                  dissipating=False, point_radius=3, opacity=0.3)\n",
    "gmap_fig.add_layer(per_capita_income_layer)\n",
    "gmap_fig"
   ]
  },
  {
   "cell_type": "code",
   "execution_count": 30,
   "metadata": {},
   "outputs": [
    {
     "data": {
      "application/vnd.jupyter.widget-view+json": {
       "model_id": "e05a8285d31543119df84a0493e98d43",
       "version_major": 2,
       "version_minor": 0
      },
      "text/plain": [
       "Figure(layout=FigureLayout(height='420px'))"
      ]
     },
     "metadata": {},
     "output_type": "display_data"
    }
   ],
   "source": [
    "# Unemployment_rate heatmap\n",
    "gmap_fig = gmaps.figure(figure_layout,map_type='HYBRID')\n",
    "unemploy_layer = gmaps.heatmap_layer(state_coords, weights = census_df['Unemployment_rate'], max_intensity = census_df['Unemployment_rate'].max(),\n",
    "                                  dissipating=False, point_radius=4, opacity=0.6)\n",
    "\n",
    "gmap_fig.add_layer(unemploy_layer)\n",
    "gmap_fig"
   ]
  },
  {
   "cell_type": "code",
   "execution_count": 32,
   "metadata": {},
   "outputs": [
    {
     "data": {
      "application/vnd.jupyter.widget-view+json": {
       "model_id": "8a4529aa5dca45809d29e44afedfc760",
       "version_major": 2,
       "version_minor": 0
      },
      "text/plain": [
       "Figure(layout=FigureLayout(height='420px'))"
      ]
     },
     "metadata": {},
     "output_type": "display_data"
    }
   ],
   "source": [
    "# poverty rate heatmap\n",
    "gmap_fig = gmaps.figure(figure_layout,map_type='HYBRID')\n",
    "poverty_layer = gmaps.heatmap_layer(state_coords, weights = census_df['Poverty_rate'],max_intensity = census_df['Poverty_rate'].max(),\n",
    "                                  dissipating=False, point_radius=4, opacity=0.6)\n",
    "\n",
    "gmap_fig.add_layer(poverty_layer)\n",
    "gmap_fig"
   ]
  }
 ],
 "metadata": {
  "kernelspec": {
   "display_name": "Python 3",
   "language": "python",
   "name": "python3"
  },
  "language_info": {
   "codemirror_mode": {
    "name": "ipython",
    "version": 3
   },
   "file_extension": ".py",
   "mimetype": "text/x-python",
   "name": "python",
   "nbconvert_exporter": "python",
   "pygments_lexer": "ipython3",
   "version": "3.7.4"
  }
 },
 "nbformat": 4,
 "nbformat_minor": 2
}
