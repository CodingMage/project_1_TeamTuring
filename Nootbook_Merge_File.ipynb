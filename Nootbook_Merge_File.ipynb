{
 "cells": [
  {
   "cell_type": "code",
   "execution_count": null,
   "metadata": {},
   "outputs": [],
   "source": [
    "import numpy as np\n",
    "import pandas as pd\n",
    "import matplotlib.pyplot as plt\n",
    "import requests\n",
    "import json\n",
    "from config import api_key\n",
    "\n",
    "from census import Census\n",
    "from us import states"
   ]
  },
  {
   "cell_type": "code",
   "execution_count": null,
   "metadata": {},
   "outputs": [],
   "source": [
    "#TK Code"
   ]
  },
  {
   "cell_type": "code",
   "execution_count": null,
   "metadata": {},
   "outputs": [],
   "source": [
    "print (\"I made changes to the file\")\n",
    "print(\"Added new print stmt\")\n",
    "print(\"last stmt\")"
   ]
  },
  {
   "cell_type": "code",
   "execution_count": null,
   "metadata": {},
   "outputs": [],
   "source": [
    "#TK code ends"
   ]
  },
  {
   "cell_type": "code",
   "execution_count": 1,
   "metadata": {},
   "outputs": [],
   "source": [
    "#Adam code is awesome"
   ]
  },
  {
   "cell_type": "code",
   "execution_count": null,
   "metadata": {},
   "outputs": [],
   "source": [
    "c = Census(api_key, year=2016)\n",
    "raw_data = c.acs5.get(('NAME', 'B19013_001E', 'B19301_001E', 'B23025_003E',\n",
    "                       'B23025_004E', 'B23025_005E', 'B01003_001E', \"B01002_001E\"), {'for':'state:*'})\n",
    "census_df = pd.DataFrame(raw_data)\n",
    "census_df = census_df.rename(columns = {'state': 'State#',\n",
    "                          'NAME': 'State', \n",
    "                          'B01003_001E':'Total_population',\n",
    "                          'B23025_003E':'Employable_civilians',\n",
    "                          'B23025_004E':'Employed_civilians', \n",
    "                          'B23025_005E':'Unemployed_civilians', \n",
    "                          'B19013_001E':'Income',\n",
    "                          'B19301_001E':'Income_per_capita',\n",
    "                          \"B01002_001E\":'median age'\n",
    "                          \n",
    "    \n",
    "})\n",
    "census_df = census_df.sort_values('State#').reset_index(drop=True)\n",
    "census_df.head()"
   ]
  },
  {
   "cell_type": "code",
   "execution_count": null,
   "metadata": {},
   "outputs": [],
   "source": [
    "#Presidential file to dataframe called df\n",
    "file = \"Resources/1976-2016-president.tab\"\n",
    "df = pd.read_csv(file,sep='\\t',header=(0))\n",
    "#df.tail(40)"
   ]
  },
  {
   "cell_type": "code",
   "execution_count": null,
   "metadata": {},
   "outputs": [],
   "source": [
    "party = df.groupby(\"party\")\n",
    "party = party[\"candidatevotes\"].sum()\n",
    "party = pd.DataFrame(party.sort_values(ascending=False))\n",
    "#party.head(40)"
   ]
  },
  {
   "cell_type": "code",
   "execution_count": null,
   "metadata": {},
   "outputs": [],
   "source": [
    "party_state = df.groupby([\"party\", \"state\"])\n",
    "#party_state.sum()"
   ]
  },
  {
   "cell_type": "code",
   "execution_count": null,
   "metadata": {},
   "outputs": [],
   "source": [
    "#list just republican/democrat\n",
    "parties = list(df[\"party\"].unique())\n",
    "parties\n",
    "#would consider conservative, republican, and liberal party democrat. need to combine. \n",
    "combined_dem_rep = df.replace(\"conservative\",\"republican\")\n",
    "combined_dem_rep = combined_dem_rep.replace(\"liberal party\", \"democrat\")\n",
    "combined_dem_rep = combined_dem_rep.replace(\"democratic-farmer-labor\",\"democrat\")\n",
    "dems = combined_dem_rep.loc[combined_dem_rep[\"party\"] == \"democrat\"]\n",
    "repubs = combined_dem_rep.loc[combined_dem_rep[\"party\"] == \"republican\"]\n",
    "dems_repubs = dems.append(repubs)\n",
    "state_count = dems_repubs.groupby([\"party\", \"state\"])\n",
    "state_count = pd.DataFrame(state_count[[\"candidatevotes\", \"totalvotes\"]].sum())\n",
    "#state_count"
   ]
  },
  {
   "cell_type": "code",
   "execution_count": null,
   "metadata": {},
   "outputs": [],
   "source": [
    "dem_votes_by_state = dems[[\"state\",\"candidatevotes\",\"totalvotes\"]]\n",
    "dem_votes_by_state = dem_votes_by_state.groupby(\"state\")\n",
    "dem_votes_by_state = dem_votes_by_state.sum()\n",
    "len(dem_votes_by_state)\n",
    "\n",
    "repubs_votes_by_state = repubs[[\"state\",\"candidatevotes\",\"totalvotes\"]]\n",
    "repubs_votes_by_state = repubs_votes_by_state.groupby(\"state\")\n",
    "repubs_votes_by_state = repubs_votes_by_state.sum()\n",
    "#repubs_votes_by_state\n",
    "\n",
    "dems_merged_repubs = pd.merge(dem_votes_by_state, repubs_votes_by_state, on=\"state\", how=\"outer\")\n",
    "dems_merged_repubs = dems_merged_repubs.rename(columns = {\"candidatevotes_x\":\"democrat votes\",\n",
    "                                                         \"candidatevotes_y\": \"republican votes\"})\n",
    "dems_merged_repubs = dems_merged_repubs[['democrat votes', 'republican votes']]\n",
    "dems_merged_repubs[\"Difference%ofTotal\"] = (dems_merged_repubs[\"democrat votes\"] - dems_merged_repubs[\"republican votes\"])/(dems_merged_repubs[\"democrat votes\"]+dems_merged_repubs[\"republican votes\"])\n",
    "dems_merged_repubs = dems_merged_repubs.sort_values(\"Difference%ofTotal\", ascending=False)\n",
    "#dems_merged_repubs\n",
    "\n"
   ]
  },
  {
   "cell_type": "code",
   "execution_count": null,
   "metadata": {},
   "outputs": [],
   "source": [
    "plots = list(dems_merged_repubs[\"Difference%ofTotal\"])\n",
    "x_axis = list(dems_merged_repubs.index)\n",
    "colors = [\"blue\",\n",
    "          \"blue\",\n",
    "         \"blue\",\n",
    "         \"blue\",\n",
    "         \"blue\",\n",
    "         \"blue\",\n",
    "         \"blue\",\n",
    "         \"blue\",\n",
    "         \"blue\",\n",
    "         \"blue\",\n",
    "         \"blue\",\n",
    "         \"blue\",\n",
    "         \"blue\",\n",
    "         \"blue\",\n",
    "         \"blue\",\n",
    "         \"blue\",\n",
    "         \"blue\",\n",
    "         \"blue\",\n",
    "         \"blue\",\n",
    "         \"blue\",\n",
    "         \"blue\",\n",
    "         \"red\",\n",
    "         \"red\",\n",
    "         \"red\",\n",
    "         \"red\",\n",
    "         \"red\",\n",
    "         \"red\",\n",
    "         \"red\",\n",
    "         \"red\",\n",
    "         \"red\",\n",
    "         \"red\",\n",
    "         \"red\",\n",
    "         \"red\",\n",
    "         \"red\",\n",
    "         \"red\",\n",
    "         \"red\",\n",
    "         \"red\",\n",
    "         \"red\",\n",
    "         \"red\",\n",
    "         \"red\",\n",
    "         \"red\",\n",
    "         \"red\",\n",
    "         \"red\",\n",
    "         \"red\",\n",
    "         \"red\",\n",
    "         \"red\",\n",
    "         \"red\",\n",
    "         \"red\",\n",
    "         \"red\",\n",
    "         \"red\",\n",
    "         \"red\",]\n",
    "plt.bar(x_axis, plots, color=colors, alpha=0.5, align=\"center\")\n",
    "plt.tight_layout()\n",
    "plt.xlabel(\"States\")\n",
    "plt.ylabel(\"democrat - republican votes / total votes\")\n",
    "plt.title(\"Difference from total democrat votes as % of total votes 1976 - 2016\")\n",
    "plt.xticks(rotation=90)\n",
    "plt.show()\n"
   ]
  },
  {
   "cell_type": "code",
   "execution_count": null,
   "metadata": {},
   "outputs": [],
   "source": [
    "# 1980 - 1996\n",
    "dems_repubs_1980_forward = dems_repubs.loc[dems_repubs[\"year\"]>=1980]\n",
    "dems_repubs_1980_1996 = dems_repubs_1980_forward.loc[dems_repubs_1980_forward[\"year\"]<=1996]\n",
    "#dems_repubs_1980_1996\n",
    "dems_repubs_2000_2016 = dems_repubs_1980_forward.loc[dems_repubs_1980_forward[\"year\"]>= 2000]\n",
    "#dems_repubs_2000_2016"
   ]
  },
  {
   "cell_type": "code",
   "execution_count": null,
   "metadata": {},
   "outputs": [],
   "source": [
    "# plot for 1980 - 1996 \n",
    "\n",
    "early_dems = dems_repubs_1980_1996.loc[dems_repubs_1980_1996[\"party\"]==\"democrat\"]\n",
    "early_dems = early_dems.groupby(\"state\")\n",
    "early_dems = pd.DataFrame(early_dems[\"candidatevotes\"].sum())\n",
    "#early_dems\n",
    "\n",
    "early_repubs = dems_repubs_1980_1996.loc[dems_repubs_1980_1996[\"party\"]==\"republican\"]\n",
    "early_repubs = early_repubs.groupby(\"state\")\n",
    "early_repubs = pd.DataFrame(early_repubs[\"candidatevotes\"].sum())\n",
    "#early_repubs\n",
    "\n",
    "early_merge = pd.merge(early_dems, early_repubs, how=\"outer\", on=\"state\")\n",
    "early_merge = early_merge.rename(columns = {\"candidatevotes_x\": \"democrat votes 1980-1996\",\n",
    "                                           \"candidatevotes_y\": \"republican votes 1980-1996\"})\n",
    "early_merge[\"Difference%ofTotal\"] = (early_merge[\"democrat votes 1980-1996\"] - early_merge[\"republican votes 1980-1996\"])/(early_merge[\"democrat votes 1980-1996\"]+early_merge[\"republican votes 1980-1996\"])\n",
    "early_merge\n",
    "\n",
    "late_dems = dems_repubs_2000_2016.loc[dems_repubs_2000_2016[\"party\"]==\"democrat\"]\n",
    "late_dems = late_dems.groupby(\"state\")\n",
    "late_dems = pd.DataFrame(late_dems[\"candidatevotes\"].sum())\n",
    "#late_dems\n",
    "\n",
    "late_repubs = dems_repubs_2000_2016.loc[dems_repubs_2000_2016[\"party\"]==\"republican\"]\n",
    "late_repubs = late_repubs.groupby(\"state\")\n",
    "late_repubs = pd.DataFrame(late_repubs[\"candidatevotes\"].sum())\n",
    "#late_repubs\n",
    "\n",
    "late_merge = pd.merge(late_dems, late_repubs, how=\"outer\", on=\"state\")\n",
    "late_merge = late_merge.rename(columns = {\"candidatevotes_x\": \"democrat votes 2000-2016\",\n",
    "                                         \"candidatevotes_y\": \"republican votes 2000-2016\"})\n",
    "late_merge[\"Difference%ofTotal_late\"] = (late_merge[\"democrat votes 2000-2016\"] - late_merge[\"republican votes 2000-2016\"])/(late_merge[\"democrat votes 2000-2016\"]+late_merge[\"republican votes 2000-2016\"])\n",
    "late_merge\n",
    "\n",
    "early_late_merge = pd.merge(early_merge, late_merge, how=\"outer\", on=\"state\")\n",
    "early_late_merge[\"change\"] = early_late_merge[\"Difference%ofTotal_late\"] - early_late_merge[\"Difference%ofTotal\"]\n",
    "early_late_merge = early_late_merge.sort_values(\"change\", ascending=False)\n",
    "#negative indicates change towards republican - positive indicates change towards democrat\n",
    "\n",
    "#early_late_merge\n"
   ]
  },
  {
   "cell_type": "code",
   "execution_count": null,
   "metadata": {},
   "outputs": [],
   "source": [
    "plots = list(early_late_merge[\"change\"])\n",
    "x_axis = list(early_late_merge.index)\n",
    "colors = [\"blue\",\n",
    "          \"blue\",\n",
    "         \"blue\",\n",
    "         \"blue\",\n",
    "         \"blue\",\n",
    "         \"blue\",\n",
    "         \"blue\",\n",
    "         \"blue\",\n",
    "         \"blue\",\n",
    "         \"blue\",\n",
    "         \"blue\",\n",
    "         \"blue\",\n",
    "         \"blue\",\n",
    "         \"blue\",\n",
    "         \"blue\",\n",
    "         \"blue\",\n",
    "         \"blue\",\n",
    "         \"blue\",\n",
    "         \"blue\",\n",
    "         \"blue\",\n",
    "         \"blue\",\n",
    "         \"blue\",\n",
    "         \"blue\",\n",
    "         \"blue\",\n",
    "         \"blue\",\n",
    "         \"blue\",\n",
    "         \"blue\",\n",
    "         \"blue\",\n",
    "         \"blue\",\n",
    "         \"blue\",\n",
    "         \"red\",\n",
    "         \"red\",\n",
    "         \"red\",\n",
    "         \"red\",\n",
    "         \"red\",\n",
    "         \"red\",\n",
    "         \"red\",\n",
    "         \"red\",\n",
    "         \"red\",\n",
    "         \"red\",\n",
    "         \"red\",\n",
    "         \"red\",\n",
    "         \"red\",\n",
    "         \"red\",\n",
    "         \"red\",\n",
    "         \"red\",\n",
    "         \"red\",\n",
    "         \"red\",\n",
    "         \"red\",\n",
    "         \"red\",\n",
    "         \"red\",]\n",
    "plt.bar(x_axis, plots, color=colors, alpha=0.5, align=\"center\")\n",
    "plt.tight_layout()\n",
    "plt.xlabel(\"States\")\n",
    "plt.ylabel(\"shift in favored party - positive is shift towards dem, negative shift towards repubs\")\n",
    "plt.title(\"Shift in party preference by states\")\n",
    "plt.xticks(rotation=90)\n",
    "plt.show()\n"
   ]
  },
  {
   "cell_type": "code",
   "execution_count": null,
   "metadata": {},
   "outputs": [],
   "source": [
    "early_late_merge.loc[early_late_merge[\"change\"] > 0, \"shift\"] = \"Democrat\"\n",
    "early_late_merge.loc[early_late_merge[\"change\"] < 0, \"shift\"] = \"Republican\"\n",
    "early_late_merge[\"absolute value\"] = early_late_merge[\"change\"].abs()\n",
    "early_late_merge\n",
    "#early_late_merge"
   ]
  },
  {
   "cell_type": "code",
   "execution_count": null,
   "metadata": {},
   "outputs": [],
   "source": [
    "dems_repubs_minnesota = dems_repubs.loc[dems_repubs[\"state\"] == \"Minnesota\"]\n",
    "dems_repubs_minnesota = dems_repubs_minnesota.groupby(\"party\").sum()\n",
    "dems_repubs_minnesota = dems_repubs_minnesota[[\"candidatevotes\",\"totalvotes\"]]\n",
    "#dems_repubs_minnesota"
   ]
  },
  {
   "cell_type": "code",
   "execution_count": null,
   "metadata": {},
   "outputs": [],
   "source": [
    "#list(df[\"party\"].unique())"
   ]
  },
  {
   "cell_type": "code",
   "execution_count": null,
   "metadata": {},
   "outputs": [],
   "source": [
    "#just curious about write in candidates\n",
    "just_write_in = df.loc[df[\"writein\"] == True]\n",
    "#just_write_in"
   ]
  },
  {
   "cell_type": "code",
   "execution_count": null,
   "metadata": {},
   "outputs": [],
   "source": [
    "write_in_by_state = just_write_in.groupby(\"state\")\n",
    "write_in_by_state = pd.DataFrame(write_in_by_state[\"candidatevotes\"].sum())\n",
    "sorted_write_in_by_state = write_in_by_state[\"candidatevotes\"].sort_values(ascending=False)\n",
    "#sorted_write_in_by_state"
   ]
  },
  {
   "cell_type": "code",
   "execution_count": null,
   "metadata": {},
   "outputs": [],
   "source": [
    "candidate = df.groupby(\"candidate\")\n",
    "temp = candidate.sum()\n",
    "temp[\"% of totalvotes\"] = temp[\"candidatevotes\"]/temp[\"totalvotes\"]\n",
    "temp = pd.DataFrame(temp[\"% of totalvotes\"].sort_values(ascending=False))\n",
    "#temp.head(25)"
   ]
  },
  {
   "cell_type": "code",
   "execution_count": null,
   "metadata": {},
   "outputs": [],
   "source": [
    "year_2016 = df.loc[df[\"year\"]==2016]\n",
    "\n",
    "by_candidate_2016 = year_2016.groupby(\"candidate\")\n",
    "total_votes = by_candidate_2016[\"candidatevotes\"].sum().sort_values(ascending=False)\n",
    "#total_votes"
   ]
  },
  {
   "cell_type": "code",
   "execution_count": null,
   "metadata": {},
   "outputs": [],
   "source": [
    "year_2012 = df.loc[df[\"year\"]==2012]\n",
    "\n",
    "by_candidate_2012 = year_2012.groupby(\"candidate\")\n",
    "total_votes_2012 = by_candidate_2012[\"candidatevotes\"].sum().sort_values(ascending=False)\n",
    "#total_votes_2012"
   ]
  },
  {
   "cell_type": "code",
   "execution_count": null,
   "metadata": {},
   "outputs": [],
   "source": [
    "#Adam code ends"
   ]
  },
  {
   "cell_type": "code",
   "execution_count": null,
   "metadata": {},
   "outputs": [],
   "source": [
    "#Ryan code"
   ]
  },
  {
   "cell_type": "code",
   "execution_count": null,
   "metadata": {},
   "outputs": [],
   "source": [
    "from census import Census\n",
    "from us import states\n",
    "\n",
    "c = Census(api_key, year=2018)"
   ]
  },
  {
   "cell_type": "code",
   "execution_count": null,
   "metadata": {},
   "outputs": [],
   "source": [
    "* As only civilians are legel to vote, it would make sense to only pull the civilian employment data.\n",
    "* The labor force is the sum of employed and unemployed persons\n",
    "* Columns data to pull: \n",
    "* Income variables: \n",
    "    \"income\": B19013_001E, \"income_per_capita\": B19301_001E\n",
    "* Employment variables:\n",
    "    \"employable civilians\": B23025_003E, \"employed civilians\": B23025_004E, \"unemployed civilians\": B23025_005E\n",
    "* Population variables: \n",
    "    \"Total population\": B01003_001E\n",
    "* Poverty variables:\n",
    "    \"poverty people\": \"B17001_002E\"\n",
    "* Age variables:\n",
    "    \"median age\": \"B01002_001E\" "
   ]
  },
  {
   "cell_type": "code",
   "execution_count": null,
   "metadata": {},
   "outputs": [],
   "source": [
    "raw_data = c.acs5.get(('NAME', 'B19013_001E', 'B19301_001E', 'B23025_003E',\n",
    "                       'B23025_004E', 'B23025_005E', 'B01003_001E', \"B01002_001E\"), {'for':'state:*'})\n",
    "df = pd.DataFrame(raw_data)\n",
    "df = df.rename(columns = {'state': 'State#',\n",
    "                          'NAME': 'State', \n",
    "                          'B01003_001E':'Total_population',\n",
    "                          'B23025_003E':'Employable_civilians',\n",
    "                          'B23025_004E':'Employed_civilians', \n",
    "                          'B23025_005E':'Unemployed_civilians', \n",
    "                          'B19013_001E':'Income',\n",
    "                          'B19301_001E':'Income_per_capita',\n",
    "                          \"B01002_001E\":'median age'\n",
    "                          \n",
    "    \n",
    "})\n",
    "df = df.sort_values('State#').reset_index(drop=True)\n",
    "df"
   ]
  },
  {
   "cell_type": "code",
   "execution_count": null,
   "metadata": {},
   "outputs": [],
   "source": [
    "#Ryan code ends"
   ]
  },
  {
   "cell_type": "code",
   "execution_count": null,
   "metadata": {},
   "outputs": [],
   "source": [
    "#Connor code"
   ]
  },
  {
   "cell_type": "code",
   "execution_count": null,
   "metadata": {},
   "outputs": [],
   "source": [
    "print(\"I made a change too!\")"
   ]
  },
  {
   "cell_type": "code",
   "execution_count": null,
   "metadata": {},
   "outputs": [],
   "source": [
    "#Connor code ends"
   ]
  }
 ],
 "metadata": {
  "kernelspec": {
   "display_name": "Python 3",
   "language": "python",
   "name": "python3"
  },
  "language_info": {
   "codemirror_mode": {
    "name": "ipython",
    "version": 3
   },
   "file_extension": ".py",
   "mimetype": "text/x-python",
   "name": "python",
   "nbconvert_exporter": "python",
   "pygments_lexer": "ipython3",
   "version": "3.7.4"
  }
 },
 "nbformat": 4,
 "nbformat_minor": 2
}
