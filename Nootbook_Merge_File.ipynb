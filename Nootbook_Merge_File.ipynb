{
 "cells": [
  {
   "cell_type": "code",
   "execution_count": null,
   "metadata": {},
   "outputs": [],
   "source": [
    "import numpy as np\n",
    "import pandas as pd\n",
    "import matplotlib.pyplot as plt\n",
    "import requests\n",
    "import json\n",
    "from config import api_key"
   ]
  },
  {
   "cell_type": "code",
   "execution_count": null,
   "metadata": {},
   "outputs": [],
   "source": [
    "#TK Code"
   ]
  },
  {
   "cell_type": "code",
   "execution_count": null,
   "metadata": {},
   "outputs": [],
   "source": [
    "print (\"I made changes to the file\")\n",
    "print(\"Added new print stmt\")\n",
    "print(\"last stmt\")"
   ]
  },
  {
   "cell_type": "code",
   "execution_count": null,
   "metadata": {},
   "outputs": [],
   "source": [
    "#TK code ends"
   ]
  },
  {
   "cell_type": "code",
   "execution_count": null,
   "metadata": {},
   "outputs": [],
   "source": [
    "#Adam code"
   ]
  },
  {
   "cell_type": "code",
   "execution_count": null,
   "metadata": {},
   "outputs": [],
   "source": [
    "#Presidential file to dataframe called df\n",
    "file = \"Resources/1976-2016-president.tab\"\n",
    "df = pd.read_csv(file,sep='\\t',header=(0))\n",
    "df.tail(40)"
   ]
  },
  {
   "cell_type": "code",
   "execution_count": null,
   "metadata": {},
   "outputs": [],
   "source": [
    "#just curious about write in candidates\n",
    "just_write_in = df.loc[df[\"writein\"] == True]\n",
    "just_write_in"
   ]
  },
  {
   "cell_type": "code",
   "execution_count": null,
   "metadata": {},
   "outputs": [],
   "source": [
    "write_in_by_state = just_write_in.groupby(\"state\")\n",
    "write_in_by_state = pd.DataFrame(write_in_by_state[\"candidatevotes\"].sum())\n",
    "sorted_write_in_by_state = write_in_by_state[\"candidatevotes\"].sort_values(ascending=False)\n",
    "sorted_write_in_by_state"
   ]
  },
  {
   "cell_type": "code",
   "execution_count": null,
   "metadata": {},
   "outputs": [],
   "source": [
    "candidate = df.groupby(\"candidate\")\n",
    "temp = candidate.sum()\n",
    "temp[\"% of totalvotes\"] = temp[\"candidatevotes\"]/temp[\"totalvotes\"]\n",
    "temp = pd.DataFrame(temp[\"% of totalvotes\"].sort_values(ascending=False))\n",
    "temp.head(25)"
   ]
  },
  {
   "cell_type": "code",
   "execution_count": null,
   "metadata": {},
   "outputs": [],
   "source": [
    "year_2016 = df.loc[df[\"year\"]==2016]\n",
    "\n",
    "by_candidate_2016 = year_2016.groupby(\"candidate\")\n",
    "total_votes = by_candidate_2016[\"candidatevotes\"].sum().sort_values(ascending=False)\n",
    "total_votes"
   ]
  },
  {
   "cell_type": "code",
   "execution_count": null,
   "metadata": {},
   "outputs": [],
   "source": [
    "year_2012 = df.loc[df[\"year\"]==2012]\n",
    "\n",
    "by_candidate_2012 = year_2012.groupby(\"candidate\")\n",
    "total_votes_2012 = by_candidate_2012[\"candidatevotes\"].sum().sort_values(ascending=False)\n",
    "total_votes_2012"
   ]
  },
  {
   "cell_type": "code",
   "execution_count": null,
   "metadata": {},
   "outputs": [],
   "source": [
    "#Adam code ends"
   ]
  },
  {
   "cell_type": "code",
   "execution_count": null,
   "metadata": {},
   "outputs": [],
   "source": [
    "#Ryan code"
   ]
  },
  {
   "cell_type": "code",
   "execution_count": null,
   "metadata": {},
   "outputs": [],
   "source": [
    "from census import Census\n",
    "from us import states\n",
    "\n",
    "c = Census(api_key, year=2018)"
   ]
  },
  {
   "cell_type": "code",
   "execution_count": null,
   "metadata": {},
   "outputs": [],
   "source": [
    "* As only civilians are legel to vote, it would make sense to only pull the civilian employment data.\n",
    "* The labor force is the sum of employed and unemployed persons\n",
    "* Columns data to pull: \n",
    "* Income variables: \n",
    "    \"income\": B19013_001E, \"income_per_capita\": B19301_001E\n",
    "* Employment variables:\n",
    "    \"employable civilians\": B23025_003E, \"employed civilians\": B23025_004E, \"unemployed civilians\": B23025_005E\n",
    "* Population variables: \n",
    "    \"Total population\": B01003_001E\n",
    "* Poverty variables:\n",
    "    \"poverty people\": \"B17001_002E\"\n",
    "* Age variables:\n",
    "    \"median age\": \"B01002_001E\" "
   ]
  },
  {
   "cell_type": "code",
   "execution_count": null,
   "metadata": {},
   "outputs": [],
   "source": [
    "raw_data = c.acs5.get(('NAME', 'B19013_001E', 'B19301_001E', 'B23025_003E',\n",
    "                       'B23025_004E', 'B23025_005E', 'B01003_001E', \"B01002_001E\"), {'for':'state:*'})\n",
    "df = pd.DataFrame(raw_data)\n",
    "df = df.rename(columns = {'state': 'State#',\n",
    "                          'NAME': 'State', \n",
    "                          'B01003_001E':'Total_population',\n",
    "                          'B23025_003E':'Employable_civilians',\n",
    "                          'B23025_004E':'Employed_civilians', \n",
    "                          'B23025_005E':'Unemployed_civilians', \n",
    "                          'B19013_001E':'Income',\n",
    "                          'B19301_001E':'Income_per_capita',\n",
    "                          \"B01002_001E\":'median age'\n",
    "                          \n",
    "    \n",
    "})\n",
    "df = df.sort_values('State#').reset_index(drop=True)\n",
    "df"
   ]
  },
  {
   "cell_type": "code",
   "execution_count": null,
   "metadata": {},
   "outputs": [],
   "source": [
    "#Ryan code ends"
   ]
  },
  {
   "cell_type": "code",
   "execution_count": null,
   "metadata": {},
   "outputs": [],
   "source": [
    "#Connor code"
   ]
  },
  {
   "cell_type": "code",
   "execution_count": null,
   "metadata": {},
   "outputs": [],
   "source": [
    "# Read in CSV Files\n",
    "census_2012_df = pd.read_csv('Resources/2012_population_data.csv')\n",
    "census_2016_df = pd.read_csv('Resources/2016_population_data.csv')"
   ]
  },
  {
   "cell_type": "code",
   "execution_count": null,
   "metadata": {},
   "outputs": [],
   "source": [
    "census_2012_df.head()"
   ]
  },
  {
   "cell_type": "code",
   "execution_count": null,
   "metadata": {},
   "outputs": [],
   "source": [
    "total_young_males = census_2012_df[\"Males 18 and 19 years\"] + census_2012_df[\"Males 20 to 24\"] + census_2012_df[\"Males 25 to 29 years\"]\n",
    "total_young_females = census_2012_df[\"Females 18 and 19 years\"] + census_2012_df[\"Females 20 to 24\"] + census_2012_df[\"Females 25 to 29 years\"]\n",
    "percent_males = total_young_males/census_2012_df[\"Total State Population\"]\n",
    "percent_females = total_young_females/census_2012_df[\"Total State Population\"]\n",
    "total_votes = census_2012_df[\"Democrat votes 2012\"] + census_2012_df[\"Republican votes 2012\"]\n",
    "new_2012_df = pd.DataFrame({\"State\": census_2012_df[\"State\"],\n",
    "                            \"Total Males 18 to 29\":total_young_males,\n",
    "                            \"Total Females 18 to 29\":total_young_females,\n",
    "                            \"Total People 18 to 29\":total_young_males+total_young_females,\n",
    "                            \"Percent Males\": percent_males*100,\n",
    "                            \"Percent Females\": percent_females*100,\n",
    "                            \"Percent 18 to 29\": (percent_males + percent_females)*100,\n",
    "                            \"Total Votes\": total_votes,\n",
    "                            \"Percent Democrat\": (census_2012_df[\"Democrat votes 2012\"]/total_votes)*100,\n",
    "                            \"Percent Republican\": (census_2012_df[\"Republican votes 2012\"]/total_votes)*100\n",
    "})\n",
    "\n",
    "\n",
    "\n",
    "new_2012_df.head()"
   ]
  },
  {
   "cell_type": "code",
   "execution_count": null,
   "metadata": {},
   "outputs": [],
   "source": [
    "plt.bar(new_2012_df[\"State\"],new_2012_df[\"Percent 18 to 29\"])\n",
    "plt.title(\"2012 18 to 29 y/o by State\")\n",
    "plt.xlabel(\"State\")\n",
    "plt.ylabel(\"Percent of 18 to 29 y/o\")\n",
    "plt.ylim(new_2012_df[\"Percent 18 to 29\"].min()-1,new_2012_df[\"Percent 18 to 29\"].max()+1)\n",
    "plt.xticks(rotation=90)\n",
    "plt.tight_layout"
   ]
  },
  {
   "cell_type": "code",
   "execution_count": null,
   "metadata": {},
   "outputs": [],
   "source": [
    "(slope, intercept, rvalue, pvalue, stderr) = linregress(new_2012_df[\"Percent 18 to 29\"], new_2012_df[\"Percent Democrat\"])\n",
    "regress_values_d_2012 = new_2012_df[\"Percent 18 to 29\"] * slope + intercept\n",
    "line_eq_d_2012 = \"y = \" + str(round(slope,2)) + \"x + \" + str(round(intercept,2))\n",
    "\n",
    "(slope, intercept, rvalue, pvalue, stderr) = linregress(new_2012_df[\"Percent 18 to 29\"], new_2012_df[\"Percent Republican\"])\n",
    "regress_values_r_2012 = new_2012_df[\"Percent 18 to 29\"] * slope + intercept\n",
    "line_eq_r_2012 = \"y = \" + str(round(slope,2)) + \"x + \" + str(round(intercept,2))\n"
   ]
  },
  {
   "cell_type": "code",
   "execution_count": null,
   "metadata": {},
   "outputs": [],
   "source": [
    "plt.scatter(new_2012_df[\"Percent 18 to 29\"],new_2012_df[\"Percent Democrat\"],marker='o', c='blue')\n",
    "plt.scatter(new_2012_df[\"Percent 18 to 29\"],new_2012_df[\"Percent Republican\"],marker='o', c='red')\n",
    "plt.xlabel(\"Percentage of 18 to 29\")\n",
    "plt.ylabel(\"Percentage of Votes\")\n",
    "plt.title(\"Voter type vs 18 to 29 y/o\")\n",
    "correlation_2012 = st.pearsonr(new_2012_df[\"Percent 18 to 29\"],new_2012_df[\"Percent Democrat\"])\n",
    "plt.plot(new_2012_df[\"Percent 18 to 29\"],regress_values_d_2012,\"r-\")\n",
    "plt.plot(new_2012_df[\"Percent 18 to 29\"],regress_values_r_2012,\"r-\",c=\"blue\")\n",
    "#plt.annotate(line_eq_d_2012,(14,24),fontsize=15,color=\"red\")\n",
    "ttest_2012 = st.ttest_ind(new_2012_df[\"Percent 18 to 29\"],new_2012_df[\"Percent Democrat\"],equal_var=False)\n",
    "print(f\"The correlation between both factors is {round(correlation_2012[0],2)}\")\n",
    "print(f'The regression line for Democrats is {line_eq_d_2012}.')\n",
    "print(f'The regression line for Republicans is {line_eq_r_2012}.')\n",
    "ttest_2012"
   ]
  },
  {
   "cell_type": "code",
   "execution_count": null,
   "metadata": {},
   "outputs": [],
   "source": [
    "census_2016_df.head()"
   ]
  },
  {
   "cell_type": "code",
   "execution_count": null,
   "metadata": {},
   "outputs": [],
   "source": [
    "total_young_males_2016 = census_2016_df[\"Males 18 and 19 years\"] + census_2016_df[\"Males 20 to 24\"] + census_2016_df[\"Males 25 to 29 years\"]\n",
    "total_young_females_2016 = census_2016_df[\"Females 18 and 19 years\"] + census_2016_df[\"Females 20 to 24\"] + census_2016_df[\"Females 25 to 29 years\"]\n",
    "percent_males_2016 = total_young_males_2016/census_2016_df[\"Total State Population\"].astype('float')\n",
    "percent_females_2016 = total_young_females_2016/census_2016_df[\"Total State Population\"].astype('float')\n",
    "total_votes = census_2012_df[\"Democrat votes 2012\"] + census_2012_df[\"Republican votes 2012\"]\n",
    "new_2016_df = pd.DataFrame({\"State\": census_2016_df[\"State\"],\n",
    "                            \"Total Males 18 to 29\": total_young_males,\n",
    "                            \"Total Females 18 to 29\": total_young_females,\n",
    "                            \"Total People 18 to 29\": total_young_males_2016 + total_young_females_2016,\n",
    "                            \"Percent Males\": percent_males_2016*100,\n",
    "                            \"Percent Females\": percent_females_2016*100,\n",
    "                            \"Percent 18 to 29\": (percent_males_2016 + percent_females_2016)*100,\n",
    "                            \"Total Votes\": total_votes,\n",
    "                            \"Percent Democrat\": (census_2012_df[\"Democrat votes 2012\"]/total_votes)*100,\n",
    "                            \"Percent Republican\": (census_2012_df[\"Republican votes 2012\"]/total_votes)*100\n",
    "})\n",
    "\n",
    "\n",
    "\n",
    "\n",
    "new_2016_df.head()"
   ]
  },
  {
   "cell_type": "code",
   "execution_count": null,
   "metadata": {},
   "outputs": [],
   "source": [
    "plt.bar(new_2016_df[\"State\"],new_2016_df[\"Percent 18 to 29\"])\n",
    "plt.title(\"2016 18 to 29 y/o by State\")\n",
    "plt.xlabel(\"State\")\n",
    "plt.ylabel(\"Percent of 18 to 29 y/o\")\n",
    "plt.ylim(new_2016_df[\"Percent 18 to 29\"].min()-1,new_2016_df[\"Percent 18 to 29\"].max()+1)\n",
    "plt.xticks(rotation=90)\n",
    "plt.tight_layout"
   ]
  },
  {
   "cell_type": "code",
   "execution_count": null,
   "metadata": {},
   "outputs": [],
   "source": [
    "(slope, intercept, rvalue, pvalue, stderr) = linregress(new_2016_df[\"Percent 18 to 29\"], new_2016_df[\"Percent Democrat\"])\n",
    "regress_values_d_2016 = new_2016_df[\"Percent 18 to 29\"] * slope + intercept\n",
    "line_eq_d_2016 = \"y = \" + str(round(slope,2)) + \"x + \" + str(round(intercept,2))\n",
    "\n",
    "(slope, intercept, rvalue, pvalue, stderr) = linregress(new_2016_df[\"Percent 18 to 29\"], new_2016_df[\"Percent Republican\"])\n",
    "regress_values_r_2016 = new_2016_df[\"Percent 18 to 29\"] * slope + intercept\n",
    "line_eq_r_2016 = \"y = \" + str(round(slope,2)) + \"x + \" + str(round(intercept,2))"
   ]
  },
  {
   "cell_type": "code",
   "execution_count": null,
   "metadata": {},
   "outputs": [],
   "source": [
    "plt.scatter(new_2016_df[\"Percent 18 to 29\"],new_2016_df[\"Percent Democrat\"],marker='o', c='blue')\n",
    "plt.scatter(new_2016_df[\"Percent 18 to 29\"],new_2016_df[\"Percent Republican\"],marker='o', c='red')\n",
    "plt.xlabel(\"Percentage of 18 to 29\")\n",
    "plt.ylabel(\"Percentage of Votes\")\n",
    "plt.title(\"Voter type vs 18 to 29 y/o\")\n",
    "correlation_2016 = st.pearsonr(new_2016_df[\"Percent 18 to 29\"],new_2016_df[\"Percent Democrat\"])\n",
    "plt.plot(new_2016_df[\"Percent 18 to 29\"],regress_values_d_2016,\"r-\")\n",
    "plt.plot(new_2016_df[\"Percent 18 to 29\"],regress_values_r_2016,\"r-\",c=\"blue\")\n",
    "#plt.annotate(line_eq_d_2012,(14,24),fontsize=15,color=\"red\")\n",
    "ttest_2016 = st.ttest_ind(new_2016_df[\"Percent 18 to 29\"],new_2016_df[\"Percent Democrat\"],equal_var=False)\n",
    "print(f\"The correlation between both factors is {round(correlation_2016[0],2)}\")\n",
    "print(f'The regression line for Democrats is {line_eq_d_2016}.')\n",
    "print(f'The regression line for Republicans is {line_eq_r_2016}.')\n",
    "ttest_2016"
   ]
  },
  {
   "cell_type": "code",
   "execution_count": null,
   "metadata": {},
   "outputs": [],
   "source": [
    "st.ttest_ind(new_2016_df[\"Percent 18 to 29\"],new_2016_df[\"Percent Democrat\"],equal_var=False)"
   ]
  },
  {
   "cell_type": "code",
   "execution_count": null,
   "metadata": {},
   "outputs": [],
   "source": [
    "#Connor code ends"
   ]
  }
 ],
 "metadata": {
  "kernelspec": {
   "display_name": "Python 3",
   "language": "python",
   "name": "python3"
  },
  "language_info": {
   "codemirror_mode": {
    "name": "ipython",
    "version": 3
   },
   "file_extension": ".py",
   "mimetype": "text/x-python",
   "name": "python",
   "nbconvert_exporter": "python",
   "pygments_lexer": "ipython3",
   "version": "3.7.5"
  }
 },
 "nbformat": 4,
 "nbformat_minor": 4
}
