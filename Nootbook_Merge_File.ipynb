{
 "cells": [
  {
   "cell_type": "code",
   "execution_count": null,
   "metadata": {},
   "outputs": [],
   "source": [
    "import numpy as np\n",
    "import pandas as pd\n",
    "import matplotlib.pyplot as plt\n",
    "import requests\n",
    "import json\n",
    "from config import api_key\n",
    "\n",
    "from census import Census\n",
    "from us import states"
   ]
  },
  {
   "cell_type": "code",
   "execution_count": null,
   "metadata": {},
   "outputs": [],
   "source": [
    "# what is going on?"
   ]
  },
  {
   "cell_type": "markdown",
   "metadata": {},
   "source": [
    "## Defining three functions:\n",
    "* census_data(year): return census data of that year.\n",
    "* vote_data(year): return vote data of that year.\n",
    "* get_dataset(year): merge census and vote data, clean and format them.\n",
    "* Example usage: data_2016 = get_dataset(2016)"
   ]
  },
  {
   "cell_type": "code",
   "execution_count": null,
   "metadata": {},
   "outputs": [],
   "source": [
    "# census_api() function, returning the census data of a given year.\n",
    "def census_data(YEAR):\n",
    "    c = Census(api_key, year=YEAR)\n",
    "    raw_data = c.acs5.get(('NAME', 'B19013_001E', 'B19301_001E', 'B23025_003E',\n",
    "                       'B23025_004E', 'B23025_005E', 'B01003_001E', \"B01002_001E\", \"B17001_002E\",'B01002_002E','B01002_003E',\n",
    "                          'B02001_002E', 'B02001_003E', 'B02001_005E','B03001_003E','B02001_004E','B25035_001E'), {'for':'state:*'})\n",
    "    census_df_raw = pd.DataFrame(raw_data)\n",
    "    census_df_raw = census_df_raw.rename(columns = {'state': 'State#',\n",
    "                          'NAME': 'State', \n",
    "                          'B01003_001E':'Total_population',\n",
    "                          'B23025_003E':'Employable_civilians',\n",
    "                          'B23025_004E':'Employed_civilians', \n",
    "                          'B23025_005E':'Unemployed_civilians', \n",
    "                          'B19013_001E':'Income_median',\n",
    "                          'B19301_001E':'Income_per_capita',\n",
    "                          \"B01002_001E\":'median age',\n",
    "                          \"B17001_002E\":'Poverty_count',\n",
    "                          'B01002_002E':'median_male_age',\n",
    "                          'B01002_003E':'median_female_age',\n",
    "                          'B02001_002E':'population_white_alone',\n",
    "                          'B02001_003E':'population_black_alone',\n",
    "                          'B02001_005E':'population_asian_alone',\n",
    "                          'B03001_003E':'population_hispanic_origin',\n",
    "                          'B02001_004E':'population_american_indian_alone',\n",
    "                          'B25035_001E':'median_house_construction_year'                                                             \n",
    "    })\n",
    "    census_df_raw = census_df_raw.sort_values('State#').reset_index(drop=True)\n",
    "    # reformatting census data\n",
    "    census_df = census_df_raw.loc[:,['State', 'Total_population', 'Income_median', 'Income_per_capita','median_male_age','median_female_age',\n",
    "                                    'population_white_alone','population_black_alone', 'population_asian_alone','population_hispanic_origin',\n",
    "                                    'population_american_indian_alone', 'median_house_construction_year']]\n",
    "    census_df['Poverty_rate'] = census_df_raw.Poverty_count/census_df_raw.Total_population\n",
    "    census_df['Unemployment_rate'] = census_df_raw.Unemployed_civilians/census_df_raw.Employable_civilians\n",
    "    state_df = pd.read_csv('Resources/state_centroids.csv')\n",
    "    census_df = pd.merge(census_df, state_df, on = 'State')\n",
    "    census_df = census_df.set_index('State')\n",
    "    return census_df"
   ]
  },
  {
   "cell_type": "code",
   "execution_count": null,
   "metadata": {},
   "outputs": [],
   "source": [
    "def vote_data(YEAR):\n",
    "    demo_raw = vote_df.loc[(vote_df.year == YEAR)&(vote_df.party == 'democrat'), ['state', 'candidatevotes']]\n",
    "    demo = demo_raw.groupby('state')['candidatevotes'].sum()\n",
    "    rep_raw = vote_df.loc[(vote_df.year == YEAR)&(vote_df.party == 'republican'),['state', 'candidatevotes']]\n",
    "    rep = rep_raw.groupby('state')['candidatevotes'].sum()\n",
    "    total = vote_df.loc[(vote_df.year == YEAR), ['state', 'totalvotes']].groupby('state').mean()['totalvotes'] \n",
    "    vote_df_year = pd.concat([demo, rep, total],axis=1)\n",
    "    vote_df_year.columns = [str(YEAR)+'_democrat_votes', str(YEAR)+'_republican_votes', str(YEAR)+'_total_votes']\n",
    "    return vote_df_year"
   ]
  },
  {
   "cell_type": "code",
   "execution_count": null,
   "metadata": {},
   "outputs": [],
   "source": [
    "# Merging data for a given year. The function takes 3 arguments: dataframe1, dataframe2, year\n",
    "def get_dataset(YEAR):\n",
    "    dataset = census_data(YEAR).merge(vote_data(YEAR), left_index=True, right_index=True)\n",
    "    dataset['votes difference'] = dataset[str(YEAR)+'_democrat_votes'] - dataset[str(YEAR)+'_republican_votes']\n",
    "    dataset.loc[dataset['votes difference']<0, 'winner'] = 'Republican'\n",
    "    dataset.loc[dataset['votes difference']>0, 'winner'] = 'Democrat'\n",
    "    return dataset"
   ]
  },
  {
   "cell_type": "code",
   "execution_count": null,
   "metadata": {},
   "outputs": [],
   "source": [
    "#TK Code"
   ]
  },
  {
   "cell_type": "code",
   "execution_count": null,
   "metadata": {},
   "outputs": [],
   "source": [
    "file_to_load = \"Resources/RaceAgeVotes.csv\"\n",
    "\n",
    "# Read Purchasing File and store into Pandas data frame\n",
    "df = pd.read_csv(file_to_load, sep=',', header=(0))\n",
    "\n",
    "age_df = pd.DataFrame()\n",
    "age_df = df[['Year','Voted_18-24%','Voted_25-44%','Voted_45-64%','Voted_65andOver%']]\n",
    "age_plot_df = age_df[(age_df['Year'] < 2018)]\n",
    "age_plot_df.dropna()"
   ]
  },
  {
   "cell_type": "code",
   "execution_count": null,
   "metadata": {},
   "outputs": [],
   "source": [
    "plt.plot(age_plot_df['Year'], age_plot_df['Voted_18-24%'], linewidth=3, marker=\"o\", color=\"blue\", label='18-24yrs')\n",
    "plt.plot(age_plot_df['Year'], age_plot_df['Voted_25-44%'], linewidth=3, marker=\"x\", color=\"red\", label='25-44yrs')\n",
    "plt.plot(age_plot_df['Year'], age_plot_df['Voted_45-64%'], linewidth=3, marker=\"^\", color=\"green\", label='45-64yrs')\n",
    "plt.plot(age_plot_df['Year'], age_plot_df['Voted_65andOver%'], linewidth=3, marker=\"*\", color=\"orange\", label='65yrs & Over')\n",
    "\n",
    "plt.title(\"Voting Rates Over Time for the Voting-Age Population\")\n",
    "plt.xlabel(\"Year\")\n",
    "plt.ylabel(\"Percentage Voted\")\n",
    "fig_size = plt.rcParams[\"figure.figsize\"]\n",
    "fig_size[0] = 20\n",
    "fig_size[1] = 5\n",
    "plt.rcParams[\"figure.figsize\"] = fig_size\n",
    "plt.legend()\n",
    "plt.savefig('TK-results/VotingAgeChart.png')"
   ]
  },
  {
   "cell_type": "code",
   "execution_count": null,
   "metadata": {},
   "outputs": [],
   "source": [
    "race_df = df[['Year','Total_Registered_population%','Voted_White_population%','Voted_Black_ population%','Voted_Asian_population%','Voted_Hispanic_population%']]\n",
    "race_df.dropna()\n",
    "race_plot_df = race_df[(age_df['Year'] < 2018) & (age_df['Year'] >= 1978)]\n",
    "year = race_plot_df['Year']\n",
    "White = race_plot_df['Voted_White_population%']\n",
    "Black = race_plot_df['Voted_Black_ population%']\n",
    "Asian = race_plot_df['Voted_Asian_population%']\n",
    "Hispanic = race_plot_df['Voted_Hispanic_population%']\n",
    "Registered = race_plot_df['Total_Registered_population%']\n",
    "\n",
    "x = np.arange(len(year))  # the label locations\n",
    "width = .20\n",
    "\n",
    "fig, ax = plt.subplots()\n",
    "ax2 = ax.twinx()\n",
    "rects1 = ax.bar(x + .30, White, width, label = 'White',color = 'lightblue')\n",
    "rects2 = ax.bar(x + .10, Black, width, label = 'Black',color = 'pink')\n",
    "rects3 = ax.bar(x - .10, Asian, width, label = 'Asian',color = 'lightgreen')\n",
    "rects4 = ax.bar(x - .30, Hispanic, width, label = 'Hispanic',color = 'orange')\n",
    "ax2.plot(Registered,marker='o', markerfacecolor='blue', markersize=12, color='black', linewidth=4, label ='Registered Vote')\n",
    "\n",
    "ax.set_ylabel('Percentage Voted')\n",
    "ax2.set_ylabel('Percentage Registered')\n",
    "ax.set_title('Voting Rates Over Time for the Race Population')\n",
    "ax.set_xticks(x)\n",
    "ax.set_xticklabels(year)\n",
    "ax.legend(loc=\"best\")\n",
    "\n",
    "def autolabel(rects):\n",
    "    \"\"\"Attach a text label above each bar in *rects*, displaying its height.\"\"\"\n",
    "    for rect in rects:\n",
    "        height = rect.get_height()\n",
    "        ax.annotate('{}'.format(height),\n",
    "                    xy=(rect.get_x() + rect.get_width() / 2, height),\n",
    "                    xytext=(0, 3),  # 3 points vertical offset\n",
    "                    textcoords=\"offset points\",\n",
    "                    ha='center', va='bottom')\n",
    "\n",
    "\n",
    "autolabel(rects1)\n",
    "autolabel(rects2)\n",
    "autolabel(rects3)\n",
    "autolabel(rects4)\n",
    "\n",
    "fig.tight_layout()\n",
    "\n",
    "plt.show()\n",
    "fig.savefig('TK-results/VotingRaceChart.png')"
   ]
  },
  {
   "cell_type": "code",
   "execution_count": null,
   "metadata": {},
   "outputs": [],
   "source": [
    "#TK code ends"
   ]
  },
  {
   "cell_type": "code",
   "execution_count": null,
   "metadata": {},
   "outputs": [],
   "source": [
    "#Adam code"
   ]
  },
  {
   "cell_type": "code",
   "execution_count": null,
   "metadata": {},
   "outputs": [],
   "source": [
    "#Questions\n",
    "#Are there any trends in how states voted (republican or democrat) over time? \n",
    "#How are those trends shifting over time? Which states experienced larger shifts in voting preference?\n",
    "#Is there correlation between unemployment rates by state and voting preferences?\n",
    "\n",
    "#Datasets: Harvard Election Results Data by state, Iowa State University Unemployment rate history by state, State_centroids.csv\n",
    "\n"
   ]
  },
  {
   "cell_type": "code",
   "execution_count": null,
   "metadata": {},
   "outputs": [],
   "source": [
    "#Presidential file to dataframe called df\n",
    "file = \"Resources/1976-2016-president.tab\"\n",
    "df = pd.read_csv(file,sep='\\t',header=(0))\n",
    "#df.tail(40)"
   ]
  },
  {
   "cell_type": "code",
   "execution_count": null,
   "metadata": {},
   "outputs": [],
   "source": [
    "party = df.groupby(\"party\")\n",
    "party = party[\"candidatevotes\"].sum()\n",
    "party = pd.DataFrame(party.sort_values(ascending=False))\n",
    "#party.head(40)"
   ]
  },
  {
   "cell_type": "code",
   "execution_count": null,
   "metadata": {},
   "outputs": [],
   "source": [
    "party_state = df.groupby([\"party\", \"state\"])\n",
    "#party_state.sum()"
   ]
  },
  {
   "cell_type": "code",
   "execution_count": null,
   "metadata": {},
   "outputs": [],
   "source": [
    "#list just republican/democrat\n",
    "parties = list(df[\"party\"].unique())\n",
    "parties\n",
    "#would consider conservative, republican, and liberal party democrat. need to combine. \n",
    "combined_dem_rep = df.replace(\"conservative\",\"republican\")\n",
    "combined_dem_rep = combined_dem_rep.replace(\"liberal party\", \"democrat\")\n",
    "combined_dem_rep = combined_dem_rep.replace(\"democratic-farmer-labor\",\"democrat\")\n",
    "dems = combined_dem_rep.loc[combined_dem_rep[\"party\"] == \"democrat\"]\n",
    "repubs = combined_dem_rep.loc[combined_dem_rep[\"party\"] == \"republican\"]\n",
    "dems_repubs = dems.append(repubs)\n",
    "state_count = dems_repubs.groupby([\"party\", \"state\"])\n",
    "state_count = pd.DataFrame(state_count[[\"candidatevotes\", \"totalvotes\"]].sum())\n",
    "#state_count"
   ]
  },
  {
   "cell_type": "code",
   "execution_count": null,
   "metadata": {},
   "outputs": [],
   "source": [
    "dem_votes_by_state = dems[[\"state\",\"candidatevotes\",\"totalvotes\"]]\n",
    "dem_votes_by_state = dem_votes_by_state.groupby(\"state\")\n",
    "dem_votes_by_state = dem_votes_by_state.sum()\n",
    "len(dem_votes_by_state)\n",
    "\n",
    "repubs_votes_by_state = repubs[[\"state\",\"candidatevotes\",\"totalvotes\"]]\n",
    "repubs_votes_by_state = repubs_votes_by_state.groupby(\"state\")\n",
    "repubs_votes_by_state = repubs_votes_by_state.sum()\n",
    "#repubs_votes_by_state\n",
    "\n",
    "dems_merged_repubs = pd.merge(dem_votes_by_state, repubs_votes_by_state, on=\"state\", how=\"outer\")\n",
    "dems_merged_repubs = dems_merged_repubs.rename(columns = {\"candidatevotes_x\":\"democrat votes\",\n",
    "                                                         \"candidatevotes_y\": \"republican votes\"})\n",
    "dems_merged_repubs = dems_merged_repubs[['democrat votes', 'republican votes']]\n",
    "dems_merged_repubs[\"Difference%ofTotal\"] = (dems_merged_repubs[\"democrat votes\"] - dems_merged_repubs[\"republican votes\"])/(dems_merged_repubs[\"democrat votes\"]+dems_merged_repubs[\"republican votes\"])\n",
    "dems_merged_repubs = dems_merged_repubs.sort_values(\"Difference%ofTotal\", ascending=False)\n",
    "#dems_merged_repubs\n",
    "\n"
   ]
  },
  {
   "cell_type": "code",
   "execution_count": null,
   "metadata": {},
   "outputs": [],
   "source": [
    "plots = list(dems_merged_repubs[\"Difference%ofTotal\"])\n",
    "x_axis = list(dems_merged_repubs.index)\n",
    "colors = [\"blue\",\n",
    "          \"blue\",\n",
    "         \"blue\",\n",
    "         \"blue\",\n",
    "         \"blue\",\n",
    "         \"blue\",\n",
    "         \"blue\",\n",
    "         \"blue\",\n",
    "         \"blue\",\n",
    "         \"blue\",\n",
    "         \"blue\",\n",
    "         \"blue\",\n",
    "         \"blue\",\n",
    "         \"blue\",\n",
    "         \"blue\",\n",
    "         \"blue\",\n",
    "         \"blue\",\n",
    "         \"blue\",\n",
    "         \"blue\",\n",
    "         \"blue\",\n",
    "         \"blue\",\n",
    "         \"red\",\n",
    "         \"red\",\n",
    "         \"red\",\n",
    "         \"red\",\n",
    "         \"red\",\n",
    "         \"red\",\n",
    "         \"red\",\n",
    "         \"red\",\n",
    "         \"red\",\n",
    "         \"red\",\n",
    "         \"red\",\n",
    "         \"red\",\n",
    "         \"red\",\n",
    "         \"red\",\n",
    "         \"red\",\n",
    "         \"red\",\n",
    "         \"red\",\n",
    "         \"red\",\n",
    "         \"red\",\n",
    "         \"red\",\n",
    "         \"red\",\n",
    "         \"red\",\n",
    "         \"red\",\n",
    "         \"red\",\n",
    "         \"red\",\n",
    "         \"red\",\n",
    "         \"red\",\n",
    "         \"red\",\n",
    "         \"red\",\n",
    "         \"red\",]\n",
    "plt.figure(figsize=(40,20))\n",
    "plt.bar(x_axis, plots, color=colors, alpha=0.5, align=\"center\")\n",
    "plt.xlabel(\"States\", fontsize=33)\n",
    "plt.ylabel(\"democrat - republican votes / total votes\", fontsize=29)\n",
    "plt.title(\"Difference from total democrat votes as % of total votes 1976 - 2016\", fontsize=33)\n",
    "plt.xticks(rotation=90, fontsize=33)\n",
    "plt.yticks(fontsize=33)\n",
    "plt.savefig(\"Adam_Output/OverallVotePreference.png\")\n",
    "plt.show()\n"
   ]
  },
  {
   "cell_type": "code",
   "execution_count": null,
   "metadata": {},
   "outputs": [],
   "source": [
    "# 1980 - 1996\n",
    "dems_repubs_1980_forward = dems_repubs.loc[dems_repubs[\"year\"]>=1980]\n",
    "dems_repubs_1980_1996 = dems_repubs_1980_forward.loc[dems_repubs_1980_forward[\"year\"]<=1996]\n",
    "#dems_repubs_1980_1996\n",
    "dems_repubs_2000_2016 = dems_repubs_1980_forward.loc[dems_repubs_1980_forward[\"year\"]>= 2000]\n",
    "#dems_repubs_2000_2016"
   ]
  },
  {
   "cell_type": "code",
   "execution_count": null,
   "metadata": {},
   "outputs": [],
   "source": [
    "# plot for 1980 - 1996 \n",
    "\n",
    "early_dems = dems_repubs_1980_1996.loc[dems_repubs_1980_1996[\"party\"]==\"democrat\"]\n",
    "early_dems = early_dems.groupby(\"state\")\n",
    "early_dems = pd.DataFrame(early_dems[\"candidatevotes\"].sum())\n",
    "#early_dems\n",
    "\n",
    "early_repubs = dems_repubs_1980_1996.loc[dems_repubs_1980_1996[\"party\"]==\"republican\"]\n",
    "early_repubs = early_repubs.groupby(\"state\")\n",
    "early_repubs = pd.DataFrame(early_repubs[\"candidatevotes\"].sum())\n",
    "#early_repubs\n",
    "\n",
    "early_merge = pd.merge(early_dems, early_repubs, how=\"outer\", on=\"state\")\n",
    "early_merge = early_merge.rename(columns = {\"candidatevotes_x\": \"democrat votes 1980-1996\",\n",
    "                                           \"candidatevotes_y\": \"republican votes 1980-1996\"})\n",
    "early_merge[\"Difference%ofTotal\"] = (early_merge[\"democrat votes 1980-1996\"] - early_merge[\"republican votes 1980-1996\"])/(early_merge[\"democrat votes 1980-1996\"]+early_merge[\"republican votes 1980-1996\"])\n",
    "early_merge\n",
    "\n",
    "late_dems = dems_repubs_2000_2016.loc[dems_repubs_2000_2016[\"party\"]==\"democrat\"]\n",
    "late_dems = late_dems.groupby(\"state\")\n",
    "late_dems = pd.DataFrame(late_dems[\"candidatevotes\"].sum())\n",
    "#late_dems\n",
    "\n",
    "late_repubs = dems_repubs_2000_2016.loc[dems_repubs_2000_2016[\"party\"]==\"republican\"]\n",
    "late_repubs = late_repubs.groupby(\"state\")\n",
    "late_repubs = pd.DataFrame(late_repubs[\"candidatevotes\"].sum())\n",
    "#late_repubs\n",
    "\n",
    "late_merge = pd.merge(late_dems, late_repubs, how=\"outer\", on=\"state\")\n",
    "late_merge = late_merge.rename(columns = {\"candidatevotes_x\": \"democrat votes 2000-2016\",\n",
    "                                         \"candidatevotes_y\": \"republican votes 2000-2016\"})\n",
    "late_merge[\"Difference%ofTotal_late\"] = (late_merge[\"democrat votes 2000-2016\"] - late_merge[\"republican votes 2000-2016\"])/(late_merge[\"democrat votes 2000-2016\"]+late_merge[\"republican votes 2000-2016\"])\n",
    "late_merge\n",
    "\n",
    "early_late_merge = pd.merge(early_merge, late_merge, how=\"outer\", on=\"state\")\n",
    "early_late_merge[\"change\"] = early_late_merge[\"Difference%ofTotal_late\"] - early_late_merge[\"Difference%ofTotal\"]\n",
    "early_late_merge = early_late_merge.sort_values(\"change\", ascending=False)\n",
    "#negative indicates change towards republican - positive indicates change towards democrat\n",
    "\n",
    "#early_late_merge\n"
   ]
  },
  {
   "cell_type": "code",
   "execution_count": null,
   "metadata": {},
   "outputs": [],
   "source": [
    "plots = list(early_late_merge[\"change\"])\n",
    "x_axis = list(early_late_merge.index)\n",
    "colors = [\"blue\",\n",
    "          \"blue\",\n",
    "         \"blue\",\n",
    "         \"blue\",\n",
    "         \"blue\",\n",
    "         \"blue\",\n",
    "         \"blue\",\n",
    "         \"blue\",\n",
    "         \"blue\",\n",
    "         \"blue\",\n",
    "         \"blue\",\n",
    "         \"blue\",\n",
    "         \"blue\",\n",
    "         \"blue\",\n",
    "         \"blue\",\n",
    "         \"blue\",\n",
    "         \"blue\",\n",
    "         \"blue\",\n",
    "         \"blue\",\n",
    "         \"blue\",\n",
    "         \"blue\",\n",
    "         \"blue\",\n",
    "         \"blue\",\n",
    "         \"blue\",\n",
    "         \"blue\",\n",
    "         \"blue\",\n",
    "         \"blue\",\n",
    "         \"blue\",\n",
    "         \"blue\",\n",
    "         \"blue\",\n",
    "         \"red\",\n",
    "         \"red\",\n",
    "         \"red\",\n",
    "         \"red\",\n",
    "         \"red\",\n",
    "         \"red\",\n",
    "         \"red\",\n",
    "         \"red\",\n",
    "         \"red\",\n",
    "         \"red\",\n",
    "         \"red\",\n",
    "         \"red\",\n",
    "         \"red\",\n",
    "         \"red\",\n",
    "         \"red\",\n",
    "         \"red\",\n",
    "         \"red\",\n",
    "         \"red\",\n",
    "         \"red\",\n",
    "         \"red\",\n",
    "         \"red\",]\n",
    "plt.figure(figsize=(40,20))\n",
    "plt.bar(x_axis, plots, color=colors, alpha=0.5, align=\"center\")\n",
    "plt.xlabel(\"States\", fontsize=33)\n",
    "plt.ylabel(\"shift in favored party - positive is shift towards dem, negative shift towards repubs\", fontsize=29)\n",
    "plt.title(\"Shift in party preference by states\", fontsize=33)\n",
    "plt.xticks(rotation=90)\n",
    "plt.tick_params(labelsize=33)\n",
    "plt.savefig(\"Adam_Output/VotePreferenceShift.png\")\n",
    "plt.show()\n"
   ]
  },
  {
   "cell_type": "code",
   "execution_count": null,
   "metadata": {
    "scrolled": true
   },
   "outputs": [],
   "source": [
    "early_late_merge.loc[early_late_merge[\"change\"] > 0, \"shift\"] = \"Democrat\"\n",
    "early_late_merge.loc[early_late_merge[\"change\"] < 0, \"shift\"] = \"Republican\"\n",
    "early_late_merge[\"absolute value\"] = early_late_merge[\"change\"].abs()\n",
    "#early_late_merge\n"
   ]
  },
  {
   "cell_type": "code",
   "execution_count": null,
   "metadata": {},
   "outputs": [],
   "source": [
    "state_df = pd.read_csv(\"Resources/state_centroids.csv\")\n",
    "state_df = state_df[state_df.State != \"Puerto Rico\"]\n",
    "state_df = state_df.rename(columns={\"State\":\"state\"})\n",
    "early_late_merge_latlong = pd.merge(early_late_merge, state_df, on=\"state\", how=\"outer\")\n",
    "#early_late_merge_latlong.head()"
   ]
  },
  {
   "cell_type": "code",
   "execution_count": null,
   "metadata": {},
   "outputs": [],
   "source": [
    "from mpl_toolkits.mplot3d import Axes3D"
   ]
  },
  {
   "cell_type": "code",
   "execution_count": null,
   "metadata": {},
   "outputs": [],
   "source": [
    "fig = plt.figure(figsize=(18, 10))\n",
    "ax1 = fig.add_subplot(121, projection=\"3d\")\n",
    "x = list(early_late_merge_latlong[\"Longitude\"])\n",
    "y = list(early_late_merge_latlong[\"Latitude\"])\n",
    "top = list(early_late_merge_latlong[\"absolute value\"])\n",
    "colors = [\"blue\",\n",
    "          \"blue\",\n",
    "         \"blue\",\n",
    "         \"blue\",\n",
    "         \"blue\",\n",
    "         \"blue\",\n",
    "         \"blue\",\n",
    "         \"blue\",\n",
    "         \"blue\",\n",
    "         \"blue\",\n",
    "         \"blue\",\n",
    "         \"blue\",\n",
    "         \"blue\",\n",
    "         \"blue\",\n",
    "         \"blue\",\n",
    "         \"blue\",\n",
    "         \"blue\",\n",
    "         \"blue\",\n",
    "         \"blue\",\n",
    "         \"blue\",\n",
    "         \"blue\",\n",
    "         \"blue\",\n",
    "         \"blue\",\n",
    "         \"blue\",\n",
    "         \"blue\",\n",
    "         \"blue\",\n",
    "         \"blue\",\n",
    "         \"blue\",\n",
    "         \"blue\",\n",
    "         \"blue\",\n",
    "         \"red\",\n",
    "         \"red\",\n",
    "         \"red\",\n",
    "         \"red\",\n",
    "         \"red\",\n",
    "         \"red\",\n",
    "         \"red\",\n",
    "         \"red\",\n",
    "         \"red\",\n",
    "         \"red\",\n",
    "         \"red\",\n",
    "         \"red\",\n",
    "         \"red\",\n",
    "         \"red\",\n",
    "         \"red\",\n",
    "         \"red\",\n",
    "         \"red\",\n",
    "         \"red\",\n",
    "         \"red\",\n",
    "         \"red\",\n",
    "         \"red\",]\n",
    "bottom = 0\n",
    "width = depth = 1\n",
    "ax1.bar3d(x, y, bottom, width, depth, top, shade=True, color=colors)\n",
    "ax1.set_title('Shift in Political Party Preference by State')\n",
    "ax1.set_xlabel(\"Longitude\")\n",
    "ax1.set_ylabel(\"Latitude\")\n",
    "ax1.set_zlabel(\"Absolute Value Change in Democrat - Republican / total votes\")\n",
    "plt.savefig(\"Adam_Output/VotePreferenceShift3D.png\")"
   ]
  },
  {
   "cell_type": "code",
   "execution_count": null,
   "metadata": {},
   "outputs": [],
   "source": [
    "#dems_repubs\n",
    "\n",
    "dems_repubs_dem = dems_repubs.loc[dems_repubs[\"party\"]==\"democrat\"]\n",
    "dems_repubs_dem = dems_repubs_dem.groupby([\"state\", \"year\"])\n",
    "dems_repubs_dem = pd.DataFrame(dems_repubs_dem[\"candidatevotes\"].sum())\n",
    "#dems_repubs_dem\n",
    "\n",
    "dems_repubs_repubs = dems_repubs.loc[dems_repubs[\"party\"]==\"republican\"]\n",
    "dems_repubs_repubs = dems_repubs_repubs.groupby([\"state\", \"year\"])\n",
    "dems_repubs_repubs = pd.DataFrame(dems_repubs_repubs[\"candidatevotes\"].sum())\n",
    "#dems_repubs_repubs\n",
    "\n",
    "dems_repubs_merge = pd.merge(dems_repubs_dem, dems_repubs_repubs, on=[\"state\",\"year\"], how=\"outer\")\n",
    "dems_repubs_merge = dems_repubs_merge.rename(columns = {\"candidatevotes_x\":\"democrat votes\",\n",
    "                                                       \"candidatevotes_y\":\"republican votes\"})\n",
    "dems_repubs_merge[\"democrat votes % of total\"] = dems_repubs_merge[\"democrat votes\"] / (dems_repubs_merge[\"democrat votes\"] + dems_repubs_merge[\"republican votes\"])\n",
    "#dems_repubs_merge\n",
    "\n",
    "\n"
   ]
  },
  {
   "cell_type": "code",
   "execution_count": null,
   "metadata": {},
   "outputs": [],
   "source": [
    "#early_late_merge_latlong.head()\n"
   ]
  },
  {
   "cell_type": "code",
   "execution_count": null,
   "metadata": {},
   "outputs": [],
   "source": [
    "#function for midpoint for the plotly graph\n",
    "max_change = early_late_merge_latlong['change'].max()\n",
    "range_change = early_late_merge_latlong['change'].max()-early_late_merge_latlong['change'].min()\n",
    "max_div_range = max_change/range_change\n",
    "midpoint = 1 - max_div_range"
   ]
  },
  {
   "cell_type": "code",
   "execution_count": null,
   "metadata": {},
   "outputs": [],
   "source": [
    "import plotly.express as px\n",
    "locations = list(early_late_merge_latlong[\"Code\"])\n",
    "\n",
    "colors = list(early_late_merge_latlong[\"change\"])\n",
    "fig = px.choropleth(locations=locations,color_continuous_scale = [(0, \"red\"), (midpoint, \"white\"), (1,\"blue\")],locationmode=\"USA-states\", color=colors, scope=\"usa\")\n",
    "fig.update_layout(\n",
    "    title=\"United States - change in voter preference over time\",\n",
    "    font=dict(\n",
    "        family=\"Courier New, monospace\",\n",
    "        size=18,\n",
    "        color=\"#7f7f7f\"\n",
    "    )\n",
    ")\n",
    "fig.show()"
   ]
  },
  {
   "cell_type": "code",
   "execution_count": null,
   "metadata": {},
   "outputs": [],
   "source": [
    "unemployment_df = pd.read_csv(\"Resources/unemployment_data.csv\")\n",
    "unemployment_df = unemployment_df.melt(id_vars=\"Area\", \n",
    "        var_name=\"Date\", \n",
    "        value_name=\"Unemployment Rate\")\n",
    "unemployment_df = unemployment_df.sort_values([\"Area\", \"Date\"])\n",
    "unemployment_df = unemployment_df.reset_index()\n",
    "unemployment_df = unemployment_df.drop(columns=[\"index\"])\n",
    "unemployment_df[\"Date\"] = unemployment_df[\"Date\"].astype('int')\n",
    "#unemployment_df.head()\n"
   ]
  },
  {
   "cell_type": "code",
   "execution_count": null,
   "metadata": {},
   "outputs": [],
   "source": [
    "early_unemployment_avg = unemployment_df.loc[unemployment_df[\"Date\"] <=1996]\n",
    "early_unemployment_avg = early_unemployment_avg.groupby(\"Area\")\n",
    "early_unemployment_avg = pd.DataFrame(early_unemployment_avg[\"Unemployment Rate\"].mean())\n",
    "early_unemployment_avg = early_unemployment_avg.rename(columns={\"Unemployment Rate\": \"Early Unemployment Rate Avg\"})\n",
    "#early_unemployment_avg\n",
    "\n",
    "late_unemployment_avg = unemployment_df.loc[(unemployment_df[\"Date\"] >= 1997) & (unemployment_df[\"Date\"] <= 2016)]\n",
    "late_unemployment_avg = late_unemployment_avg.groupby(\"Area\")\n",
    "late_unemployment_avg = pd.DataFrame(late_unemployment_avg[\"Unemployment Rate\"].mean())\n",
    "late_unemployment_avg = late_unemployment_avg.rename(columns={\"Unemployment Rate\": \"Late Unemployment Rate Avg\"})\n",
    "#late_unemployment_avg\n",
    "\n",
    "early_late_unemploy_merge = pd.merge(early_unemployment_avg, late_unemployment_avg, on=\"Area\", how=\"outer\")\n",
    "#early_late_unemploy_merge"
   ]
  },
  {
   "cell_type": "code",
   "execution_count": null,
   "metadata": {},
   "outputs": [],
   "source": [
    "early_late_unemploy_merge = early_late_unemploy_merge.reset_index()\n",
    "\n",
    "early_late_unemploy_merge = early_late_unemploy_merge.rename(columns={\"Area\":\"state\"})\n",
    "\n",
    "unemployment_voting_merge = pd.merge(early_late_merge_latlong, early_late_unemploy_merge, on=\"state\", how=\"outer\")\n",
    "unemployment_voting_merge[\"Unemployment Avg Change\"] = unemployment_voting_merge[\"Late Unemployment Rate Avg\"] - unemployment_voting_merge[\"Early Unemployment Rate Avg\"]\n",
    "unemployment_voting_merge = unemployment_voting_merge.dropna()\n",
    "#unemployment_voting_merge\n"
   ]
  },
  {
   "cell_type": "code",
   "execution_count": null,
   "metadata": {},
   "outputs": [],
   "source": [
    "voteplots = list(unemployment_voting_merge[\"change\"])\n",
    "unemploymentplots = list(unemployment_voting_merge[\"Unemployment Avg Change\"])\n",
    "labels=list(unemployment_voting_merge[\"state\"])\n",
    "plt.figure(figsize=(20,5))\n",
    "plt.subplot(121)\n",
    "plt.plot(labels, voteplots)\n",
    "plt.title(\"Shift in Voter Preference\")\n",
    "plt.xlabel(\"State\")\n",
    "plt.ylabel(\"Positive: democrat shift, Negative: republican shift\")\n",
    "plt.xticks(rotation=90)\n",
    "plt.subplot(122)\n",
    "plt.plot(labels, unemploymentplots, color = \"red\")\n",
    "plt.title(\"Shift in Avg Unemployment Rate (1980-1996 vs 1997-2016)\")\n",
    "plt.xlabel(\"State\")\n",
    "plt.ylabel(\"Change in avg unemployment rate (%)\")\n",
    "plt.xticks(rotation=90)\n",
    "plt.savefig(\"Adam_Output/voteshift_unemployment_linecharts.png\")\n",
    "plt.show()\n"
   ]
  },
  {
   "cell_type": "code",
   "execution_count": null,
   "metadata": {},
   "outputs": [],
   "source": [
    "#Scatter Plot\n",
    "from scipy.stats import linregress\n",
    "\n",
    "def lin_reg(x,y):\n",
    "    (slope, intercept, rvalue, pvalue, stderr) = linregress(x, y)\n",
    "    regress_values = x * slope + intercept\n",
    "    line_eq = \"y = \" + str(round(slope,2)) + \"x + \" + str(round(intercept,2))\n",
    "    plt.scatter(x,y)\n",
    "    plt.plot(x,regress_values, \"r-\")\n",
    "    plt.xlabel(x.name)\n",
    "    plt.ylabel(y.name)\n",
    "    plt.title(f'{x.name} vs {y.name}')\n",
    "    plt.annotate(line_eq,(min(x),min(y)),fontsize=15, color=\"red\")\n",
    "    plt.savefig(\"Adam_Output/scatter_regression\")\n",
    "    plt.show()\n",
    "    print(f'The r value is: {rvalue}')\n",
    "    \n",
    "random_df = pd.DataFrame({\"voteplots\": voteplots, \"unemploymentplots\":unemploymentplots})\n",
    "random_df = random_df.rename(columns = {\"voteplots\": \"Shift in voter preference\",\n",
    "                                       \"unemploymentplots\": \"Change in Avg Unemployment Rate\"})\n",
    "x = random_df[\"Shift in voter preference\"]\n",
    "y = random_df[\"Change in Avg Unemployment Rate\"]\n",
    "\n",
    "lin_reg(x, y)\n"
   ]
  },
  {
   "cell_type": "code",
   "execution_count": null,
   "metadata": {},
   "outputs": [],
   "source": [
    "#Run an independent T-Test \n",
    "#Null hypothesis: there is no statistically significant relationship between voting preference and changes in unemployment rates\n",
    "import scipy.stats as stats\n",
    "stats.ttest_ind(random_df[\"Shift in voter preference\"], random_df[\"Change in Avg Unemployment Rate\"], equal_var=False)"
   ]
  },
  {
   "cell_type": "code",
   "execution_count": null,
   "metadata": {},
   "outputs": [],
   "source": [
    "#Random Code - Adam"
   ]
  },
  {
   "cell_type": "code",
   "execution_count": null,
   "metadata": {},
   "outputs": [],
   "source": [
    "dems_repubs_minnesota = dems_repubs.loc[dems_repubs[\"state\"] == \"Minnesota\"]\n",
    "dems_repubs_minnesota = dems_repubs_minnesota.groupby(\"party\").sum()\n",
    "dems_repubs_minnesota = dems_repubs_minnesota[[\"candidatevotes\",\"totalvotes\"]]\n",
    "#dems_repubs_minnesota"
   ]
  },
  {
   "cell_type": "code",
   "execution_count": null,
   "metadata": {},
   "outputs": [],
   "source": [
    "#list(df[\"party\"].unique())"
   ]
  },
  {
   "cell_type": "code",
   "execution_count": null,
   "metadata": {},
   "outputs": [],
   "source": [
    "#just curious about write in candidates\n",
    "just_write_in = df.loc[df[\"writein\"] == True]\n",
    "#just_write_in"
   ]
  },
  {
   "cell_type": "code",
   "execution_count": null,
   "metadata": {},
   "outputs": [],
   "source": [
    "write_in_by_state = just_write_in.groupby(\"state\")\n",
    "write_in_by_state = pd.DataFrame(write_in_by_state[\"candidatevotes\"].sum())\n",
    "sorted_write_in_by_state = write_in_by_state[\"candidatevotes\"].sort_values(ascending=False)\n",
    "#sorted_write_in_by_state"
   ]
  },
  {
   "cell_type": "code",
   "execution_count": null,
   "metadata": {},
   "outputs": [],
   "source": [
    "candidate = df.groupby(\"candidate\")\n",
    "temp = candidate.sum()\n",
    "temp[\"% of totalvotes\"] = temp[\"candidatevotes\"]/temp[\"totalvotes\"]\n",
    "temp = pd.DataFrame(temp[\"% of totalvotes\"].sort_values(ascending=False))\n",
    "#temp.head(25)"
   ]
  },
  {
   "cell_type": "code",
   "execution_count": null,
   "metadata": {},
   "outputs": [],
   "source": [
    "year_2016 = df.loc[df[\"year\"]==2016]\n",
    "\n",
    "by_candidate_2016 = year_2016.groupby(\"candidate\")\n",
    "total_votes = by_candidate_2016[\"candidatevotes\"].sum().sort_values(ascending=False)\n",
    "#total_votes"
   ]
  },
  {
   "cell_type": "code",
   "execution_count": null,
   "metadata": {},
   "outputs": [],
   "source": [
    "year_2012 = df.loc[df[\"year\"]==2012]\n",
    "\n",
    "by_candidate_2012 = year_2012.groupby(\"candidate\")\n",
    "total_votes_2012 = by_candidate_2012[\"candidatevotes\"].sum().sort_values(ascending=False)\n",
    "#total_votes_2012"
   ]
  },
  {
   "cell_type": "code",
   "execution_count": null,
   "metadata": {},
   "outputs": [],
   "source": [
    "#Adam code ends"
   ]
  },
  {
   "cell_type": "markdown",
   "metadata": {},
   "source": [
    "# Ryan code"
   ]
  },
  {
   "cell_type": "code",
   "execution_count": null,
   "metadata": {},
   "outputs": [],
   "source": [
    "import seaborn as sns\n",
    "from sklearn.metrics import classification_report, confusion_matrix"
   ]
  },
  {
   "cell_type": "code",
   "execution_count": null,
   "metadata": {},
   "outputs": [],
   "source": [
    "# Preparing the vote data of a given year.\n",
    "csvfile = 'Resources/1976-2016-president.tab'\n",
    "vote_df = pd.read_csv(csvfile, sep='\\t', header=(0))\n",
    "# Fixing the party label for 2012 minnesota democrat votes\n",
    "vote_df = vote_df.replace('democratic-farmer-labor', 'democrat')"
   ]
  },
  {
   "cell_type": "code",
   "execution_count": null,
   "metadata": {},
   "outputs": [],
   "source": [
    "data_2016 = get_dataset(2016)\n",
    "data_2012 = get_dataset(2012)\n",
    "census2018 = census_data(2018)"
   ]
  },
  {
   "cell_type": "code",
   "execution_count": null,
   "metadata": {},
   "outputs": [],
   "source": [
    "data_2012_2016 = pd.concat([data_2012.reset_index(), data_2016.reset_index()], ignore_index=True, axis=0)\n",
    "# data_2012_2016"
   ]
  },
  {
   "cell_type": "code",
   "execution_count": null,
   "metadata": {},
   "outputs": [],
   "source": [
    "X = data_2012_2016[['Total_population', 'Income_median', 'Income_per_capita', 'Unemployment_rate',\n",
    "               'Poverty_rate', 'Latitude', 'Longitude', 'median_male_age','median_female_age',\n",
    "              'population_white_alone','population_black_alone', 'population_asian_alone',\n",
    "               'population_hispanic_origin', 'population_american_indian_alone', \n",
    "               'median_house_construction_year']]\n",
    "y = data_2012_2016['winner']\n",
    "# from sklearn.model_selection import train_test_split\n",
    "# X_train, X_test, y_train, y_test = train_test_split(X, y, test_size=0.2, random_state = 5)"
   ]
  },
  {
   "cell_type": "markdown",
   "metadata": {},
   "source": [
    "## Model training"
   ]
  },
  {
   "cell_type": "code",
   "execution_count": null,
   "metadata": {},
   "outputs": [],
   "source": [
    "from sklearn.ensemble import RandomForestClassifier\n",
    "rf_model_master = RandomForestClassifier(n_estimators=100)\n",
    "rf_model_master.fit(X, y)"
   ]
  },
  {
   "cell_type": "code",
   "execution_count": null,
   "metadata": {},
   "outputs": [],
   "source": [
    "X_test_2012 = data_2012[['Total_population', 'Income_median', 'Income_per_capita', 'Unemployment_rate',\n",
    "               'Poverty_rate', 'Latitude', 'Longitude', 'median_male_age','median_female_age',\n",
    "              'population_white_alone','population_black_alone', 'population_asian_alone',\n",
    "               'population_hispanic_origin', 'population_american_indian_alone', \n",
    "               'median_house_construction_year']]\n",
    "y_test_2012 = data_2012['winner']\n",
    "y_predict_2012 = rf_model_master.predict(X_test_2012)\n",
    "cm_2012 = confusion_matrix(y_test_2012, y_predict_2012)\n",
    "sns.heatmap(cm_2012, annot=True)"
   ]
  },
  {
   "cell_type": "code",
   "execution_count": null,
   "metadata": {},
   "outputs": [],
   "source": [
    "X_test_2016 = data_2016[['Total_population', 'Income_median', 'Income_per_capita', 'Unemployment_rate',\n",
    "               'Poverty_rate', 'Latitude', 'Longitude', 'median_male_age','median_female_age',\n",
    "              'population_white_alone','population_black_alone', 'population_asian_alone',\n",
    "               'population_hispanic_origin', 'population_american_indian_alone', \n",
    "               'median_house_construction_year']]\n",
    "y_test_2016 = data_2016['winner']\n",
    "y_predict_2016 = rf_model_master.predict(X_test_2016)\n",
    "cm_2016 = confusion_matrix(y_test_2016, y_predict_2016)\n",
    "sns.heatmap(cm_2016, annot=True)"
   ]
  },
  {
   "cell_type": "markdown",
   "metadata": {},
   "source": [
    "### Predicting 2020 election using 2018 census data"
   ]
  },
  {
   "cell_type": "code",
   "execution_count": null,
   "metadata": {},
   "outputs": [],
   "source": [
    "from sklearn.externals import joblib\n",
    "# joblib.dump(rf_model_master, 'ryan_results/rf_model_master.sav')\n",
    "rf_model_master = joblib.load('ryan_results/rf_model_master.sav')"
   ]
  },
  {
   "cell_type": "code",
   "execution_count": null,
   "metadata": {},
   "outputs": [],
   "source": [
    "# Predict using the model\n",
    "# Input is census2018, output is vote_2018\n",
    "vote_2018 = rf_model_master.predict(census2018[['Total_population', 'Income_median', 'Income_per_capita', 'Unemployment_rate',\n",
    "               'Poverty_rate', 'Latitude', 'Longitude', 'median_male_age','median_female_age',\n",
    "              'population_white_alone','population_black_alone', 'population_asian_alone',\n",
    "               'population_hispanic_origin', 'population_american_indian_alone', \n",
    "               'median_house_construction_year']])"
   ]
  },
  {
   "cell_type": "code",
   "execution_count": null,
   "metadata": {},
   "outputs": [],
   "source": [
    "winner_2018 = pd.DataFrame(index=census2018.index, data = vote_2018, columns=['winner'])\n",
    "electoral_votes = pd.read_csv('Resources/Electoral_votes_2020.csv')\n",
    "prediction_2020 = winner_2018.merge(electoral_votes, on='State')\n",
    "party_counts = prediction_2020.winner.value_counts()\n",
    "final_votes = prediction_2020.groupby('winner').sum()\n",
    "final_votes['party counts'] = party_counts\n",
    "final_votes"
   ]
  },
  {
   "cell_type": "markdown",
   "metadata": {},
   "source": [
    "#### Comparing the predicted 2020 with 2012&2016"
   ]
  },
  {
   "cell_type": "code",
   "execution_count": null,
   "metadata": {},
   "outputs": [],
   "source": [
    "compare = prediction_2020.merge(data_2016.winner, left_on='State', right_index=True)\n",
    "compare = compare.rename(columns={\n",
    "    'winner_x': 2020,\n",
    "    'winner_y': 2016,\n",
    "})\n",
    "compare = compare.merge(data_2012.winner, left_on='State', right_index=True)\n",
    "compare = compare.merge(data_2016.Code, left_on='State', right_index=True)\n",
    "compare = compare.rename(columns={'winner':2012})\n",
    "compare = compare.set_index('State')\n",
    "compare = compare[['Code', 2020, 2016, 2012, 'Number of Electoral Votes']]\n",
    "compare.to_csv('ryan_results/compare.csv')"
   ]
  },
  {
   "cell_type": "code",
   "execution_count": null,
   "metadata": {},
   "outputs": [],
   "source": [
    "compare"
   ]
  },
  {
   "cell_type": "code",
   "execution_count": null,
   "metadata": {
    "scrolled": true
   },
   "outputs": [],
   "source": [
    "geomap = compare.copy()\n",
    "geomap.loc[geomap[2020] == 'Republican', 'Weights'] = geomap.loc[geomap[2020] == 'Republican']['Number of Electoral Votes'] * (-1)\n",
    "geomap.loc[geomap[2020] == 'Democrat', 'Weights'] = geomap.loc[geomap[2020] == 'Democrat']['Number of Electoral Votes']\n",
    "geomap[['Code', 2020, 'Number of Electoral Votes']].head()"
   ]
  },
  {
   "cell_type": "code",
   "execution_count": null,
   "metadata": {},
   "outputs": [],
   "source": [
    "import plotly.express as px\n",
    "px.choropleth(locations=geomap.Code, color=geomap.Weights, \n",
    "              color_continuous_scale=[(0, 'red'), (0.408, 'white'), (1, 'blue')], \n",
    "              locationmode=\"USA-states\", scope='usa')"
   ]
  },
  {
   "cell_type": "markdown",
   "metadata": {},
   "source": [
    "# Ryan code ends"
   ]
  },
  {
   "cell_type": "code",
   "execution_count": null,
   "metadata": {},
   "outputs": [],
   "source": [
    "#Connor code"
   ]
  },
  {
   "cell_type": "code",
   "execution_count": null,
   "metadata": {},
   "outputs": [],
   "source": [
    "import scipy.stats as st\n",
    "from scipy.stats import linregress\n"
   ]
  },
  {
   "cell_type": "code",
   "execution_count": null,
   "metadata": {},
   "outputs": [],
   "source": [
    "\n",
    "# Read in CSV Files\n",
    "census_2012_df = pd.read_csv('Resources/2012_population_data.csv')\n",
    "census_2016_df = pd.read_csv('Resources/2016_population_data.csv')"
   ]
  },
  {
   "cell_type": "code",
   "execution_count": null,
   "metadata": {},
   "outputs": [],
   "source": [
    "census_2012_df.head()"
   ]
  },
  {
   "cell_type": "code",
   "execution_count": null,
   "metadata": {},
   "outputs": [],
   "source": [
    "total_young_males = census_2012_df[\"Males 18 and 19 years\"] + census_2012_df[\"Males 20 to 24\"] + census_2012_df[\"Males 25 to 29 years\"]\n",
    "total_young_females = census_2012_df[\"Females 18 and 19 years\"] + census_2012_df[\"Females 20 to 24\"] + census_2012_df[\"Females 25 to 29 years\"]\n",
    "percent_males = total_young_males/census_2012_df[\"Total State Population\"]\n",
    "percent_females = total_young_females/census_2012_df[\"Total State Population\"]\n",
    "total_votes = census_2012_df[\"Democrat votes 2012\"] + census_2012_df[\"Republican votes 2012\"]\n",
    "new_2012_df = pd.DataFrame({\"State\": census_2012_df[\"State\"],\n",
    "                            \"Total Males 18 to 29\":total_young_males,\n",
    "                            \"Total Females 18 to 29\":total_young_females,\n",
    "                            \"Total People 18 to 29\":total_young_males+total_young_females,\n",
    "                            \"Percent Males\": percent_males*100,\n",
    "                            \"Percent Females\": percent_females*100,\n",
    "                            \"Percent 18 to 29\": (percent_males + percent_females)*100,\n",
    "                            \"Total Votes\": total_votes,\n",
    "                            \"Percent Democrat\": (census_2012_df[\"Democrat votes 2012\"]/total_votes)*100,\n",
    "                            \"Percent Republican\": (census_2012_df[\"Republican votes 2012\"]/total_votes)*100\n",
    "})\n",
    "new_2012_df.head()"
   ]
  },
  {
   "cell_type": "code",
   "execution_count": null,
   "metadata": {},
   "outputs": [],
   "source": [
    "plt.bar(new_2012_df[\"State\"],new_2012_df[\"Percent 18 to 29\"])\n",
    "plt.title(\"2012 18 to 29 y/o by State\")\n",
    "plt.xlabel(\"State\")\n",
    "plt.ylabel(\"Percent of 18 to 29 y/o\")\n",
    "plt.ylim(new_2012_df[\"Percent 18 to 29\"].min()-1,new_2012_df[\"Percent 18 to 29\"].max()+1)\n",
    "plt.xticks(rotation=90)\n",
    "plt.tight_layout"
   ]
  },
  {
   "cell_type": "code",
   "execution_count": null,
   "metadata": {},
   "outputs": [],
   "source": [
    "(slope, intercept, rvalue, pvalue, stderr) = linregress(new_2012_df[\"Percent 18 to 29\"], new_2012_df[\"Percent Democrat\"])\n",
    "regress_values_d_2012 = new_2012_df[\"Percent 18 to 29\"] * slope + intercept\n",
    "line_eq_d_2012 = \"y = \" + str(round(slope,2)) + \"x + \" + str(round(intercept,2))\n",
    "(slope, intercept, rvalue, pvalue, stderr) = linregress(new_2012_df[\"Percent 18 to 29\"], new_2012_df[\"Percent Republican\"])\n",
    "regress_values_r_2012 = new_2012_df[\"Percent 18 to 29\"] * slope + intercept\n",
    "line_eq_r_2012 = \"y = \" + str(round(slope,2)) + \"x + \" + str(round(intercept,2))"
   ]
  },
  {
   "cell_type": "code",
   "execution_count": null,
   "metadata": {},
   "outputs": [],
   "source": [
    "plt.scatter(new_2012_df[\"Percent 18 to 29\"],new_2012_df[\"Percent Democrat\"],marker='o', c='blue')\n",
    "plt.scatter(new_2012_df[\"Percent 18 to 29\"],new_2012_df[\"Percent Republican\"],marker='o', c='red')\n",
    "plt.xlabel(\"Percentage of 18 to 29\")\n",
    "plt.ylabel(\"Percentage of Votes\")\n",
    "plt.title(\"Voter type vs 18 to 29 y/o\")\n",
    "correlation_2012 = st.pearsonr(new_2012_df[\"Percent 18 to 29\"],new_2012_df[\"Percent Democrat\"])\n",
    "plt.plot(new_2012_df[\"Percent 18 to 29\"],regress_values_d_2012,\"r-\")\n",
    "plt.plot(new_2012_df[\"Percent 18 to 29\"],regress_values_r_2012,\"r-\",c=\"blue\")\n",
    "#plt.annotate(line_eq_d_2012,(14,24),fontsize=15,color=\"red\")\n",
    "ttest_2012 = st.ttest_ind(new_2012_df[\"Percent 18 to 29\"],new_2012_df[\"Percent Democrat\"],equal_var=False)\n",
    "print(f\"The correlation between both factors is {round(correlation_2012[0],2)}\")\n",
    "print(f'The regression line for Democrats is {line_eq_d_2012}.')\n",
    "print(f'The regression line for Republicans is {line_eq_r_2012}.')\n",
    "ttest_2012"
   ]
  },
  {
   "cell_type": "code",
   "execution_count": null,
   "metadata": {},
   "outputs": [],
   "source": [
    "census_2016_df.head()"
   ]
  },
  {
   "cell_type": "code",
   "execution_count": null,
   "metadata": {},
   "outputs": [],
   "source": [
    "total_young_males_2016 = census_2016_df[\"Males 18 and 19 years\"] + census_2016_df[\"Males 20 to 24\"] + census_2016_df[\"Males 25 to 29 years\"]\n",
    "total_young_females_2016 = census_2016_df[\"Females 18 and 19 years\"] + census_2016_df[\"Females 20 to 24\"] + census_2016_df[\"Females 25 to 29 years\"]\n",
    "percent_males_2016 = total_young_males_2016/census_2016_df[\"Total State Population\"].astype('float')\n",
    "percent_females_2016 = total_young_females_2016/census_2016_df[\"Total State Population\"].astype('float')\n",
    "total_votes = census_2012_df[\"Democrat votes 2012\"] + census_2012_df[\"Republican votes 2012\"]\n",
    "new_2016_df = pd.DataFrame({\"State\": census_2016_df[\"State\"],\n",
    "                            \"Total Males 18 to 29\": total_young_males,\n",
    "                            \"Total Females 18 to 29\": total_young_females,\n",
    "                            \"Total People 18 to 29\": total_young_males_2016 + total_young_females_2016,\n",
    "                            \"Percent Males\": percent_males_2016*100,\n",
    "                            \"Percent Females\": percent_females_2016*100,\n",
    "                            \"Percent 18 to 29\": (percent_males_2016 + percent_females_2016)*100,\n",
    "                            \"Total Votes\": total_votes,\n",
    "                            \"Percent Democrat\": (census_2012_df[\"Democrat votes 2012\"]/total_votes)*100,\n",
    "                            \"Percent Republican\": (census_2012_df[\"Republican votes 2012\"]/total_votes)*100\n",
    "})\n",
    "new_2016_df.head()"
   ]
  },
  {
   "cell_type": "code",
   "execution_count": null,
   "metadata": {},
   "outputs": [],
   "source": [
    "plt.bar(new_2016_df[\"State\"],new_2016_df[\"Percent 18 to 29\"])\n",
    "plt.title(\"2016 18 to 29 y/o by State\")\n",
    "plt.xlabel(\"State\")\n",
    "plt.ylabel(\"Percent of 18 to 29 y/o\")\n",
    "plt.ylim(new_2016_df[\"Percent 18 to 29\"].min()-1,new_2016_df[\"Percent 18 to 29\"].max()+1)\n",
    "plt.xticks(rotation=90)\n",
    "plt.tight_layout"
   ]
  },
  {
   "cell_type": "code",
   "execution_count": null,
   "metadata": {},
   "outputs": [],
   "source": [
    "(slope, intercept, rvalue, pvalue, stderr) = linregress(new_2016_df[\"Percent 18 to 29\"], new_2016_df[\"Percent Democrat\"])\n",
    "regress_values_d_2016 = new_2016_df[\"Percent 18 to 29\"] * slope + intercept\n",
    "line_eq_d_2016 = \"y = \" + str(round(slope,2)) + \"x + \" + str(round(intercept,2))\n",
    "(slope, intercept, rvalue, pvalue, stderr) = linregress(new_2016_df[\"Percent 18 to 29\"], new_2016_df[\"Percent Republican\"])\n",
    "regress_values_r_2016 = new_2016_df[\"Percent 18 to 29\"] * slope + intercept\n",
    "line_eq_r_2016 = \"y = \" + str(round(slope,2)) + \"x + \" + str(round(intercept,2))"
   ]
  },
  {
   "cell_type": "code",
   "execution_count": null,
   "metadata": {},
   "outputs": [],
   "source": [
    "plt.scatter(new_2016_df[\"Percent 18 to 29\"],new_2016_df[\"Percent Democrat\"],marker='o', c='blue')\n",
    "plt.scatter(new_2016_df[\"Percent 18 to 29\"],new_2016_df[\"Percent Republican\"],marker='o', c='red')\n",
    "plt.xlabel(\"Percentage of 18 to 29\")\n",
    "plt.ylabel(\"Percentage of Votes\")\n",
    "plt.title(\"Voter type vs 18 to 29 y/o\")\n",
    "correlation_2016 = st.pearsonr(new_2016_df[\"Percent 18 to 29\"],new_2016_df[\"Percent Democrat\"])\n",
    "plt.plot(new_2016_df[\"Percent 18 to 29\"],regress_values_d_2016,\"r-\")\n",
    "plt.plot(new_2016_df[\"Percent 18 to 29\"],regress_values_r_2016,\"r-\",c=\"blue\")\n",
    "#plt.annotate(line_eq_d_2012,(14,24),fontsize=15,color=\"red\")\n",
    "ttest_2016 = st.ttest_ind(new_2016_df[\"Percent 18 to 29\"],new_2016_df[\"Percent Democrat\"],equal_var=False)\n",
    "print(f\"The correlation between both factors is {round(correlation_2016[0],2)}\")\n",
    "print(f'The regression line for Democrats is {line_eq_d_2016}.')\n",
    "print(f'The regression line for Republicans is {line_eq_r_2016}.')\n",
    "ttest_2016"
   ]
  },
  {
   "cell_type": "code",
   "execution_count": null,
   "metadata": {},
   "outputs": [],
   "source": []
  },
  {
   "cell_type": "code",
   "execution_count": null,
   "metadata": {},
   "outputs": [],
   "source": [
    "#Connor code ends"
   ]
  }
 ],
 "metadata": {
  "kernelspec": {
   "display_name": "Python 3",
   "language": "python",
   "name": "python3"
  },
  "language_info": {
   "codemirror_mode": {
    "name": "ipython",
    "version": 3
   },
   "file_extension": ".py",
   "mimetype": "text/x-python",
   "name": "python",
   "nbconvert_exporter": "python",
   "pygments_lexer": "ipython3",
   "version": "3.8.1"
  }
 },
 "nbformat": 4,
 "nbformat_minor": 4
}
