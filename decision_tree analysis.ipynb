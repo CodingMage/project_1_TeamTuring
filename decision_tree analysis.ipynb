{
 "cells": [
  {
   "cell_type": "code",
   "execution_count": 1,
   "metadata": {},
   "outputs": [],
   "source": [
    "import numpy as np\n",
    "import pandas as pd\n",
    "import matplotlib.pyplot as plt\n",
    "import seaborn as sns\n",
    "import requests\n",
    "import json\n",
    "from config import api_key\n",
    "from census import Census\n",
    "from us import states"
   ]
  },
  {
   "cell_type": "markdown",
   "metadata": {},
   "source": [
    "## Defining census_api functions"
   ]
  },
  {
   "cell_type": "code",
   "execution_count": 2,
   "metadata": {},
   "outputs": [],
   "source": [
    "# census_api() function, returning the census data of a given year.\n",
    "def census_data(YEAR):\n",
    "    c = Census(api_key, year=YEAR)\n",
    "    raw_data = c.acs5.get(('NAME', 'B19013_001E', 'B19301_001E', 'B23025_003E',\n",
    "                       'B23025_004E', 'B23025_005E', 'B01003_001E', \"B01002_001E\", \"B17001_002E\"), {'for':'state:*'})\n",
    "    census_df_raw = pd.DataFrame(raw_data)\n",
    "    census_df_raw = census_df_raw.rename(columns = {'state': 'State#',\n",
    "                          'NAME': 'State', \n",
    "                          'B01003_001E':'Total_population',\n",
    "                          'B23025_003E':'Employable_civilians',\n",
    "                          'B23025_004E':'Employed_civilians', \n",
    "                          'B23025_005E':'Unemployed_civilians', \n",
    "                          'B19013_001E':'Income_median',\n",
    "                          'B19301_001E':'Income_per_capita',\n",
    "                          \"B01002_001E\":'median age',\n",
    "                          \"B17001_002E\":'Poverty_count'    \n",
    "    })\n",
    "    census_df_raw = census_df_raw.sort_values('State#').reset_index(drop=True)\n",
    "    # reformatting census data\n",
    "    census_df = census_df_raw.loc[:,['State', 'Total_population', 'Income_median', 'Income_per_capita']]\n",
    "    census_df['Poverty_rate'] = census_df_raw.Poverty_count/census_df_raw.Total_population\n",
    "    census_df['Unemployment_rate'] = census_df_raw.Unemployed_civilians/census_df_raw.Employable_civilians\n",
    "    state_df = pd.read_csv('Resources/state_centroids.csv')\n",
    "    census_df = pd.merge(census_df, state_df, on = 'State')\n",
    "    census_df = census_df.set_index('State')\n",
    "    return census_df"
   ]
  },
  {
   "cell_type": "code",
   "execution_count": 3,
   "metadata": {},
   "outputs": [],
   "source": [
    "# Preparing the vote data of a given year.\n",
    "csvfile = 'Resources/1976-2016-president.tab'\n",
    "vote_df = pd.read_csv(csvfile, sep='\\t', header=(0))\n",
    "# Fixing the party label for 2012 minnesota democrat votes\n",
    "vote_df = vote_df.replace('democratic-farmer-labor', 'democrat')"
   ]
  },
  {
   "cell_type": "code",
   "execution_count": 4,
   "metadata": {},
   "outputs": [],
   "source": [
    "def vote_data(YEAR):\n",
    "    demo_raw = vote_df.loc[(vote_df.year == YEAR)&(vote_df.party == 'democrat'), ['state', 'candidatevotes']]\n",
    "    demo = demo_raw.groupby('state')['candidatevotes'].sum()\n",
    "    rep_raw = vote_df.loc[(vote_df.year == YEAR)&(vote_df.party == 'republican'),['state', 'candidatevotes']]\n",
    "    rep = rep_raw.groupby('state')['candidatevotes'].sum()\n",
    "    total = vote_df.loc[(vote_df.year == YEAR), ['state', 'totalvotes']].groupby('state').mean()['totalvotes'] \n",
    "    vote_df_year = pd.concat([demo, rep, total],axis=1)\n",
    "    vote_df_year.columns = [str(YEAR)+'_democrat_votes', str(YEAR)+'_republican_votes', str(YEAR)+'_total_votes']\n",
    "    return vote_df_year"
   ]
  },
  {
   "cell_type": "code",
   "execution_count": 5,
   "metadata": {},
   "outputs": [],
   "source": [
    "# Merging data for a given year. The function takes 3 arguments: dataframe1, dataframe2, year\n",
    "def get_dataset(YEAR):\n",
    "    dataset = census_data(YEAR).merge(vote_data(YEAR), left_index=True, right_index=True)\n",
    "    dataset['votes difference'] = dataset[str(YEAR)+'_democrat_votes'] - dataset[str(YEAR)+'_republican_votes']\n",
    "    dataset.loc[dataset['votes difference']<0, 'winner'] = 'Republican'\n",
    "    dataset.loc[dataset['votes difference']>0, 'winner'] = 'Democrat'\n",
    "    return dataset"
   ]
  },
  {
   "cell_type": "code",
   "execution_count": 68,
   "metadata": {},
   "outputs": [],
   "source": [
    "data_2016 = get_dataset(2016)\n",
    "data_2012 = get_dataset(2012)"
   ]
  },
  {
   "cell_type": "code",
   "execution_count": 7,
   "metadata": {},
   "outputs": [
    {
     "data": {
      "text/html": [
       "<div>\n",
       "<style scoped>\n",
       "    .dataframe tbody tr th:only-of-type {\n",
       "        vertical-align: middle;\n",
       "    }\n",
       "\n",
       "    .dataframe tbody tr th {\n",
       "        vertical-align: top;\n",
       "    }\n",
       "\n",
       "    .dataframe thead th {\n",
       "        text-align: right;\n",
       "    }\n",
       "</style>\n",
       "<table border=\"1\" class=\"dataframe\">\n",
       "  <thead>\n",
       "    <tr style=\"text-align: right;\">\n",
       "      <th></th>\n",
       "      <th>Total_population</th>\n",
       "      <th>Income_median</th>\n",
       "      <th>Income_per_capita</th>\n",
       "      <th>Poverty_rate</th>\n",
       "      <th>Unemployment_rate</th>\n",
       "      <th>Latitude</th>\n",
       "      <th>Longitude</th>\n",
       "      <th>2016_democrat_votes</th>\n",
       "      <th>2016_republican_votes</th>\n",
       "      <th>2016_total_votes</th>\n",
       "      <th>votes difference</th>\n",
       "      <th>winner</th>\n",
       "    </tr>\n",
       "  </thead>\n",
       "  <tbody>\n",
       "    <tr>\n",
       "      <th>Alabama</th>\n",
       "      <td>4841164.0</td>\n",
       "      <td>44758.0</td>\n",
       "      <td>24736.0</td>\n",
       "      <td>0.179433</td>\n",
       "      <td>0.082856</td>\n",
       "      <td>32.7794</td>\n",
       "      <td>-86.8287</td>\n",
       "      <td>729547</td>\n",
       "      <td>1318255</td>\n",
       "      <td>2123372</td>\n",
       "      <td>-588708</td>\n",
       "      <td>Republican</td>\n",
       "    </tr>\n",
       "    <tr>\n",
       "      <th>Alaska</th>\n",
       "      <td>736855.0</td>\n",
       "      <td>74444.0</td>\n",
       "      <td>34191.0</td>\n",
       "      <td>0.098834</td>\n",
       "      <td>0.078468</td>\n",
       "      <td>64.0685</td>\n",
       "      <td>-152.2782</td>\n",
       "      <td>116454</td>\n",
       "      <td>163387</td>\n",
       "      <td>318608</td>\n",
       "      <td>-46933</td>\n",
       "      <td>Republican</td>\n",
       "    </tr>\n",
       "    <tr>\n",
       "      <th>Arizona</th>\n",
       "      <td>6728577.0</td>\n",
       "      <td>51340.0</td>\n",
       "      <td>26686.0</td>\n",
       "      <td>0.173237</td>\n",
       "      <td>0.079880</td>\n",
       "      <td>34.2744</td>\n",
       "      <td>-111.6602</td>\n",
       "      <td>1161209</td>\n",
       "      <td>1252401</td>\n",
       "      <td>2573165</td>\n",
       "      <td>-91192</td>\n",
       "      <td>Republican</td>\n",
       "    </tr>\n",
       "  </tbody>\n",
       "</table>\n",
       "</div>"
      ],
      "text/plain": [
       "         Total_population  Income_median  Income_per_capita  Poverty_rate  \\\n",
       "Alabama         4841164.0        44758.0            24736.0      0.179433   \n",
       "Alaska           736855.0        74444.0            34191.0      0.098834   \n",
       "Arizona         6728577.0        51340.0            26686.0      0.173237   \n",
       "\n",
       "         Unemployment_rate  Latitude  Longitude  2016_democrat_votes  \\\n",
       "Alabama           0.082856   32.7794   -86.8287               729547   \n",
       "Alaska            0.078468   64.0685  -152.2782               116454   \n",
       "Arizona           0.079880   34.2744  -111.6602              1161209   \n",
       "\n",
       "         2016_republican_votes  2016_total_votes  votes difference      winner  \n",
       "Alabama                1318255           2123372           -588708  Republican  \n",
       "Alaska                  163387            318608            -46933  Republican  \n",
       "Arizona                1252401           2573165            -91192  Republican  "
      ]
     },
     "execution_count": 7,
     "metadata": {},
     "output_type": "execute_result"
    }
   ],
   "source": [
    "data_2016.head(3)"
   ]
  },
  {
   "cell_type": "markdown",
   "metadata": {},
   "source": [
    "# training data 2016"
   ]
  },
  {
   "cell_type": "code",
   "execution_count": 55,
   "metadata": {},
   "outputs": [],
   "source": [
    "X = data_2016[['Total_population', 'Income_median', 'Income_per_capita', 'Unemployment_rate', 'Poverty_rate', 'Latitude', 'Longitude']]\n",
    "y = data_2016['winner']\n",
    "from sklearn.model_selection import train_test_split\n",
    "X_train, X_test, y_train, y_test = train_test_split(X, y, test_size=0.1, random_state = 5)"
   ]
  },
  {
   "cell_type": "markdown",
   "metadata": {},
   "source": [
    "* training decision_tree classifier"
   ]
  },
  {
   "cell_type": "code",
   "execution_count": 56,
   "metadata": {},
   "outputs": [
    {
     "data": {
      "text/html": [
       "<div>\n",
       "<style scoped>\n",
       "    .dataframe tbody tr th:only-of-type {\n",
       "        vertical-align: middle;\n",
       "    }\n",
       "\n",
       "    .dataframe tbody tr th {\n",
       "        vertical-align: top;\n",
       "    }\n",
       "\n",
       "    .dataframe thead th {\n",
       "        text-align: right;\n",
       "    }\n",
       "</style>\n",
       "<table border=\"1\" class=\"dataframe\">\n",
       "  <thead>\n",
       "    <tr style=\"text-align: right;\">\n",
       "      <th></th>\n",
       "      <th>importance</th>\n",
       "    </tr>\n",
       "  </thead>\n",
       "  <tbody>\n",
       "    <tr>\n",
       "      <th>Income_per_capita</th>\n",
       "      <td>0.588585</td>\n",
       "    </tr>\n",
       "    <tr>\n",
       "      <th>Latitude</th>\n",
       "      <td>0.163399</td>\n",
       "    </tr>\n",
       "    <tr>\n",
       "      <th>Longitude</th>\n",
       "      <td>0.158985</td>\n",
       "    </tr>\n",
       "    <tr>\n",
       "      <th>Income_median</th>\n",
       "      <td>0.046296</td>\n",
       "    </tr>\n",
       "    <tr>\n",
       "      <th>Poverty_rate</th>\n",
       "      <td>0.042735</td>\n",
       "    </tr>\n",
       "    <tr>\n",
       "      <th>Total_population</th>\n",
       "      <td>0.000000</td>\n",
       "    </tr>\n",
       "    <tr>\n",
       "      <th>Unemployment_rate</th>\n",
       "      <td>0.000000</td>\n",
       "    </tr>\n",
       "  </tbody>\n",
       "</table>\n",
       "</div>"
      ],
      "text/plain": [
       "                   importance\n",
       "Income_per_capita    0.588585\n",
       "Latitude             0.163399\n",
       "Longitude            0.158985\n",
       "Income_median        0.046296\n",
       "Poverty_rate         0.042735\n",
       "Total_population     0.000000\n",
       "Unemployment_rate    0.000000"
      ]
     },
     "execution_count": 56,
     "metadata": {},
     "output_type": "execute_result"
    }
   ],
   "source": [
    "from sklearn.tree import DecisionTreeClassifier\n",
    "decision_tree = DecisionTreeClassifier()\n",
    "decision_tree.fit(X_train,y_train)\n",
    "feature_importances = pd.DataFrame(decision_tree.feature_importances_,\n",
    "                                   index = X_train.columns,\n",
    "                                    columns=['importance']).sort_values('importance',ascending=False)\n",
    "feature_importances"
   ]
  },
  {
   "cell_type": "code",
   "execution_count": 57,
   "metadata": {},
   "outputs": [],
   "source": [
    "from sklearn.metrics import classification_report, confusion_matrix"
   ]
  },
  {
   "cell_type": "code",
   "execution_count": 58,
   "metadata": {},
   "outputs": [],
   "source": [
    "# y_predict_train = decision_tree.predict(X_train)\n",
    "# y_predict_train\n",
    "# cm = confusion_matrix(y_train, y_predict_train)\n",
    "# sns.heatmap(cm, annot=True)"
   ]
  },
  {
   "cell_type": "code",
   "execution_count": 59,
   "metadata": {},
   "outputs": [
    {
     "data": {
      "text/plain": [
       "<matplotlib.axes._subplots.AxesSubplot at 0x2c35549d388>"
      ]
     },
     "execution_count": 59,
     "metadata": {},
     "output_type": "execute_result"
    },
    {
     "data": {
      "image/png": "[encoded data removed]",
      "text/plain": [
       "<Figure size 432x288 with 2 Axes>"
      ]
     },
     "metadata": {
      "needs_background": "light"
     },
     "output_type": "display_data"
    }
   ],
   "source": [
    "y_predict_test = decision_tree.predict(X_test)\n",
    "cm = confusion_matrix(y_test, y_predict_test)\n",
    "sns.heatmap(cm, annot=True)"
   ]
  },
  {
   "cell_type": "code",
   "execution_count": 60,
   "metadata": {},
   "outputs": [],
   "source": [
    "# print(classification_report(y_test, y_predict_test))"
   ]
  },
  {
   "cell_type": "markdown",
   "metadata": {},
   "source": [
    "# decision tree 2012 data\n",
    "* X_2012, y_2012, y_predict_test_2012"
   ]
  },
  {
   "cell_type": "code",
   "execution_count": 61,
   "metadata": {},
   "outputs": [],
   "source": [
    "X_2012 = data_2012[['Total_population', 'Income_median', 'Income_per_capita', 'Unemployment_rate', 'Poverty_rate', 'Latitude', 'Longitude']]\n",
    "y_2012 = data_2012['winner']"
   ]
  },
  {
   "cell_type": "code",
   "execution_count": 62,
   "metadata": {},
   "outputs": [
    {
     "data": {
      "text/plain": [
       "<matplotlib.axes._subplots.AxesSubplot at 0x2c3555373c8>"
      ]
     },
     "execution_count": 62,
     "metadata": {},
     "output_type": "execute_result"
    },
    {
     "data": {
      "image/png": "[encoded data removed]",
      "text/plain": [
       "<Figure size 432x288 with 2 Axes>"
      ]
     },
     "metadata": {
      "needs_background": "light"
     },
     "output_type": "display_data"
    }
   ],
   "source": [
    "y_predict_test_2012 = decision_tree.predict(X_2012)\n",
    "# y_predict_test_2012\n",
    "cm_2012 = confusion_matrix(y_2012, y_predict_test_2012)\n",
    "sns.heatmap(cm_2012, annot=True)"
   ]
  },
  {
   "cell_type": "markdown",
   "metadata": {},
   "source": [
    "# RandomForest classifier\n",
    "* rf_model"
   ]
  },
  {
   "cell_type": "code",
   "execution_count": 63,
   "metadata": {},
   "outputs": [
    {
     "data": {
      "text/plain": [
       "RandomForestClassifier(bootstrap=True, ccp_alpha=0.0, class_weight=None,\n",
       "                       criterion='gini', max_depth=None, max_features='auto',\n",
       "                       max_leaf_nodes=None, max_samples=None,\n",
       "                       min_impurity_decrease=0.0, min_impurity_split=None,\n",
       "                       min_samples_leaf=1, min_samples_split=2,\n",
       "                       min_weight_fraction_leaf=0.0, n_estimators=100,\n",
       "                       n_jobs=None, oob_score=False, random_state=None,\n",
       "                       verbose=0, warm_start=False)"
      ]
     },
     "execution_count": 63,
     "metadata": {},
     "output_type": "execute_result"
    }
   ],
   "source": [
    "from sklearn.ensemble import RandomForestClassifier\n",
    "rf_model = RandomForestClassifier(n_estimators=100)\n",
    "rf_model.fit(X_train, y_train)"
   ]
  },
  {
   "cell_type": "code",
   "execution_count": 64,
   "metadata": {},
   "outputs": [],
   "source": [
    "# y_predict_train = rf_model.predict(X_train)\n",
    "# y_predict_train\n",
    "# cm = confusion_matrix(y_train, y_predict_train)\n",
    "# sns.heatmap(cm, annot=True)"
   ]
  },
  {
   "cell_type": "code",
   "execution_count": 65,
   "metadata": {},
   "outputs": [
    {
     "data": {
      "text/plain": [
       "<matplotlib.axes._subplots.AxesSubplot at 0x2c3555e63c8>"
      ]
     },
     "execution_count": 65,
     "metadata": {},
     "output_type": "execute_result"
    },
    {
     "data": {
      "image/png": "[encoded data removed]",
      "text/plain": [
       "<Figure size 432x288 with 2 Axes>"
      ]
     },
     "metadata": {
      "needs_background": "light"
     },
     "output_type": "display_data"
    }
   ],
   "source": [
    "y_predict_test = rf_model.predict(X_test)\n",
    "cm = confusion_matrix(y_test, y_predict_test)\n",
    "sns.heatmap(cm, annot=True)"
   ]
  },
  {
   "cell_type": "code",
   "execution_count": 66,
   "metadata": {},
   "outputs": [
    {
     "data": {
      "text/plain": [
       "<matplotlib.axes._subplots.AxesSubplot at 0x2c3555bf848>"
      ]
     },
     "execution_count": 66,
     "metadata": {},
     "output_type": "execute_result"
    },
    {
     "data": {
      "image/png": "[encoded data removed]",
      "text/plain": [
       "<Figure size 432x288 with 2 Axes>"
      ]
     },
     "metadata": {
      "needs_background": "light"
     },
     "output_type": "display_data"
    }
   ],
   "source": [
    "y_predict_rf_2012 = rf_model.predict(X_2012)\n",
    "cm = confusion_matrix(y_2012, y_predict_rf_2012)\n",
    "sns.heatmap(cm, annot=True)"
   ]
  },
  {
   "cell_type": "code",
   "execution_count": 67,
   "metadata": {},
   "outputs": [],
   "source": [
    "# data_2012['prediction'] = y_predict_rf_2012\n",
    "# data_2012[['winner','prediction']]"
   ]
  },
  {
   "cell_type": "markdown",
   "metadata": {},
   "source": [
    "# master_df"
   ]
  },
  {
   "cell_type": "code",
   "execution_count": 72,
   "metadata": {},
   "outputs": [
    {
     "name": "stderr",
     "output_type": "stream",
     "text": [
      "C:\\Users\\zhan3\\Anaconda3\\envs\\PythonData\\lib\\site-packages\\ipykernel_launcher.py:1: FutureWarning: Sorting because non-concatenation axis is not aligned. A future version\n",
      "of pandas will change to not sort by default.\n",
      "\n",
      "To accept the future behavior, pass 'sort=False'.\n",
      "\n",
      "To retain the current behavior and silence the warning, pass 'sort=True'.\n",
      "\n",
      "  \"\"\"Entry point for launching an IPython kernel.\n"
     ]
    },
    {
     "data": {
      "text/html": [
       "<div>\n",
       "<style scoped>\n",
       "    .dataframe tbody tr th:only-of-type {\n",
       "        vertical-align: middle;\n",
       "    }\n",
       "\n",
       "    .dataframe tbody tr th {\n",
       "        vertical-align: top;\n",
       "    }\n",
       "\n",
       "    .dataframe thead th {\n",
       "        text-align: right;\n",
       "    }\n",
       "</style>\n",
       "<table border=\"1\" class=\"dataframe\">\n",
       "  <thead>\n",
       "    <tr style=\"text-align: right;\">\n",
       "      <th></th>\n",
       "      <th>2012_democrat_votes</th>\n",
       "      <th>2012_republican_votes</th>\n",
       "      <th>2012_total_votes</th>\n",
       "      <th>2016_democrat_votes</th>\n",
       "      <th>2016_republican_votes</th>\n",
       "      <th>2016_total_votes</th>\n",
       "      <th>Income_median</th>\n",
       "      <th>Income_per_capita</th>\n",
       "      <th>Latitude</th>\n",
       "      <th>Longitude</th>\n",
       "      <th>Poverty_rate</th>\n",
       "      <th>Total_population</th>\n",
       "      <th>Unemployment_rate</th>\n",
       "      <th>index</th>\n",
       "      <th>votes difference</th>\n",
       "      <th>winner</th>\n",
       "    </tr>\n",
       "  </thead>\n",
       "  <tbody>\n",
       "    <tr>\n",
       "      <th>0</th>\n",
       "      <td>795696.0</td>\n",
       "      <td>1255925.0</td>\n",
       "      <td>2074338.0</td>\n",
       "      <td>NaN</td>\n",
       "      <td>NaN</td>\n",
       "      <td>NaN</td>\n",
       "      <td>43160.0</td>\n",
       "      <td>23587.0</td>\n",
       "      <td>32.7794</td>\n",
       "      <td>-86.8287</td>\n",
       "      <td>0.176310</td>\n",
       "      <td>4777326.0</td>\n",
       "      <td>0.102629</td>\n",
       "      <td>Alabama</td>\n",
       "      <td>-460229</td>\n",
       "      <td>Republican</td>\n",
       "    </tr>\n",
       "    <tr>\n",
       "      <th>1</th>\n",
       "      <td>122640.0</td>\n",
       "      <td>164676.0</td>\n",
       "      <td>300495.0</td>\n",
       "      <td>NaN</td>\n",
       "      <td>NaN</td>\n",
       "      <td>NaN</td>\n",
       "      <td>69917.0</td>\n",
       "      <td>32537.0</td>\n",
       "      <td>64.0685</td>\n",
       "      <td>-152.2782</td>\n",
       "      <td>0.093696</td>\n",
       "      <td>711139.0</td>\n",
       "      <td>0.084216</td>\n",
       "      <td>Alaska</td>\n",
       "      <td>-42036</td>\n",
       "      <td>Republican</td>\n",
       "    </tr>\n",
       "    <tr>\n",
       "      <th>2</th>\n",
       "      <td>1025232.0</td>\n",
       "      <td>1233654.0</td>\n",
       "      <td>2299254.0</td>\n",
       "      <td>NaN</td>\n",
       "      <td>NaN</td>\n",
       "      <td>NaN</td>\n",
       "      <td>50256.0</td>\n",
       "      <td>25571.0</td>\n",
       "      <td>34.2744</td>\n",
       "      <td>-111.6602</td>\n",
       "      <td>0.167679</td>\n",
       "      <td>6410979.0</td>\n",
       "      <td>0.097744</td>\n",
       "      <td>Arizona</td>\n",
       "      <td>-208422</td>\n",
       "      <td>Republican</td>\n",
       "    </tr>\n",
       "    <tr>\n",
       "      <th>3</th>\n",
       "      <td>394409.0</td>\n",
       "      <td>647744.0</td>\n",
       "      <td>1069468.0</td>\n",
       "      <td>NaN</td>\n",
       "      <td>NaN</td>\n",
       "      <td>NaN</td>\n",
       "      <td>40531.0</td>\n",
       "      <td>22007.0</td>\n",
       "      <td>34.8938</td>\n",
       "      <td>-92.4426</td>\n",
       "      <td>0.181839</td>\n",
       "      <td>2916372.0</td>\n",
       "      <td>0.085633</td>\n",
       "      <td>Arkansas</td>\n",
       "      <td>-253335</td>\n",
       "      <td>Republican</td>\n",
       "    </tr>\n",
       "    <tr>\n",
       "      <th>4</th>\n",
       "      <td>7854285.0</td>\n",
       "      <td>4839958.0</td>\n",
       "      <td>13038547.0</td>\n",
       "      <td>NaN</td>\n",
       "      <td>NaN</td>\n",
       "      <td>NaN</td>\n",
       "      <td>61400.0</td>\n",
       "      <td>29551.0</td>\n",
       "      <td>37.1841</td>\n",
       "      <td>-119.4696</td>\n",
       "      <td>0.149768</td>\n",
       "      <td>37325068.0</td>\n",
       "      <td>0.110285</td>\n",
       "      <td>California</td>\n",
       "      <td>3014327</td>\n",
       "      <td>Democrat</td>\n",
       "    </tr>\n",
       "    <tr>\n",
       "      <th>...</th>\n",
       "      <td>...</td>\n",
       "      <td>...</td>\n",
       "      <td>...</td>\n",
       "      <td>...</td>\n",
       "      <td>...</td>\n",
       "      <td>...</td>\n",
       "      <td>...</td>\n",
       "      <td>...</td>\n",
       "      <td>...</td>\n",
       "      <td>...</td>\n",
       "      <td>...</td>\n",
       "      <td>...</td>\n",
       "      <td>...</td>\n",
       "      <td>...</td>\n",
       "      <td>...</td>\n",
       "      <td>...</td>\n",
       "    </tr>\n",
       "    <tr>\n",
       "      <th>97</th>\n",
       "      <td>NaN</td>\n",
       "      <td>NaN</td>\n",
       "      <td>NaN</td>\n",
       "      <td>1981473.0</td>\n",
       "      <td>1769443.0</td>\n",
       "      <td>3982752.0</td>\n",
       "      <td>66149.0</td>\n",
       "      <td>34967.0</td>\n",
       "      <td>37.5215</td>\n",
       "      <td>-78.8537</td>\n",
       "      <td>0.110906</td>\n",
       "      <td>8310301.0</td>\n",
       "      <td>0.059495</td>\n",
       "      <td>Virginia</td>\n",
       "      <td>212030</td>\n",
       "      <td>Democrat</td>\n",
       "    </tr>\n",
       "    <tr>\n",
       "      <th>98</th>\n",
       "      <td>NaN</td>\n",
       "      <td>NaN</td>\n",
       "      <td>NaN</td>\n",
       "      <td>1742718.0</td>\n",
       "      <td>1221747.0</td>\n",
       "      <td>3317019.0</td>\n",
       "      <td>62848.0</td>\n",
       "      <td>32999.0</td>\n",
       "      <td>47.3826</td>\n",
       "      <td>-120.4472</td>\n",
       "      <td>0.124875</td>\n",
       "      <td>7073146.0</td>\n",
       "      <td>0.068426</td>\n",
       "      <td>Washington</td>\n",
       "      <td>520971</td>\n",
       "      <td>Democrat</td>\n",
       "    </tr>\n",
       "    <tr>\n",
       "      <th>99</th>\n",
       "      <td>NaN</td>\n",
       "      <td>NaN</td>\n",
       "      <td>NaN</td>\n",
       "      <td>188794.0</td>\n",
       "      <td>489371.0</td>\n",
       "      <td>713051.0</td>\n",
       "      <td>42644.0</td>\n",
       "      <td>24002.0</td>\n",
       "      <td>38.6409</td>\n",
       "      <td>-80.6227</td>\n",
       "      <td>0.172288</td>\n",
       "      <td>1846092.0</td>\n",
       "      <td>0.075423</td>\n",
       "      <td>West Virginia</td>\n",
       "      <td>-300577</td>\n",
       "      <td>Republican</td>\n",
       "    </tr>\n",
       "    <tr>\n",
       "      <th>100</th>\n",
       "      <td>NaN</td>\n",
       "      <td>NaN</td>\n",
       "      <td>NaN</td>\n",
       "      <td>1382536.0</td>\n",
       "      <td>1405284.0</td>\n",
       "      <td>2976150.0</td>\n",
       "      <td>54610.0</td>\n",
       "      <td>29253.0</td>\n",
       "      <td>44.6243</td>\n",
       "      <td>-89.9941</td>\n",
       "      <td>0.123979</td>\n",
       "      <td>5754798.0</td>\n",
       "      <td>0.055013</td>\n",
       "      <td>Wisconsin</td>\n",
       "      <td>-22748</td>\n",
       "      <td>Republican</td>\n",
       "    </tr>\n",
       "    <tr>\n",
       "      <th>101</th>\n",
       "      <td>NaN</td>\n",
       "      <td>NaN</td>\n",
       "      <td>NaN</td>\n",
       "      <td>55973.0</td>\n",
       "      <td>174419.0</td>\n",
       "      <td>258788.0</td>\n",
       "      <td>59143.0</td>\n",
       "      <td>30139.0</td>\n",
       "      <td>42.9957</td>\n",
       "      <td>-107.5512</td>\n",
       "      <td>0.112794</td>\n",
       "      <td>583029.0</td>\n",
       "      <td>0.048971</td>\n",
       "      <td>Wyoming</td>\n",
       "      <td>-118446</td>\n",
       "      <td>Republican</td>\n",
       "    </tr>\n",
       "  </tbody>\n",
       "</table>\n",
       "<p>102 rows × 16 columns</p>\n",
       "</div>"
      ],
      "text/plain": [
       "     2012_democrat_votes  2012_republican_votes  2012_total_votes  \\\n",
       "0               795696.0              1255925.0         2074338.0   \n",
       "1               122640.0               164676.0          300495.0   \n",
       "2              1025232.0              1233654.0         2299254.0   \n",
       "3               394409.0               647744.0         1069468.0   \n",
       "4              7854285.0              4839958.0        13038547.0   \n",
       "..                   ...                    ...               ...   \n",
       "97                   NaN                    NaN               NaN   \n",
       "98                   NaN                    NaN               NaN   \n",
       "99                   NaN                    NaN               NaN   \n",
       "100                  NaN                    NaN               NaN   \n",
       "101                  NaN                    NaN               NaN   \n",
       "\n",
       "     2016_democrat_votes  2016_republican_votes  2016_total_votes  \\\n",
       "0                    NaN                    NaN               NaN   \n",
       "1                    NaN                    NaN               NaN   \n",
       "2                    NaN                    NaN               NaN   \n",
       "3                    NaN                    NaN               NaN   \n",
       "4                    NaN                    NaN               NaN   \n",
       "..                   ...                    ...               ...   \n",
       "97             1981473.0              1769443.0         3982752.0   \n",
       "98             1742718.0              1221747.0         3317019.0   \n",
       "99              188794.0               489371.0          713051.0   \n",
       "100            1382536.0              1405284.0         2976150.0   \n",
       "101              55973.0               174419.0          258788.0   \n",
       "\n",
       "     Income_median  Income_per_capita  Latitude  Longitude  Poverty_rate  \\\n",
       "0          43160.0            23587.0   32.7794   -86.8287      0.176310   \n",
       "1          69917.0            32537.0   64.0685  -152.2782      0.093696   \n",
       "2          50256.0            25571.0   34.2744  -111.6602      0.167679   \n",
       "3          40531.0            22007.0   34.8938   -92.4426      0.181839   \n",
       "4          61400.0            29551.0   37.1841  -119.4696      0.149768   \n",
       "..             ...                ...       ...        ...           ...   \n",
       "97         66149.0            34967.0   37.5215   -78.8537      0.110906   \n",
       "98         62848.0            32999.0   47.3826  -120.4472      0.124875   \n",
       "99         42644.0            24002.0   38.6409   -80.6227      0.172288   \n",
       "100        54610.0            29253.0   44.6243   -89.9941      0.123979   \n",
       "101        59143.0            30139.0   42.9957  -107.5512      0.112794   \n",
       "\n",
       "     Total_population  Unemployment_rate          index  votes difference  \\\n",
       "0           4777326.0           0.102629        Alabama           -460229   \n",
       "1            711139.0           0.084216         Alaska            -42036   \n",
       "2           6410979.0           0.097744        Arizona           -208422   \n",
       "3           2916372.0           0.085633       Arkansas           -253335   \n",
       "4          37325068.0           0.110285     California           3014327   \n",
       "..                ...                ...            ...               ...   \n",
       "97          8310301.0           0.059495       Virginia            212030   \n",
       "98          7073146.0           0.068426     Washington            520971   \n",
       "99          1846092.0           0.075423  West Virginia           -300577   \n",
       "100         5754798.0           0.055013      Wisconsin            -22748   \n",
       "101          583029.0           0.048971        Wyoming           -118446   \n",
       "\n",
       "         winner  \n",
       "0    Republican  \n",
       "1    Republican  \n",
       "2    Republican  \n",
       "3    Republican  \n",
       "4      Democrat  \n",
       "..          ...  \n",
       "97     Democrat  \n",
       "98     Democrat  \n",
       "99   Republican  \n",
       "100  Republican  \n",
       "101  Republican  \n",
       "\n",
       "[102 rows x 16 columns]"
      ]
     },
     "execution_count": 72,
     "metadata": {},
     "output_type": "execute_result"
    }
   ],
   "source": [
    "data_2012_2016 = pd.concat([data_2012.reset_index(), data_2016.reset_index()], ignore_index=True, axis=0)\n",
    "data_2012_2016"
   ]
  },
  {
   "cell_type": "code",
   "execution_count": 81,
   "metadata": {},
   "outputs": [],
   "source": [
    "X = data_2012_2016[['Total_population', 'Income_median', 'Income_per_capita', 'Unemployment_rate', 'Poverty_rate', 'Latitude', 'Longitude']]\n",
    "y = data_2012_2016['winner']\n",
    "from sklearn.model_selection import train_test_split\n",
    "X_train, X_test, y_train, y_test = train_test_split(X, y, test_size=0.25, random_state = 5)"
   ]
  },
  {
   "cell_type": "markdown",
   "metadata": {},
   "source": [
    "* training decision_tree classifier"
   ]
  },
  {
   "cell_type": "code",
   "execution_count": 82,
   "metadata": {},
   "outputs": [
    {
     "data": {
      "text/plain": [
       "<matplotlib.axes._subplots.AxesSubplot at 0x2c356586f08>"
      ]
     },
     "execution_count": 82,
     "metadata": {},
     "output_type": "execute_result"
    },
    {
     "data": {
      "image/png": "[encoded data removed]",
      "text/plain": [
       "<Figure size 432x288 with 2 Axes>"
      ]
     },
     "metadata": {
      "needs_background": "light"
     },
     "output_type": "display_data"
    }
   ],
   "source": [
    "from sklearn.tree import DecisionTreeClassifier\n",
    "decision_tree = DecisionTreeClassifier()\n",
    "decision_tree.fit(X_train,y_train)\n",
    "feature_importances = pd.DataFrame(decision_tree.feature_importances_,\n",
    "                                   index = X_train.columns,\n",
    "                                    columns=['importance']).sort_values('importance',ascending=False)\n",
    "feature_importances\n",
    "\n",
    "from sklearn.metrics import classification_report, confusion_matrix\n",
    "\n",
    "# y_predict_train = decision_tree.predict(X_train)\n",
    "# y_predict_train\n",
    "# cm = confusion_matrix(y_train, y_predict_train)\n",
    "# sns.heatmap(cm, annot=True)\n",
    "\n",
    "y_predict_test = decision_tree.predict(X_test)\n",
    "cm = confusion_matrix(y_test, y_predict_test)\n",
    "sns.heatmap(cm, annot=True)"
   ]
  },
  {
   "cell_type": "code",
   "execution_count": null,
   "metadata": {},
   "outputs": [],
   "source": []
  }
 ],
 "metadata": {
  "kernelspec": {
   "display_name": "Python 3",
   "language": "python",
   "name": "python3"
  },
  "language_info": {
   "codemirror_mode": {
    "name": "ipython",
    "version": 3
   },
   "file_extension": ".py",
   "mimetype": "text/x-python",
   "name": "python",
   "nbconvert_exporter": "python",
   "pygments_lexer": "ipython3",
   "version": "3.7.4"
  }
 },
 "nbformat": 4,
 "nbformat_minor": 2
}
