{
 "cells": [
  {
   "cell_type": "code",
   "execution_count": 1,
   "metadata": {},
   "outputs": [],
   "source": [
    "import numpy as np\n",
    "import pandas as pd\n",
    "import matplotlib.pyplot as plt\n",
    "import seaborn as sns\n",
    "import requests\n",
    "import json\n",
    "from config import api_key\n",
    "from census import Census\n",
    "from us import states"
   ]
  },
  {
   "cell_type": "markdown",
   "metadata": {},
   "source": [
    "## Defining three functions:\n",
    "* census_data(year): return census data of that year.\n",
    "* vote_data(year): return vote data of that year.\n",
    "* get_dataset(year): merge census and vote data, clean and format them.\n",
    "* Example usage: data_2016 = get_dataset(2016)"
   ]
  },
  {
   "cell_type": "code",
   "execution_count": 2,
   "metadata": {},
   "outputs": [],
   "source": [
    "# census_api() function, returning the census data of a given year.\n",
    "def census_data(YEAR):\n",
    "    c = Census(api_key, year=YEAR)\n",
    "    raw_data = c.acs5.get(('NAME', 'B19013_001E', 'B19301_001E', 'B23025_003E',\n",
    "                       'B23025_004E', 'B23025_005E', 'B01003_001E', \"B01002_001E\", \"B17001_002E\",'B01002_002E','B01002_003E',\n",
    "                          'B02001_002E', 'B02001_003E', 'B02001_005E','B03001_003E','B02001_004E','B25035_001E'), {'for':'state:*'})\n",
    "    census_df_raw = pd.DataFrame(raw_data)\n",
    "    census_df_raw = census_df_raw.rename(columns = {'state': 'State#',\n",
    "                          'NAME': 'State', \n",
    "                          'B01003_001E':'Total_population',\n",
    "                          'B23025_003E':'Employable_civilians',\n",
    "                          'B23025_004E':'Employed_civilians', \n",
    "                          'B23025_005E':'Unemployed_civilians', \n",
    "                          'B19013_001E':'Income_median',\n",
    "                          'B19301_001E':'Income_per_capita',\n",
    "                          \"B01002_001E\":'median age',\n",
    "                          \"B17001_002E\":'Poverty_count',\n",
    "                          'B01002_002E':'median_male_age',\n",
    "                          'B01002_003E':'median_female_age',\n",
    "                          'B02001_002E':'population_white_alone',\n",
    "                          'B02001_003E':'population_black_alone',\n",
    "                          'B02001_005E':'population_asian_alone',\n",
    "                          'B03001_003E':'population_hispanic_origin',\n",
    "                          'B02001_004E':'population_american_indian_alone',\n",
    "                          'B25035_001E':'median_house_construction_year'                         \n",
    "                                            \n",
    "    })\n",
    "    census_df_raw = census_df_raw.sort_values('State#').reset_index(drop=True)\n",
    "    # reformatting census data\n",
    "    census_df = census_df_raw.loc[:,['State', 'Total_population', 'Income_median', 'Income_per_capita','median_male_age','median_female_age',\n",
    "                                    'population_white_alone','population_black_alone', 'population_asian_alone','population_hispanic_origin',\n",
    "                                    'population_american_indian_alone', 'median_house_construction_year']]\n",
    "    census_df['Poverty_rate'] = census_df_raw.Poverty_count/census_df_raw.Total_population\n",
    "    census_df['Unemployment_rate'] = census_df_raw.Unemployed_civilians/census_df_raw.Employable_civilians\n",
    "    state_df = pd.read_csv('Resources/state_centroids.csv')\n",
    "    census_df = pd.merge(census_df, state_df, on = 'State')\n",
    "    census_df = census_df.set_index('State')\n",
    "    return census_df"
   ]
  },
  {
   "cell_type": "code",
   "execution_count": 3,
   "metadata": {},
   "outputs": [],
   "source": [
    "# Preparing the vote data of a given year.\n",
    "csvfile = 'Resources/1976-2016-president.tab'\n",
    "vote_df = pd.read_csv(csvfile, sep='\\t', header=(0))\n",
    "# Fixing the party label for 2012 minnesota democrat votes\n",
    "vote_df = vote_df.replace('democratic-farmer-labor', 'democrat')"
   ]
  },
  {
   "cell_type": "code",
   "execution_count": 4,
   "metadata": {},
   "outputs": [],
   "source": [
    "def vote_data(YEAR):\n",
    "    demo_raw = vote_df.loc[(vote_df.year == YEAR)&(vote_df.party == 'democrat'), ['state', 'candidatevotes']]\n",
    "    demo = demo_raw.groupby('state')['candidatevotes'].sum()\n",
    "    rep_raw = vote_df.loc[(vote_df.year == YEAR)&(vote_df.party == 'republican'),['state', 'candidatevotes']]\n",
    "    rep = rep_raw.groupby('state')['candidatevotes'].sum()\n",
    "    total = vote_df.loc[(vote_df.year == YEAR), ['state', 'totalvotes']].groupby('state').mean()['totalvotes'] \n",
    "    vote_df_year = pd.concat([demo, rep, total],axis=1)\n",
    "    vote_df_year.columns = [str(YEAR)+'_democrat_votes', str(YEAR)+'_republican_votes', str(YEAR)+'_total_votes']\n",
    "    return vote_df_year"
   ]
  },
  {
   "cell_type": "code",
   "execution_count": 5,
   "metadata": {},
   "outputs": [],
   "source": [
    "# Merging data for a given year. The function takes 3 arguments: dataframe1, dataframe2, year\n",
    "def get_dataset(YEAR):\n",
    "    dataset = census_data(YEAR).merge(vote_data(YEAR), left_index=True, right_index=True)\n",
    "    dataset['votes difference'] = dataset[str(YEAR)+'_democrat_votes'] - dataset[str(YEAR)+'_republican_votes']\n",
    "    dataset.loc[dataset['votes difference']<0, 'winner'] = 'Republican'\n",
    "    dataset.loc[dataset['votes difference']>0, 'winner'] = 'Democrat'\n",
    "    return dataset"
   ]
  },
  {
   "cell_type": "code",
   "execution_count": 6,
   "metadata": {},
   "outputs": [],
   "source": [
    "data_2016 = get_dataset(2016)\n",
    "data_2012 = get_dataset(2012)"
   ]
  },
  {
   "cell_type": "code",
   "execution_count": 7,
   "metadata": {},
   "outputs": [
    {
     "data": {
      "text/html": [
       "<div>\n",
       "<style scoped>\n",
       "    .dataframe tbody tr th:only-of-type {\n",
       "        vertical-align: middle;\n",
       "    }\n",
       "\n",
       "    .dataframe tbody tr th {\n",
       "        vertical-align: top;\n",
       "    }\n",
       "\n",
       "    .dataframe thead th {\n",
       "        text-align: right;\n",
       "    }\n",
       "</style>\n",
       "<table border=\"1\" class=\"dataframe\">\n",
       "  <thead>\n",
       "    <tr style=\"text-align: right;\">\n",
       "      <th></th>\n",
       "      <th>Total_population</th>\n",
       "      <th>Income_median</th>\n",
       "      <th>Income_per_capita</th>\n",
       "      <th>median_male_age</th>\n",
       "      <th>median_female_age</th>\n",
       "      <th>population_white_alone</th>\n",
       "      <th>population_black_alone</th>\n",
       "      <th>population_asian_alone</th>\n",
       "      <th>population_hispanic_origin</th>\n",
       "      <th>population_american_indian_alone</th>\n",
       "      <th>median_house_construction_year</th>\n",
       "      <th>Poverty_rate</th>\n",
       "      <th>Unemployment_rate</th>\n",
       "      <th>Latitude</th>\n",
       "      <th>Longitude</th>\n",
       "      <th>2016_democrat_votes</th>\n",
       "      <th>2016_republican_votes</th>\n",
       "      <th>2016_total_votes</th>\n",
       "      <th>votes difference</th>\n",
       "      <th>winner</th>\n",
       "    </tr>\n",
       "  </thead>\n",
       "  <tbody>\n",
       "    <tr>\n",
       "      <th>Alabama</th>\n",
       "      <td>4841164.0</td>\n",
       "      <td>44758.0</td>\n",
       "      <td>24736.0</td>\n",
       "      <td>37.1</td>\n",
       "      <td>40.0</td>\n",
       "      <td>3325037.0</td>\n",
       "      <td>1282053.0</td>\n",
       "      <td>60744.0</td>\n",
       "      <td>193503.0</td>\n",
       "      <td>23919.0</td>\n",
       "      <td>1982.0</td>\n",
       "      <td>0.179433</td>\n",
       "      <td>0.082856</td>\n",
       "      <td>32.7794</td>\n",
       "      <td>-86.8287</td>\n",
       "      <td>729547</td>\n",
       "      <td>1318255</td>\n",
       "      <td>2123372</td>\n",
       "      <td>-588708</td>\n",
       "      <td>Republican</td>\n",
       "    </tr>\n",
       "    <tr>\n",
       "      <th>Alaska</th>\n",
       "      <td>736855.0</td>\n",
       "      <td>74444.0</td>\n",
       "      <td>34191.0</td>\n",
       "      <td>33.3</td>\n",
       "      <td>34.0</td>\n",
       "      <td>483518.0</td>\n",
       "      <td>24443.0</td>\n",
       "      <td>44218.0</td>\n",
       "      <td>49031.0</td>\n",
       "      <td>103574.0</td>\n",
       "      <td>1984.0</td>\n",
       "      <td>0.098834</td>\n",
       "      <td>0.078468</td>\n",
       "      <td>64.0685</td>\n",
       "      <td>-152.2782</td>\n",
       "      <td>116454</td>\n",
       "      <td>163387</td>\n",
       "      <td>318608</td>\n",
       "      <td>-46933</td>\n",
       "      <td>Republican</td>\n",
       "    </tr>\n",
       "    <tr>\n",
       "      <th>Arizona</th>\n",
       "      <td>6728577.0</td>\n",
       "      <td>51340.0</td>\n",
       "      <td>26686.0</td>\n",
       "      <td>35.8</td>\n",
       "      <td>38.4</td>\n",
       "      <td>5235158.0</td>\n",
       "      <td>287110.0</td>\n",
       "      <td>205229.0</td>\n",
       "      <td>2054849.0</td>\n",
       "      <td>296732.0</td>\n",
       "      <td>1989.0</td>\n",
       "      <td>0.173237</td>\n",
       "      <td>0.079880</td>\n",
       "      <td>34.2744</td>\n",
       "      <td>-111.6602</td>\n",
       "      <td>1161209</td>\n",
       "      <td>1252401</td>\n",
       "      <td>2573165</td>\n",
       "      <td>-91192</td>\n",
       "      <td>Republican</td>\n",
       "    </tr>\n",
       "  </tbody>\n",
       "</table>\n",
       "</div>"
      ],
      "text/plain": [
       "         Total_population  Income_median  Income_per_capita  median_male_age  \\\n",
       "Alabama         4841164.0        44758.0            24736.0             37.1   \n",
       "Alaska           736855.0        74444.0            34191.0             33.3   \n",
       "Arizona         6728577.0        51340.0            26686.0             35.8   \n",
       "\n",
       "         median_female_age  population_white_alone  population_black_alone  \\\n",
       "Alabama               40.0               3325037.0               1282053.0   \n",
       "Alaska                34.0                483518.0                 24443.0   \n",
       "Arizona               38.4               5235158.0                287110.0   \n",
       "\n",
       "         population_asian_alone  population_hispanic_origin  \\\n",
       "Alabama                 60744.0                    193503.0   \n",
       "Alaska                  44218.0                     49031.0   \n",
       "Arizona                205229.0                   2054849.0   \n",
       "\n",
       "         population_american_indian_alone  median_house_construction_year  \\\n",
       "Alabama                           23919.0                          1982.0   \n",
       "Alaska                           103574.0                          1984.0   \n",
       "Arizona                          296732.0                          1989.0   \n",
       "\n",
       "         Poverty_rate  Unemployment_rate  Latitude  Longitude  \\\n",
       "Alabama      0.179433           0.082856   32.7794   -86.8287   \n",
       "Alaska       0.098834           0.078468   64.0685  -152.2782   \n",
       "Arizona      0.173237           0.079880   34.2744  -111.6602   \n",
       "\n",
       "         2016_democrat_votes  2016_republican_votes  2016_total_votes  \\\n",
       "Alabama               729547                1318255           2123372   \n",
       "Alaska                116454                 163387            318608   \n",
       "Arizona              1161209                1252401           2573165   \n",
       "\n",
       "         votes difference      winner  \n",
       "Alabama           -588708  Republican  \n",
       "Alaska             -46933  Republican  \n",
       "Arizona            -91192  Republican  "
      ]
     },
     "execution_count": 7,
     "metadata": {},
     "output_type": "execute_result"
    }
   ],
   "source": [
    "data_2016.head(3)"
   ]
  },
  {
   "cell_type": "markdown",
   "metadata": {},
   "source": [
    "# training data 2016"
   ]
  },
  {
   "cell_type": "code",
   "execution_count": 10,
   "metadata": {},
   "outputs": [],
   "source": [
    "X = data_2016[['Total_population', 'Income_median', 'Income_per_capita', 'Unemployment_rate',\n",
    "               'Poverty_rate', 'Latitude', 'Longitude', 'median_male_age','median_female_age',\n",
    "              'population_white_alone','population_black_alone', 'population_asian_alone',\n",
    "               'population_hispanic_origin', 'population_american_indian_alone', \n",
    "               'median_house_construction_year']]\n",
    "y = data_2016['winner']\n",
    "from sklearn.model_selection import train_test_split\n",
    "X_train, X_test, y_train, y_test = train_test_split(X, y, test_size=0.2, random_state = 5)"
   ]
  },
  {
   "cell_type": "markdown",
   "metadata": {},
   "source": [
    "* training decision_tree classifier"
   ]
  },
  {
   "cell_type": "code",
   "execution_count": 11,
   "metadata": {},
   "outputs": [
    {
     "data": {
      "text/html": [
       "<div>\n",
       "<style scoped>\n",
       "    .dataframe tbody tr th:only-of-type {\n",
       "        vertical-align: middle;\n",
       "    }\n",
       "\n",
       "    .dataframe tbody tr th {\n",
       "        vertical-align: top;\n",
       "    }\n",
       "\n",
       "    .dataframe thead th {\n",
       "        text-align: right;\n",
       "    }\n",
       "</style>\n",
       "<table border=\"1\" class=\"dataframe\">\n",
       "  <thead>\n",
       "    <tr style=\"text-align: right;\">\n",
       "      <th></th>\n",
       "      <th>importance</th>\n",
       "    </tr>\n",
       "  </thead>\n",
       "  <tbody>\n",
       "    <tr>\n",
       "      <th>Income_per_capita</th>\n",
       "      <td>0.618844</td>\n",
       "    </tr>\n",
       "    <tr>\n",
       "      <th>Latitude</th>\n",
       "      <td>0.184889</td>\n",
       "    </tr>\n",
       "    <tr>\n",
       "      <th>Longitude</th>\n",
       "      <td>0.094044</td>\n",
       "    </tr>\n",
       "    <tr>\n",
       "      <th>population_black_alone</th>\n",
       "      <td>0.053333</td>\n",
       "    </tr>\n",
       "    <tr>\n",
       "      <th>Poverty_rate</th>\n",
       "      <td>0.048889</td>\n",
       "    </tr>\n",
       "    <tr>\n",
       "      <th>Total_population</th>\n",
       "      <td>0.000000</td>\n",
       "    </tr>\n",
       "    <tr>\n",
       "      <th>Income_median</th>\n",
       "      <td>0.000000</td>\n",
       "    </tr>\n",
       "    <tr>\n",
       "      <th>Unemployment_rate</th>\n",
       "      <td>0.000000</td>\n",
       "    </tr>\n",
       "    <tr>\n",
       "      <th>median_male_age</th>\n",
       "      <td>0.000000</td>\n",
       "    </tr>\n",
       "    <tr>\n",
       "      <th>median_female_age</th>\n",
       "      <td>0.000000</td>\n",
       "    </tr>\n",
       "    <tr>\n",
       "      <th>population_white_alone</th>\n",
       "      <td>0.000000</td>\n",
       "    </tr>\n",
       "    <tr>\n",
       "      <th>population_asian_alone</th>\n",
       "      <td>0.000000</td>\n",
       "    </tr>\n",
       "    <tr>\n",
       "      <th>population_hispanic_origin</th>\n",
       "      <td>0.000000</td>\n",
       "    </tr>\n",
       "    <tr>\n",
       "      <th>population_american_indian_alone</th>\n",
       "      <td>0.000000</td>\n",
       "    </tr>\n",
       "    <tr>\n",
       "      <th>median_house_construction_year</th>\n",
       "      <td>0.000000</td>\n",
       "    </tr>\n",
       "  </tbody>\n",
       "</table>\n",
       "</div>"
      ],
      "text/plain": [
       "                                  importance\n",
       "Income_per_capita                   0.618844\n",
       "Latitude                            0.184889\n",
       "Longitude                           0.094044\n",
       "population_black_alone              0.053333\n",
       "Poverty_rate                        0.048889\n",
       "Total_population                    0.000000\n",
       "Income_median                       0.000000\n",
       "Unemployment_rate                   0.000000\n",
       "median_male_age                     0.000000\n",
       "median_female_age                   0.000000\n",
       "population_white_alone              0.000000\n",
       "population_asian_alone              0.000000\n",
       "population_hispanic_origin          0.000000\n",
       "population_american_indian_alone    0.000000\n",
       "median_house_construction_year      0.000000"
      ]
     },
     "execution_count": 11,
     "metadata": {},
     "output_type": "execute_result"
    }
   ],
   "source": [
    "from sklearn.tree import DecisionTreeClassifier\n",
    "decision_tree = DecisionTreeClassifier()\n",
    "decision_tree.fit(X_train,y_train)\n",
    "feature_importances = pd.DataFrame(decision_tree.feature_importances_,\n",
    "                                   index = X_train.columns,\n",
    "                                    columns=['importance']).sort_values('importance',ascending=False)\n",
    "feature_importances"
   ]
  },
  {
   "cell_type": "code",
   "execution_count": 12,
   "metadata": {},
   "outputs": [],
   "source": [
    "from sklearn.metrics import classification_report, confusion_matrix"
   ]
  },
  {
   "cell_type": "code",
   "execution_count": 13,
   "metadata": {},
   "outputs": [],
   "source": [
    "# y_predict_train = decision_tree.predict(X_train)\n",
    "# y_predict_train\n",
    "# cm = confusion_matrix(y_train, y_predict_train)\n",
    "# sns.heatmap(cm, annot=True)"
   ]
  },
  {
   "cell_type": "code",
   "execution_count": 14,
   "metadata": {},
   "outputs": [
    {
     "data": {
      "text/plain": [
       "<matplotlib.axes._subplots.AxesSubplot at 0x24da0c18488>"
      ]
     },
     "execution_count": 14,
     "metadata": {},
     "output_type": "execute_result"
    },
    {
     "data": {
      "image/png": "[encoded data removed]",
      "text/plain": [
       "<Figure size 432x288 with 2 Axes>"
      ]
     },
     "metadata": {
      "needs_background": "light"
     },
     "output_type": "display_data"
    }
   ],
   "source": [
    "y_predict_test = decision_tree.predict(X_test)\n",
    "cm = confusion_matrix(y_test, y_predict_test)\n",
    "sns.heatmap(cm, annot=True)"
   ]
  },
  {
   "cell_type": "code",
   "execution_count": null,
   "metadata": {},
   "outputs": [],
   "source": [
    "# print(classification_report(y_test, y_predict_test))"
   ]
  },
  {
   "cell_type": "markdown",
   "metadata": {},
   "source": [
    "# decision tree 2012 data\n",
    "* X_2012, y_2012, y_predict_test_2012"
   ]
  },
  {
   "cell_type": "code",
   "execution_count": 17,
   "metadata": {},
   "outputs": [],
   "source": [
    "X_2012 = data_2012[['Total_population', 'Income_median', 'Income_per_capita', 'Unemployment_rate',\n",
    "               'Poverty_rate', 'Latitude', 'Longitude', 'median_male_age','median_female_age',\n",
    "              'population_white_alone','population_black_alone', 'population_asian_alone',\n",
    "               'population_hispanic_origin', 'population_american_indian_alone', \n",
    "               'median_house_construction_year']]\n",
    "y_2012 = data_2012['winner']"
   ]
  },
  {
   "cell_type": "code",
   "execution_count": 18,
   "metadata": {},
   "outputs": [
    {
     "data": {
      "text/plain": [
       "<matplotlib.axes._subplots.AxesSubplot at 0x24da10aacc8>"
      ]
     },
     "execution_count": 18,
     "metadata": {},
     "output_type": "execute_result"
    },
    {
     "data": {
      "image/png": "[encoded data removed]",
      "text/plain": [
       "<Figure size 432x288 with 2 Axes>"
      ]
     },
     "metadata": {
      "needs_background": "light"
     },
     "output_type": "display_data"
    }
   ],
   "source": [
    "y_predict_test_2012 = decision_tree.predict(X_2012)\n",
    "# y_predict_test_2012\n",
    "cm_2012 = confusion_matrix(y_2012, y_predict_test_2012)\n",
    "sns.heatmap(cm_2012, annot=True)"
   ]
  },
  {
   "cell_type": "markdown",
   "metadata": {},
   "source": [
    "# RandomForest classifier\n",
    "* rf_model"
   ]
  },
  {
   "cell_type": "code",
   "execution_count": 19,
   "metadata": {},
   "outputs": [
    {
     "data": {
      "text/plain": [
       "RandomForestClassifier(bootstrap=True, ccp_alpha=0.0, class_weight=None,\n",
       "                       criterion='gini', max_depth=None, max_features='auto',\n",
       "                       max_leaf_nodes=None, max_samples=None,\n",
       "                       min_impurity_decrease=0.0, min_impurity_split=None,\n",
       "                       min_samples_leaf=1, min_samples_split=2,\n",
       "                       min_weight_fraction_leaf=0.0, n_estimators=100,\n",
       "                       n_jobs=None, oob_score=False, random_state=None,\n",
       "                       verbose=0, warm_start=False)"
      ]
     },
     "execution_count": 19,
     "metadata": {},
     "output_type": "execute_result"
    }
   ],
   "source": [
    "from sklearn.ensemble import RandomForestClassifier\n",
    "rf_model = RandomForestClassifier(n_estimators=100)\n",
    "rf_model.fit(X_train, y_train)"
   ]
  },
  {
   "cell_type": "code",
   "execution_count": 20,
   "metadata": {},
   "outputs": [],
   "source": [
    "# y_predict_train = rf_model.predict(X_train)\n",
    "# y_predict_train\n",
    "# cm = confusion_matrix(y_train, y_predict_train)\n",
    "# sns.heatmap(cm, annot=True)"
   ]
  },
  {
   "cell_type": "code",
   "execution_count": 21,
   "metadata": {},
   "outputs": [
    {
     "data": {
      "text/plain": [
       "<matplotlib.axes._subplots.AxesSubplot at 0x24da11e1148>"
      ]
     },
     "execution_count": 21,
     "metadata": {},
     "output_type": "execute_result"
    },
    {
     "data": {
      "image/png": "[encoded data removed]",
      "text/plain": [
       "<Figure size 432x288 with 2 Axes>"
      ]
     },
     "metadata": {
      "needs_background": "light"
     },
     "output_type": "display_data"
    }
   ],
   "source": [
    "y_predict_test = rf_model.predict(X_test)\n",
    "cm = confusion_matrix(y_test, y_predict_test)\n",
    "sns.heatmap(cm, annot=True)"
   ]
  },
  {
   "cell_type": "code",
   "execution_count": 22,
   "metadata": {},
   "outputs": [
    {
     "data": {
      "text/plain": [
       "<matplotlib.axes._subplots.AxesSubplot at 0x24da1266288>"
      ]
     },
     "execution_count": 22,
     "metadata": {},
     "output_type": "execute_result"
    },
    {
     "data": {
      "image/png": "[encoded data removed]",
      "text/plain": [
       "<Figure size 432x288 with 2 Axes>"
      ]
     },
     "metadata": {
      "needs_background": "light"
     },
     "output_type": "display_data"
    }
   ],
   "source": [
    "y_predict_rf_2012 = rf_model.predict(X_2012)\n",
    "cm = confusion_matrix(y_2012, y_predict_rf_2012)\n",
    "sns.heatmap(cm, annot=True)"
   ]
  },
  {
   "cell_type": "code",
   "execution_count": 23,
   "metadata": {},
   "outputs": [],
   "source": [
    "# data_2012['prediction'] = y_predict_rf_2012\n",
    "# data_2012[['winner','prediction']]"
   ]
  },
  {
   "cell_type": "markdown",
   "metadata": {},
   "source": [
    "# master_df"
   ]
  },
  {
   "cell_type": "code",
   "execution_count": 24,
   "metadata": {
    "collapsed": true
   },
   "outputs": [
    {
     "name": "stderr",
     "output_type": "stream",
     "text": [
      "C:\\Users\\zhan3\\Anaconda3\\envs\\PythonData\\lib\\site-packages\\ipykernel_launcher.py:1: FutureWarning: Sorting because non-concatenation axis is not aligned. A future version\n",
      "of pandas will change to not sort by default.\n",
      "\n",
      "To accept the future behavior, pass 'sort=False'.\n",
      "\n",
      "To retain the current behavior and silence the warning, pass 'sort=True'.\n",
      "\n",
      "  \"\"\"Entry point for launching an IPython kernel.\n"
     ]
    },
    {
     "data": {
      "text/html": [
       "<div>\n",
       "<style scoped>\n",
       "    .dataframe tbody tr th:only-of-type {\n",
       "        vertical-align: middle;\n",
       "    }\n",
       "\n",
       "    .dataframe tbody tr th {\n",
       "        vertical-align: top;\n",
       "    }\n",
       "\n",
       "    .dataframe thead th {\n",
       "        text-align: right;\n",
       "    }\n",
       "</style>\n",
       "<table border=\"1\" class=\"dataframe\">\n",
       "  <thead>\n",
       "    <tr style=\"text-align: right;\">\n",
       "      <th></th>\n",
       "      <th>2012_democrat_votes</th>\n",
       "      <th>2012_republican_votes</th>\n",
       "      <th>2012_total_votes</th>\n",
       "      <th>2016_democrat_votes</th>\n",
       "      <th>2016_republican_votes</th>\n",
       "      <th>2016_total_votes</th>\n",
       "      <th>Income_median</th>\n",
       "      <th>Income_per_capita</th>\n",
       "      <th>Latitude</th>\n",
       "      <th>Longitude</th>\n",
       "      <th>...</th>\n",
       "      <th>median_female_age</th>\n",
       "      <th>median_house_construction_year</th>\n",
       "      <th>median_male_age</th>\n",
       "      <th>population_american_indian_alone</th>\n",
       "      <th>population_asian_alone</th>\n",
       "      <th>population_black_alone</th>\n",
       "      <th>population_hispanic_origin</th>\n",
       "      <th>population_white_alone</th>\n",
       "      <th>votes difference</th>\n",
       "      <th>winner</th>\n",
       "    </tr>\n",
       "  </thead>\n",
       "  <tbody>\n",
       "    <tr>\n",
       "      <th>0</th>\n",
       "      <td>795696.0</td>\n",
       "      <td>1255925.0</td>\n",
       "      <td>2074338.0</td>\n",
       "      <td>NaN</td>\n",
       "      <td>NaN</td>\n",
       "      <td>NaN</td>\n",
       "      <td>43160.0</td>\n",
       "      <td>23587.0</td>\n",
       "      <td>32.7794</td>\n",
       "      <td>-86.8287</td>\n",
       "      <td>...</td>\n",
       "      <td>39.2</td>\n",
       "      <td>1980.0</td>\n",
       "      <td>36.4</td>\n",
       "      <td>26166.0</td>\n",
       "      <td>54923.0</td>\n",
       "      <td>1256097.0</td>\n",
       "      <td>182268.0</td>\n",
       "      <td>3321318.0</td>\n",
       "      <td>-460229</td>\n",
       "      <td>Republican</td>\n",
       "    </tr>\n",
       "    <tr>\n",
       "      <th>1</th>\n",
       "      <td>122640.0</td>\n",
       "      <td>164676.0</td>\n",
       "      <td>300495.0</td>\n",
       "      <td>NaN</td>\n",
       "      <td>NaN</td>\n",
       "      <td>NaN</td>\n",
       "      <td>69917.0</td>\n",
       "      <td>32537.0</td>\n",
       "      <td>64.0685</td>\n",
       "      <td>-152.2782</td>\n",
       "      <td>...</td>\n",
       "      <td>34.0</td>\n",
       "      <td>1982.0</td>\n",
       "      <td>33.6</td>\n",
       "      <td>98976.0</td>\n",
       "      <td>37968.0</td>\n",
       "      <td>24219.0</td>\n",
       "      <td>40371.0</td>\n",
       "      <td>477985.0</td>\n",
       "      <td>-42036</td>\n",
       "      <td>Republican</td>\n",
       "    </tr>\n",
       "    <tr>\n",
       "      <th>2</th>\n",
       "      <td>1025232.0</td>\n",
       "      <td>1233654.0</td>\n",
       "      <td>2299254.0</td>\n",
       "      <td>NaN</td>\n",
       "      <td>NaN</td>\n",
       "      <td>NaN</td>\n",
       "      <td>50256.0</td>\n",
       "      <td>25571.0</td>\n",
       "      <td>34.2744</td>\n",
       "      <td>-111.6602</td>\n",
       "      <td>...</td>\n",
       "      <td>37.2</td>\n",
       "      <td>1988.0</td>\n",
       "      <td>34.8</td>\n",
       "      <td>283805.0</td>\n",
       "      <td>177598.0</td>\n",
       "      <td>262284.0</td>\n",
       "      <td>1902946.0</td>\n",
       "      <td>5085954.0</td>\n",
       "      <td>-208422</td>\n",
       "      <td>Republican</td>\n",
       "    </tr>\n",
       "    <tr>\n",
       "      <th>3</th>\n",
       "      <td>394409.0</td>\n",
       "      <td>647744.0</td>\n",
       "      <td>1069468.0</td>\n",
       "      <td>NaN</td>\n",
       "      <td>NaN</td>\n",
       "      <td>NaN</td>\n",
       "      <td>40531.0</td>\n",
       "      <td>22007.0</td>\n",
       "      <td>34.8938</td>\n",
       "      <td>-92.4426</td>\n",
       "      <td>...</td>\n",
       "      <td>38.7</td>\n",
       "      <td>1981.0</td>\n",
       "      <td>36.1</td>\n",
       "      <td>17390.0</td>\n",
       "      <td>35744.0</td>\n",
       "      <td>453062.0</td>\n",
       "      <td>185239.0</td>\n",
       "      <td>2285577.0</td>\n",
       "      <td>-253335</td>\n",
       "      <td>Republican</td>\n",
       "    </tr>\n",
       "    <tr>\n",
       "      <th>4</th>\n",
       "      <td>7854285.0</td>\n",
       "      <td>4839958.0</td>\n",
       "      <td>13038547.0</td>\n",
       "      <td>NaN</td>\n",
       "      <td>NaN</td>\n",
       "      <td>NaN</td>\n",
       "      <td>61400.0</td>\n",
       "      <td>29551.0</td>\n",
       "      <td>37.1841</td>\n",
       "      <td>-119.4696</td>\n",
       "      <td>...</td>\n",
       "      <td>36.4</td>\n",
       "      <td>1973.0</td>\n",
       "      <td>34.1</td>\n",
       "      <td>291505.0</td>\n",
       "      <td>4921543.0</td>\n",
       "      <td>2254160.0</td>\n",
       "      <td>14024109.0</td>\n",
       "      <td>23252553.0</td>\n",
       "      <td>3014327</td>\n",
       "      <td>Democrat</td>\n",
       "    </tr>\n",
       "    <tr>\n",
       "      <th>...</th>\n",
       "      <td>...</td>\n",
       "      <td>...</td>\n",
       "      <td>...</td>\n",
       "      <td>...</td>\n",
       "      <td>...</td>\n",
       "      <td>...</td>\n",
       "      <td>...</td>\n",
       "      <td>...</td>\n",
       "      <td>...</td>\n",
       "      <td>...</td>\n",
       "      <td>...</td>\n",
       "      <td>...</td>\n",
       "      <td>...</td>\n",
       "      <td>...</td>\n",
       "      <td>...</td>\n",
       "      <td>...</td>\n",
       "      <td>...</td>\n",
       "      <td>...</td>\n",
       "      <td>...</td>\n",
       "      <td>...</td>\n",
       "      <td>...</td>\n",
       "    </tr>\n",
       "    <tr>\n",
       "      <th>97</th>\n",
       "      <td>NaN</td>\n",
       "      <td>NaN</td>\n",
       "      <td>NaN</td>\n",
       "      <td>1981473.0</td>\n",
       "      <td>1769443.0</td>\n",
       "      <td>3982752.0</td>\n",
       "      <td>66149.0</td>\n",
       "      <td>34967.0</td>\n",
       "      <td>37.5215</td>\n",
       "      <td>-78.8537</td>\n",
       "      <td>...</td>\n",
       "      <td>39.1</td>\n",
       "      <td>1981.0</td>\n",
       "      <td>36.5</td>\n",
       "      <td>21948.0</td>\n",
       "      <td>502878.0</td>\n",
       "      <td>1596352.0</td>\n",
       "      <td>725092.0</td>\n",
       "      <td>5712958.0</td>\n",
       "      <td>212030</td>\n",
       "      <td>Democrat</td>\n",
       "    </tr>\n",
       "    <tr>\n",
       "      <th>98</th>\n",
       "      <td>NaN</td>\n",
       "      <td>NaN</td>\n",
       "      <td>NaN</td>\n",
       "      <td>1742718.0</td>\n",
       "      <td>1221747.0</td>\n",
       "      <td>3317019.0</td>\n",
       "      <td>62848.0</td>\n",
       "      <td>32999.0</td>\n",
       "      <td>47.3826</td>\n",
       "      <td>-120.4472</td>\n",
       "      <td>...</td>\n",
       "      <td>38.6</td>\n",
       "      <td>1980.0</td>\n",
       "      <td>36.6</td>\n",
       "      <td>94026.0</td>\n",
       "      <td>552032.0</td>\n",
       "      <td>256990.0</td>\n",
       "      <td>854275.0</td>\n",
       "      <td>5470566.0</td>\n",
       "      <td>520971</td>\n",
       "      <td>Democrat</td>\n",
       "    </tr>\n",
       "    <tr>\n",
       "      <th>99</th>\n",
       "      <td>NaN</td>\n",
       "      <td>NaN</td>\n",
       "      <td>NaN</td>\n",
       "      <td>188794.0</td>\n",
       "      <td>489371.0</td>\n",
       "      <td>713051.0</td>\n",
       "      <td>42644.0</td>\n",
       "      <td>24002.0</td>\n",
       "      <td>38.6409</td>\n",
       "      <td>-80.6227</td>\n",
       "      <td>...</td>\n",
       "      <td>43.1</td>\n",
       "      <td>1974.0</td>\n",
       "      <td>40.7</td>\n",
       "      <td>3281.0</td>\n",
       "      <td>13990.0</td>\n",
       "      <td>63305.0</td>\n",
       "      <td>26247.0</td>\n",
       "      <td>1725411.0</td>\n",
       "      <td>-300577</td>\n",
       "      <td>Republican</td>\n",
       "    </tr>\n",
       "    <tr>\n",
       "      <th>100</th>\n",
       "      <td>NaN</td>\n",
       "      <td>NaN</td>\n",
       "      <td>NaN</td>\n",
       "      <td>1382536.0</td>\n",
       "      <td>1405284.0</td>\n",
       "      <td>2976150.0</td>\n",
       "      <td>54610.0</td>\n",
       "      <td>29253.0</td>\n",
       "      <td>44.6243</td>\n",
       "      <td>-89.9941</td>\n",
       "      <td>...</td>\n",
       "      <td>40.3</td>\n",
       "      <td>1972.0</td>\n",
       "      <td>38.0</td>\n",
       "      <td>51459.0</td>\n",
       "      <td>148077.0</td>\n",
       "      <td>361730.0</td>\n",
       "      <td>371205.0</td>\n",
       "      <td>4961193.0</td>\n",
       "      <td>-22748</td>\n",
       "      <td>Republican</td>\n",
       "    </tr>\n",
       "    <tr>\n",
       "      <th>101</th>\n",
       "      <td>NaN</td>\n",
       "      <td>NaN</td>\n",
       "      <td>NaN</td>\n",
       "      <td>55973.0</td>\n",
       "      <td>174419.0</td>\n",
       "      <td>258788.0</td>\n",
       "      <td>59143.0</td>\n",
       "      <td>30139.0</td>\n",
       "      <td>42.9957</td>\n",
       "      <td>-107.5512</td>\n",
       "      <td>...</td>\n",
       "      <td>37.8</td>\n",
       "      <td>1978.0</td>\n",
       "      <td>36.0</td>\n",
       "      <td>13033.0</td>\n",
       "      <td>5385.0</td>\n",
       "      <td>6435.0</td>\n",
       "      <td>56386.0</td>\n",
       "      <td>531851.0</td>\n",
       "      <td>-118446</td>\n",
       "      <td>Republican</td>\n",
       "    </tr>\n",
       "  </tbody>\n",
       "</table>\n",
       "<p>102 rows × 24 columns</p>\n",
       "</div>"
      ],
      "text/plain": [
       "     2012_democrat_votes  2012_republican_votes  2012_total_votes  \\\n",
       "0               795696.0              1255925.0         2074338.0   \n",
       "1               122640.0               164676.0          300495.0   \n",
       "2              1025232.0              1233654.0         2299254.0   \n",
       "3               394409.0               647744.0         1069468.0   \n",
       "4              7854285.0              4839958.0        13038547.0   \n",
       "..                   ...                    ...               ...   \n",
       "97                   NaN                    NaN               NaN   \n",
       "98                   NaN                    NaN               NaN   \n",
       "99                   NaN                    NaN               NaN   \n",
       "100                  NaN                    NaN               NaN   \n",
       "101                  NaN                    NaN               NaN   \n",
       "\n",
       "     2016_democrat_votes  2016_republican_votes  2016_total_votes  \\\n",
       "0                    NaN                    NaN               NaN   \n",
       "1                    NaN                    NaN               NaN   \n",
       "2                    NaN                    NaN               NaN   \n",
       "3                    NaN                    NaN               NaN   \n",
       "4                    NaN                    NaN               NaN   \n",
       "..                   ...                    ...               ...   \n",
       "97             1981473.0              1769443.0         3982752.0   \n",
       "98             1742718.0              1221747.0         3317019.0   \n",
       "99              188794.0               489371.0          713051.0   \n",
       "100            1382536.0              1405284.0         2976150.0   \n",
       "101              55973.0               174419.0          258788.0   \n",
       "\n",
       "     Income_median  Income_per_capita  Latitude  Longitude  ...  \\\n",
       "0          43160.0            23587.0   32.7794   -86.8287  ...   \n",
       "1          69917.0            32537.0   64.0685  -152.2782  ...   \n",
       "2          50256.0            25571.0   34.2744  -111.6602  ...   \n",
       "3          40531.0            22007.0   34.8938   -92.4426  ...   \n",
       "4          61400.0            29551.0   37.1841  -119.4696  ...   \n",
       "..             ...                ...       ...        ...  ...   \n",
       "97         66149.0            34967.0   37.5215   -78.8537  ...   \n",
       "98         62848.0            32999.0   47.3826  -120.4472  ...   \n",
       "99         42644.0            24002.0   38.6409   -80.6227  ...   \n",
       "100        54610.0            29253.0   44.6243   -89.9941  ...   \n",
       "101        59143.0            30139.0   42.9957  -107.5512  ...   \n",
       "\n",
       "     median_female_age  median_house_construction_year  median_male_age  \\\n",
       "0                 39.2                          1980.0             36.4   \n",
       "1                 34.0                          1982.0             33.6   \n",
       "2                 37.2                          1988.0             34.8   \n",
       "3                 38.7                          1981.0             36.1   \n",
       "4                 36.4                          1973.0             34.1   \n",
       "..                 ...                             ...              ...   \n",
       "97                39.1                          1981.0             36.5   \n",
       "98                38.6                          1980.0             36.6   \n",
       "99                43.1                          1974.0             40.7   \n",
       "100               40.3                          1972.0             38.0   \n",
       "101               37.8                          1978.0             36.0   \n",
       "\n",
       "    population_american_indian_alone  population_asian_alone  \\\n",
       "0                            26166.0                 54923.0   \n",
       "1                            98976.0                 37968.0   \n",
       "2                           283805.0                177598.0   \n",
       "3                            17390.0                 35744.0   \n",
       "4                           291505.0               4921543.0   \n",
       "..                               ...                     ...   \n",
       "97                           21948.0                502878.0   \n",
       "98                           94026.0                552032.0   \n",
       "99                            3281.0                 13990.0   \n",
       "100                          51459.0                148077.0   \n",
       "101                          13033.0                  5385.0   \n",
       "\n",
       "     population_black_alone  population_hispanic_origin  \\\n",
       "0                 1256097.0                    182268.0   \n",
       "1                   24219.0                     40371.0   \n",
       "2                  262284.0                   1902946.0   \n",
       "3                  453062.0                    185239.0   \n",
       "4                 2254160.0                  14024109.0   \n",
       "..                      ...                         ...   \n",
       "97                1596352.0                    725092.0   \n",
       "98                 256990.0                    854275.0   \n",
       "99                  63305.0                     26247.0   \n",
       "100                361730.0                    371205.0   \n",
       "101                  6435.0                     56386.0   \n",
       "\n",
       "     population_white_alone  votes difference      winner  \n",
       "0                 3321318.0           -460229  Republican  \n",
       "1                  477985.0            -42036  Republican  \n",
       "2                 5085954.0           -208422  Republican  \n",
       "3                 2285577.0           -253335  Republican  \n",
       "4                23252553.0           3014327    Democrat  \n",
       "..                      ...               ...         ...  \n",
       "97                5712958.0            212030    Democrat  \n",
       "98                5470566.0            520971    Democrat  \n",
       "99                1725411.0           -300577  Republican  \n",
       "100               4961193.0            -22748  Republican  \n",
       "101                531851.0           -118446  Republican  \n",
       "\n",
       "[102 rows x 24 columns]"
      ]
     },
     "execution_count": 24,
     "metadata": {},
     "output_type": "execute_result"
    }
   ],
   "source": [
    "data_2012_2016 = pd.concat([data_2012.reset_index(), data_2016.reset_index()], ignore_index=True, axis=0)\n",
    "data_2012_2016"
   ]
  },
  {
   "cell_type": "code",
   "execution_count": 38,
   "metadata": {},
   "outputs": [],
   "source": [
    "X = data_2012_2016[['Total_population', 'Income_median', 'Income_per_capita', 'Unemployment_rate',\n",
    "               'Poverty_rate', 'Latitude', 'Longitude', 'median_male_age','median_female_age',\n",
    "              'population_white_alone','population_black_alone', 'population_asian_alone',\n",
    "               'population_hispanic_origin', 'population_american_indian_alone', \n",
    "               'median_house_construction_year']]\n",
    "y = data_2012_2016['winner']\n",
    "from sklearn.model_selection import train_test_split\n",
    "X_train, X_test, y_train, y_test = train_test_split(X, y, test_size=0.3, random_state = 5)"
   ]
  },
  {
   "cell_type": "markdown",
   "metadata": {},
   "source": [
    "* training decision_tree classifier"
   ]
  },
  {
   "cell_type": "code",
   "execution_count": 39,
   "metadata": {},
   "outputs": [
    {
     "data": {
      "text/plain": [
       "<matplotlib.axes._subplots.AxesSubplot at 0x24da2bff2c8>"
      ]
     },
     "execution_count": 39,
     "metadata": {},
     "output_type": "execute_result"
    },
    {
     "data": {
      "image/png": "[encoded data removed]",
      "text/plain": [
       "<Figure size 432x288 with 2 Axes>"
      ]
     },
     "metadata": {
      "needs_background": "light"
     },
     "output_type": "display_data"
    }
   ],
   "source": [
    "from sklearn.tree import DecisionTreeClassifier\n",
    "decision_tree = DecisionTreeClassifier()\n",
    "decision_tree.fit(X_train,y_train)\n",
    "feature_importances = pd.DataFrame(decision_tree.feature_importances_,\n",
    "                                   index = X_train.columns,\n",
    "                                    columns=['importance']).sort_values('importance',ascending=False)\n",
    "feature_importances\n",
    "\n",
    "from sklearn.metrics import classification_report, confusion_matrix\n",
    "\n",
    "# y_predict_train = decision_tree.predict(X_train)\n",
    "# y_predict_train\n",
    "# cm = confusion_matrix(y_train, y_predict_train)\n",
    "# sns.heatmap(cm, annot=True)\n",
    "\n",
    "y_predict_test = decision_tree.predict(X_test)\n",
    "cm = confusion_matrix(y_test, y_predict_test)\n",
    "sns.heatmap(cm, annot=True)"
   ]
  },
  {
   "cell_type": "code",
   "execution_count": 29,
   "metadata": {},
   "outputs": [
    {
     "name": "stdout",
     "output_type": "stream",
     "text": [
      "              precision    recall  f1-score   support\n",
      "\n",
      "    Democrat       0.81      0.81      0.81        16\n",
      "  Republican       0.80      0.80      0.80        15\n",
      "\n",
      "    accuracy                           0.81        31\n",
      "   macro avg       0.81      0.81      0.81        31\n",
      "weighted avg       0.81      0.81      0.81        31\n",
      "\n"
     ]
    }
   ],
   "source": [
    "print(classification_report(y_test, y_predict_test))"
   ]
  },
  {
   "cell_type": "markdown",
   "metadata": {},
   "source": [
    "* Training randomforest classifier"
   ]
  },
  {
   "cell_type": "code",
   "execution_count": 40,
   "metadata": {},
   "outputs": [
    {
     "data": {
      "text/plain": [
       "<matplotlib.axes._subplots.AxesSubplot at 0x24da2cf57c8>"
      ]
     },
     "execution_count": 40,
     "metadata": {},
     "output_type": "execute_result"
    },
    {
     "data": {
      "image/png": "[encoded data removed]",
      "text/plain": [
       "<Figure size 432x288 with 2 Axes>"
      ]
     },
     "metadata": {
      "needs_background": "light"
     },
     "output_type": "display_data"
    }
   ],
   "source": [
    "from sklearn.ensemble import RandomForestClassifier\n",
    "rf_model_master = RandomForestClassifier(n_estimators=100)\n",
    "rf_model_master.fit(X_train, y_train)\n",
    "y_predict_test_master = rf_model_master.predict(X_test)\n",
    "cm = confusion_matrix(y_test, y_predict_test_master)\n",
    "sns.heatmap(cm, annot=True)"
   ]
  },
  {
   "cell_type": "markdown",
   "metadata": {},
   "source": [
    "# Data visualization"
   ]
  },
  {
   "cell_type": "code",
   "execution_count": null,
   "metadata": {},
   "outputs": [],
   "source": []
  }
 ],
 "metadata": {
  "kernelspec": {
   "display_name": "Python 3",
   "language": "python",
   "name": "python3"
  },
  "language_info": {
   "codemirror_mode": {
    "name": "ipython",
    "version": 3
   },
   "file_extension": ".py",
   "mimetype": "text/x-python",
   "name": "python",
   "nbconvert_exporter": "python",
   "pygments_lexer": "ipython3",
   "version": "3.7.4"
  }
 },
 "nbformat": 4,
 "nbformat_minor": 2
}
