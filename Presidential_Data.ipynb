{
 "cells": [
  {
   "cell_type": "code",
   "execution_count": null,
   "metadata": {},
   "outputs": [],
   "source": [
    "import pandas as pd\n"
   ]
  },
  {
   "cell_type": "code",
   "execution_count": null,
   "metadata": {},
   "outputs": [],
   "source": [
    "file = \"Resources/1976-2016-president.tab\"\n",
    "df = pd.read_csv(file,sep='\\t',header=(0))\n",
    "df.tail(40)"
   ]
  },
  {
   "cell_type": "code",
   "execution_count": null,
   "metadata": {},
   "outputs": [],
   "source": [
    "just_write_in = df.loc[df[\"writein\"] == True]\n",
    "just_write_in"
   ]
  },
  {
   "cell_type": "code",
   "execution_count": null,
   "metadata": {},
   "outputs": [],
   "source": [
    "write_in_by_state = just_write_in.groupby(\"state\")\n",
    "write_in_by_state = pd.DataFrame(write_in_by_state[\"candidatevotes\"].sum())\n",
    "sorted_write_in_by_state = write_in_by_state[\"candidatevotes\"].sort_values(ascending=False)\n",
    "sorted_write_in_by_state"
   ]
  },
  {
   "cell_type": "code",
   "execution_count": null,
   "metadata": {},
   "outputs": [],
   "source": [
    "candidate = df.groupby(\"candidate\")\n",
    "temp = candidate.sum()\n",
    "temp[\"% of totalvotes\"] = temp[\"candidatevotes\"]/temp[\"totalvotes\"]\n",
    "temp = pd.DataFrame(temp[\"% of totalvotes\"].sort_values(ascending=False))\n",
    "temp.head(25)"
   ]
  },
  {
   "cell_type": "code",
   "execution_count": null,
   "metadata": {},
   "outputs": [],
   "source": [
    "year_2016 = df.loc[df[\"year\"]==2016]\n",
    "\n",
    "by_candidate_2016 = year_2016.groupby(\"candidate\")\n",
    "total_votes = by_candidate_2016[\"candidatevotes\"].sum().sort_values(ascending=False)\n",
    "total_votes"
   ]
  },
  {
   "cell_type": "code",
   "execution_count": null,
   "metadata": {},
   "outputs": [],
   "source": [
    "year_2012 = df.loc[df[\"year\"]==2012]\n",
    "\n",
    "by_candidate_2012 = year_2012.groupby(\"candidate\")\n",
    "total_votes_2012 = by_candidate_2012[\"candidatevotes\"].sum().sort_values(ascending=False)\n",
    "total_votes_2012"
   ]
  },
  {
   "cell_type": "code",
   "execution_count": null,
   "metadata": {},
   "outputs": [],
   "source": []
  }
 ],
 "metadata": {
  "kernelspec": {
   "display_name": "Python 3",
   "language": "python",
   "name": "python3"
  },
  "language_info": {
   "codemirror_mode": {
    "name": "ipython",
    "version": 3
   },
   "file_extension": ".py",
   "mimetype": "text/x-python",
   "name": "python",
   "nbconvert_exporter": "python",
   "pygments_lexer": "ipython3",
   "version": "3.7.4"
  }
 },
 "nbformat": 4,
 "nbformat_minor": 2
}
